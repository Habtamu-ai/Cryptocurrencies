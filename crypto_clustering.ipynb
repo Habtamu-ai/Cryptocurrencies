{
 "cells": [
  {
   "cell_type": "markdown",
   "metadata": {},
   "source": [
    "# Clustering Crypto"
   ]
  },
  {
   "cell_type": "code",
   "execution_count": 25,
   "metadata": {},
   "outputs": [],
   "source": [
    "# Initial imports\n",
    "import pandas as pd\n",
    "import hvplot.pandas\n",
    "from path import Path\n",
    "import plotly.express as px\n",
    "from sklearn.preprocessing import StandardScaler, MinMaxScaler\n",
    "from sklearn.decomposition import PCA\n",
    "from sklearn.cluster import KMeans\n"
   ]
  },
  {
   "cell_type": "markdown",
   "metadata": {},
   "source": [
    "### Deliverable 1: Preprocessing the Data for PCA"
   ]
  },
  {
   "cell_type": "code",
   "execution_count": 26,
   "metadata": {},
   "outputs": [
    {
     "data": {
      "text/html": [
       "<div>\n",
       "<style scoped>\n",
       "    .dataframe tbody tr th:only-of-type {\n",
       "        vertical-align: middle;\n",
       "    }\n",
       "\n",
       "    .dataframe tbody tr th {\n",
       "        vertical-align: top;\n",
       "    }\n",
       "\n",
       "    .dataframe thead th {\n",
       "        text-align: right;\n",
       "    }\n",
       "</style>\n",
       "<table border=\"1\" class=\"dataframe\">\n",
       "  <thead>\n",
       "    <tr style=\"text-align: right;\">\n",
       "      <th></th>\n",
       "      <th>CoinName</th>\n",
       "      <th>Algorithm</th>\n",
       "      <th>IsTrading</th>\n",
       "      <th>ProofType</th>\n",
       "      <th>TotalCoinsMined</th>\n",
       "      <th>TotalCoinSupply</th>\n",
       "    </tr>\n",
       "  </thead>\n",
       "  <tbody>\n",
       "    <tr>\n",
       "      <th>42</th>\n",
       "      <td>42 Coin</td>\n",
       "      <td>Scrypt</td>\n",
       "      <td>True</td>\n",
       "      <td>PoW/PoS</td>\n",
       "      <td>4.199995e+01</td>\n",
       "      <td>42</td>\n",
       "    </tr>\n",
       "    <tr>\n",
       "      <th>365</th>\n",
       "      <td>365Coin</td>\n",
       "      <td>X11</td>\n",
       "      <td>True</td>\n",
       "      <td>PoW/PoS</td>\n",
       "      <td>NaN</td>\n",
       "      <td>2300000000</td>\n",
       "    </tr>\n",
       "    <tr>\n",
       "      <th>404</th>\n",
       "      <td>404Coin</td>\n",
       "      <td>Scrypt</td>\n",
       "      <td>True</td>\n",
       "      <td>PoW/PoS</td>\n",
       "      <td>1.055185e+09</td>\n",
       "      <td>532000000</td>\n",
       "    </tr>\n",
       "    <tr>\n",
       "      <th>611</th>\n",
       "      <td>SixEleven</td>\n",
       "      <td>SHA-256</td>\n",
       "      <td>True</td>\n",
       "      <td>PoW</td>\n",
       "      <td>NaN</td>\n",
       "      <td>611000</td>\n",
       "    </tr>\n",
       "    <tr>\n",
       "      <th>808</th>\n",
       "      <td>808</td>\n",
       "      <td>SHA-256</td>\n",
       "      <td>True</td>\n",
       "      <td>PoW/PoS</td>\n",
       "      <td>0.000000e+00</td>\n",
       "      <td>0</td>\n",
       "    </tr>\n",
       "    <tr>\n",
       "      <th>1337</th>\n",
       "      <td>EliteCoin</td>\n",
       "      <td>X13</td>\n",
       "      <td>True</td>\n",
       "      <td>PoW/PoS</td>\n",
       "      <td>2.927942e+10</td>\n",
       "      <td>314159265359</td>\n",
       "    </tr>\n",
       "    <tr>\n",
       "      <th>2015</th>\n",
       "      <td>2015 coin</td>\n",
       "      <td>X11</td>\n",
       "      <td>True</td>\n",
       "      <td>PoW/PoS</td>\n",
       "      <td>NaN</td>\n",
       "      <td>0</td>\n",
       "    </tr>\n",
       "    <tr>\n",
       "      <th>BTC</th>\n",
       "      <td>Bitcoin</td>\n",
       "      <td>SHA-256</td>\n",
       "      <td>True</td>\n",
       "      <td>PoW</td>\n",
       "      <td>1.792718e+07</td>\n",
       "      <td>21000000</td>\n",
       "    </tr>\n",
       "    <tr>\n",
       "      <th>ETH</th>\n",
       "      <td>Ethereum</td>\n",
       "      <td>Ethash</td>\n",
       "      <td>True</td>\n",
       "      <td>PoW</td>\n",
       "      <td>1.076842e+08</td>\n",
       "      <td>0</td>\n",
       "    </tr>\n",
       "    <tr>\n",
       "      <th>LTC</th>\n",
       "      <td>Litecoin</td>\n",
       "      <td>Scrypt</td>\n",
       "      <td>True</td>\n",
       "      <td>PoW</td>\n",
       "      <td>6.303924e+07</td>\n",
       "      <td>84000000</td>\n",
       "    </tr>\n",
       "  </tbody>\n",
       "</table>\n",
       "</div>"
      ],
      "text/plain": [
       "       CoinName Algorithm  IsTrading ProofType  TotalCoinsMined  \\\n",
       "42      42 Coin    Scrypt       True   PoW/PoS     4.199995e+01   \n",
       "365     365Coin       X11       True   PoW/PoS              NaN   \n",
       "404     404Coin    Scrypt       True   PoW/PoS     1.055185e+09   \n",
       "611   SixEleven   SHA-256       True       PoW              NaN   \n",
       "808         808   SHA-256       True   PoW/PoS     0.000000e+00   \n",
       "1337  EliteCoin       X13       True   PoW/PoS     2.927942e+10   \n",
       "2015  2015 coin       X11       True   PoW/PoS              NaN   \n",
       "BTC     Bitcoin   SHA-256       True       PoW     1.792718e+07   \n",
       "ETH    Ethereum    Ethash       True       PoW     1.076842e+08   \n",
       "LTC    Litecoin    Scrypt       True       PoW     6.303924e+07   \n",
       "\n",
       "     TotalCoinSupply  \n",
       "42                42  \n",
       "365       2300000000  \n",
       "404        532000000  \n",
       "611           611000  \n",
       "808                0  \n",
       "1337    314159265359  \n",
       "2015               0  \n",
       "BTC         21000000  \n",
       "ETH                0  \n",
       "LTC         84000000  "
      ]
     },
     "execution_count": 26,
     "metadata": {},
     "output_type": "execute_result"
    }
   ],
   "source": [
    "# Load the crypto_data.csv dataset.\n",
    "file_path = \"Resources/crypto_data.csv\"\n",
    "crypto_df = pd.read_csv(file_path, index_col=0, encoding = \"ISO-8859-1\")\n",
    "crypto_df.head(10)"
   ]
  },
  {
   "cell_type": "code",
   "execution_count": 27,
   "metadata": {},
   "outputs": [
    {
     "data": {
      "text/plain": [
       "CoinName            object\n",
       "Algorithm           object\n",
       "IsTrading             bool\n",
       "ProofType           object\n",
       "TotalCoinsMined    float64\n",
       "TotalCoinSupply     object\n",
       "dtype: object"
      ]
     },
     "execution_count": 27,
     "metadata": {},
     "output_type": "execute_result"
    }
   ],
   "source": [
    "# checking data types of dataframe\n",
    "crypto_df.dtypes"
   ]
  },
  {
   "cell_type": "code",
   "execution_count": 28,
   "metadata": {},
   "outputs": [
    {
     "name": "stdout",
     "output_type": "stream",
     "text": [
      "(1144, 6)\n"
     ]
    }
   ],
   "source": [
    "# Keep all the cryptocurrencies that are being traded.\n",
    "crypto_df = crypto_df.loc[crypto_df['IsTrading'] == True]\n",
    "\n",
    "print(crypto_df.shape)\n"
   ]
  },
  {
   "cell_type": "code",
   "execution_count": 29,
   "metadata": {},
   "outputs": [],
   "source": [
    "# Keep all the cryptocurrencies that have a working algorithm.\n",
    "crypto_df = crypto_df.dropna(subset=['Algorithm'])\n"
   ]
  },
  {
   "cell_type": "code",
   "execution_count": 30,
   "metadata": {},
   "outputs": [
    {
     "name": "stdout",
     "output_type": "stream",
     "text": [
      "(1144, 5)\n"
     ]
    },
    {
     "data": {
      "text/html": [
       "<div>\n",
       "<style scoped>\n",
       "    .dataframe tbody tr th:only-of-type {\n",
       "        vertical-align: middle;\n",
       "    }\n",
       "\n",
       "    .dataframe tbody tr th {\n",
       "        vertical-align: top;\n",
       "    }\n",
       "\n",
       "    .dataframe thead th {\n",
       "        text-align: right;\n",
       "    }\n",
       "</style>\n",
       "<table border=\"1\" class=\"dataframe\">\n",
       "  <thead>\n",
       "    <tr style=\"text-align: right;\">\n",
       "      <th></th>\n",
       "      <th>CoinName</th>\n",
       "      <th>Algorithm</th>\n",
       "      <th>ProofType</th>\n",
       "      <th>TotalCoinsMined</th>\n",
       "      <th>TotalCoinSupply</th>\n",
       "    </tr>\n",
       "  </thead>\n",
       "  <tbody>\n",
       "    <tr>\n",
       "      <th>42</th>\n",
       "      <td>42 Coin</td>\n",
       "      <td>Scrypt</td>\n",
       "      <td>PoW/PoS</td>\n",
       "      <td>4.199995e+01</td>\n",
       "      <td>42</td>\n",
       "    </tr>\n",
       "    <tr>\n",
       "      <th>365</th>\n",
       "      <td>365Coin</td>\n",
       "      <td>X11</td>\n",
       "      <td>PoW/PoS</td>\n",
       "      <td>NaN</td>\n",
       "      <td>2300000000</td>\n",
       "    </tr>\n",
       "    <tr>\n",
       "      <th>404</th>\n",
       "      <td>404Coin</td>\n",
       "      <td>Scrypt</td>\n",
       "      <td>PoW/PoS</td>\n",
       "      <td>1.055185e+09</td>\n",
       "      <td>532000000</td>\n",
       "    </tr>\n",
       "    <tr>\n",
       "      <th>611</th>\n",
       "      <td>SixEleven</td>\n",
       "      <td>SHA-256</td>\n",
       "      <td>PoW</td>\n",
       "      <td>NaN</td>\n",
       "      <td>611000</td>\n",
       "    </tr>\n",
       "    <tr>\n",
       "      <th>808</th>\n",
       "      <td>808</td>\n",
       "      <td>SHA-256</td>\n",
       "      <td>PoW/PoS</td>\n",
       "      <td>0.000000e+00</td>\n",
       "      <td>0</td>\n",
       "    </tr>\n",
       "    <tr>\n",
       "      <th>1337</th>\n",
       "      <td>EliteCoin</td>\n",
       "      <td>X13</td>\n",
       "      <td>PoW/PoS</td>\n",
       "      <td>2.927942e+10</td>\n",
       "      <td>314159265359</td>\n",
       "    </tr>\n",
       "    <tr>\n",
       "      <th>2015</th>\n",
       "      <td>2015 coin</td>\n",
       "      <td>X11</td>\n",
       "      <td>PoW/PoS</td>\n",
       "      <td>NaN</td>\n",
       "      <td>0</td>\n",
       "    </tr>\n",
       "    <tr>\n",
       "      <th>BTC</th>\n",
       "      <td>Bitcoin</td>\n",
       "      <td>SHA-256</td>\n",
       "      <td>PoW</td>\n",
       "      <td>1.792718e+07</td>\n",
       "      <td>21000000</td>\n",
       "    </tr>\n",
       "    <tr>\n",
       "      <th>ETH</th>\n",
       "      <td>Ethereum</td>\n",
       "      <td>Ethash</td>\n",
       "      <td>PoW</td>\n",
       "      <td>1.076842e+08</td>\n",
       "      <td>0</td>\n",
       "    </tr>\n",
       "    <tr>\n",
       "      <th>LTC</th>\n",
       "      <td>Litecoin</td>\n",
       "      <td>Scrypt</td>\n",
       "      <td>PoW</td>\n",
       "      <td>6.303924e+07</td>\n",
       "      <td>84000000</td>\n",
       "    </tr>\n",
       "  </tbody>\n",
       "</table>\n",
       "</div>"
      ],
      "text/plain": [
       "       CoinName Algorithm ProofType  TotalCoinsMined TotalCoinSupply\n",
       "42      42 Coin    Scrypt   PoW/PoS     4.199995e+01              42\n",
       "365     365Coin       X11   PoW/PoS              NaN      2300000000\n",
       "404     404Coin    Scrypt   PoW/PoS     1.055185e+09       532000000\n",
       "611   SixEleven   SHA-256       PoW              NaN          611000\n",
       "808         808   SHA-256   PoW/PoS     0.000000e+00               0\n",
       "1337  EliteCoin       X13   PoW/PoS     2.927942e+10    314159265359\n",
       "2015  2015 coin       X11   PoW/PoS              NaN               0\n",
       "BTC     Bitcoin   SHA-256       PoW     1.792718e+07        21000000\n",
       "ETH    Ethereum    Ethash       PoW     1.076842e+08               0\n",
       "LTC    Litecoin    Scrypt       PoW     6.303924e+07        84000000"
      ]
     },
     "execution_count": 30,
     "metadata": {},
     "output_type": "execute_result"
    }
   ],
   "source": [
    "# Remove the \"IsTrading\" column. \n",
    "#crypto_df1.drop(columns = [\"IsTrading\"], inplace=True)\n",
    "crypto_df= crypto_df.drop(columns=['IsTrading'])\n",
    "print(crypto_df.shape)\n",
    "crypto_df.head(10)"
   ]
  },
  {
   "cell_type": "code",
   "execution_count": 12,
   "metadata": {},
   "outputs": [
    {
     "data": {
      "text/plain": [
       "(1144, 5)"
      ]
     },
     "execution_count": 12,
     "metadata": {},
     "output_type": "execute_result"
    }
   ],
   "source": [
    "crypto_df.shape"
   ]
  },
  {
   "cell_type": "code",
   "execution_count": 13,
   "metadata": {},
   "outputs": [
    {
     "data": {
      "text/html": [
       "<div>\n",
       "<style scoped>\n",
       "    .dataframe tbody tr th:only-of-type {\n",
       "        vertical-align: middle;\n",
       "    }\n",
       "\n",
       "    .dataframe tbody tr th {\n",
       "        vertical-align: top;\n",
       "    }\n",
       "\n",
       "    .dataframe thead th {\n",
       "        text-align: right;\n",
       "    }\n",
       "</style>\n",
       "<table border=\"1\" class=\"dataframe\">\n",
       "  <thead>\n",
       "    <tr style=\"text-align: right;\">\n",
       "      <th></th>\n",
       "      <th>CoinName</th>\n",
       "      <th>Algorithm</th>\n",
       "      <th>ProofType</th>\n",
       "      <th>TotalCoinsMined</th>\n",
       "      <th>TotalCoinSupply</th>\n",
       "    </tr>\n",
       "  </thead>\n",
       "  <tbody>\n",
       "    <tr>\n",
       "      <th>42</th>\n",
       "      <td>42 Coin</td>\n",
       "      <td>Scrypt</td>\n",
       "      <td>PoW/PoS</td>\n",
       "      <td>4.199995e+01</td>\n",
       "      <td>42</td>\n",
       "    </tr>\n",
       "    <tr>\n",
       "      <th>404</th>\n",
       "      <td>404Coin</td>\n",
       "      <td>Scrypt</td>\n",
       "      <td>PoW/PoS</td>\n",
       "      <td>1.055185e+09</td>\n",
       "      <td>532000000</td>\n",
       "    </tr>\n",
       "    <tr>\n",
       "      <th>808</th>\n",
       "      <td>808</td>\n",
       "      <td>SHA-256</td>\n",
       "      <td>PoW/PoS</td>\n",
       "      <td>0.000000e+00</td>\n",
       "      <td>0</td>\n",
       "    </tr>\n",
       "    <tr>\n",
       "      <th>1337</th>\n",
       "      <td>EliteCoin</td>\n",
       "      <td>X13</td>\n",
       "      <td>PoW/PoS</td>\n",
       "      <td>2.927942e+10</td>\n",
       "      <td>314159265359</td>\n",
       "    </tr>\n",
       "    <tr>\n",
       "      <th>BTC</th>\n",
       "      <td>Bitcoin</td>\n",
       "      <td>SHA-256</td>\n",
       "      <td>PoW</td>\n",
       "      <td>1.792718e+07</td>\n",
       "      <td>21000000</td>\n",
       "    </tr>\n",
       "    <tr>\n",
       "      <th>...</th>\n",
       "      <td>...</td>\n",
       "      <td>...</td>\n",
       "      <td>...</td>\n",
       "      <td>...</td>\n",
       "      <td>...</td>\n",
       "    </tr>\n",
       "    <tr>\n",
       "      <th>ZEPH</th>\n",
       "      <td>ZEPHYR</td>\n",
       "      <td>SHA-256</td>\n",
       "      <td>DPoS</td>\n",
       "      <td>2.000000e+09</td>\n",
       "      <td>2000000000</td>\n",
       "    </tr>\n",
       "    <tr>\n",
       "      <th>GAP</th>\n",
       "      <td>Gapcoin</td>\n",
       "      <td>Scrypt</td>\n",
       "      <td>PoW/PoS</td>\n",
       "      <td>1.493105e+07</td>\n",
       "      <td>250000000</td>\n",
       "    </tr>\n",
       "    <tr>\n",
       "      <th>BDX</th>\n",
       "      <td>Beldex</td>\n",
       "      <td>CryptoNight</td>\n",
       "      <td>PoW</td>\n",
       "      <td>9.802226e+08</td>\n",
       "      <td>1400222610</td>\n",
       "    </tr>\n",
       "    <tr>\n",
       "      <th>ZEN</th>\n",
       "      <td>Horizen</td>\n",
       "      <td>Equihash</td>\n",
       "      <td>PoW</td>\n",
       "      <td>7.296538e+06</td>\n",
       "      <td>21000000</td>\n",
       "    </tr>\n",
       "    <tr>\n",
       "      <th>XBC</th>\n",
       "      <td>BitcoinPlus</td>\n",
       "      <td>Scrypt</td>\n",
       "      <td>PoS</td>\n",
       "      <td>1.283270e+05</td>\n",
       "      <td>1000000</td>\n",
       "    </tr>\n",
       "  </tbody>\n",
       "</table>\n",
       "<p>685 rows × 5 columns</p>\n",
       "</div>"
      ],
      "text/plain": [
       "         CoinName    Algorithm ProofType  TotalCoinsMined TotalCoinSupply\n",
       "42        42 Coin       Scrypt   PoW/PoS     4.199995e+01              42\n",
       "404       404Coin       Scrypt   PoW/PoS     1.055185e+09       532000000\n",
       "808           808      SHA-256   PoW/PoS     0.000000e+00               0\n",
       "1337    EliteCoin          X13   PoW/PoS     2.927942e+10    314159265359\n",
       "BTC       Bitcoin      SHA-256       PoW     1.792718e+07        21000000\n",
       "...           ...          ...       ...              ...             ...\n",
       "ZEPH       ZEPHYR      SHA-256      DPoS     2.000000e+09      2000000000\n",
       "GAP       Gapcoin       Scrypt   PoW/PoS     1.493105e+07       250000000\n",
       "BDX        Beldex  CryptoNight       PoW     9.802226e+08      1400222610\n",
       "ZEN       Horizen     Equihash       PoW     7.296538e+06        21000000\n",
       "XBC   BitcoinPlus       Scrypt       PoS     1.283270e+05         1000000\n",
       "\n",
       "[685 rows x 5 columns]"
      ]
     },
     "execution_count": 13,
     "metadata": {},
     "output_type": "execute_result"
    }
   ],
   "source": [
    "# Remove rows that have at least 1 null value.\n",
    "crypto_df.dropna()"
   ]
  },
  {
   "cell_type": "code",
   "execution_count": 14,
   "metadata": {},
   "outputs": [
    {
     "data": {
      "text/plain": [
       "(532, 5)"
      ]
     },
     "execution_count": 14,
     "metadata": {},
     "output_type": "execute_result"
    }
   ],
   "source": [
    "# Keep the rows where coins are mined.\n",
    "crypto_df = crypto_df[crypto_df.TotalCoinsMined > 0] \n",
    "crypto_df.shape"
   ]
  },
  {
   "cell_type": "code",
   "execution_count": 33,
   "metadata": {},
   "outputs": [
    {
     "data": {
      "text/html": [
       "<div>\n",
       "<style scoped>\n",
       "    .dataframe tbody tr th:only-of-type {\n",
       "        vertical-align: middle;\n",
       "    }\n",
       "\n",
       "    .dataframe tbody tr th {\n",
       "        vertical-align: top;\n",
       "    }\n",
       "\n",
       "    .dataframe thead th {\n",
       "        text-align: right;\n",
       "    }\n",
       "</style>\n",
       "<table border=\"1\" class=\"dataframe\">\n",
       "  <thead>\n",
       "    <tr style=\"text-align: right;\">\n",
       "      <th></th>\n",
       "      <th>CoinName</th>\n",
       "    </tr>\n",
       "  </thead>\n",
       "  <tbody>\n",
       "    <tr>\n",
       "      <th>42</th>\n",
       "      <td>42 Coin</td>\n",
       "    </tr>\n",
       "    <tr>\n",
       "      <th>365</th>\n",
       "      <td>365Coin</td>\n",
       "    </tr>\n",
       "    <tr>\n",
       "      <th>404</th>\n",
       "      <td>404Coin</td>\n",
       "    </tr>\n",
       "    <tr>\n",
       "      <th>611</th>\n",
       "      <td>SixEleven</td>\n",
       "    </tr>\n",
       "    <tr>\n",
       "      <th>808</th>\n",
       "      <td>808</td>\n",
       "    </tr>\n",
       "  </tbody>\n",
       "</table>\n",
       "</div>"
      ],
      "text/plain": [
       "      CoinName\n",
       "42     42 Coin\n",
       "365    365Coin\n",
       "404    404Coin\n",
       "611  SixEleven\n",
       "808        808"
      ]
     },
     "execution_count": 33,
     "metadata": {},
     "output_type": "execute_result"
    }
   ],
   "source": [
    "# Create a new DataFrame that holds only the cryptocurrencies names.\n",
    "# YOUR CODE HERE??\n",
    "crypto_name_df=crypto_df[['CoinName']]\n",
    "crypto_name_df.head()"
   ]
  },
  {
   "cell_type": "code",
   "execution_count": 16,
   "metadata": {},
   "outputs": [],
   "source": [
    "# Drop the 'CoinName' column since it's not going to be used on the clustering algorithm.\n",
    "# YOUR CODE HERE\n",
    "crypto_df= crypto_df.drop(columns=['CoinName'])\n"
   ]
  },
  {
   "cell_type": "code",
   "execution_count": 17,
   "metadata": {},
   "outputs": [],
   "source": [
    "# Use get_dummies() to create variables for text features.\n",
    "X_df = pd.get_dummies(crypto_df, columns=[\"Algorithm\", \"ProofType\"])\n"
   ]
  },
  {
   "cell_type": "code",
   "execution_count": 19,
   "metadata": {},
   "outputs": [],
   "source": [
    "# Standardize the data with StandardScaler().\n",
    "X_scaled = StandardScaler().fit_transform(X_df)\n",
    "#print(x_scaled[0:5])"
   ]
  },
  {
   "cell_type": "markdown",
   "metadata": {},
   "source": [
    "### Deliverable 2: Reducing Data Dimensions Using PCA"
   ]
  },
  {
   "cell_type": "code",
   "execution_count": 20,
   "metadata": {},
   "outputs": [],
   "source": [
    "# Using PCA to reduce dimension to three principal components.\n",
    "pca = PCA(n_components=3)"
   ]
  },
  {
   "cell_type": "code",
   "execution_count": 22,
   "metadata": {},
   "outputs": [],
   "source": [
    "# Create a DataFrame with the three principal components.\n",
    "crypto_pca = pca.fit_transform(X_scaled)\n",
    "#crypto_pca"
   ]
  },
  {
   "cell_type": "code",
   "execution_count": 24,
   "metadata": {},
   "outputs": [],
   "source": [
    "#Transform PCA data too a DataFrame\n",
    "crypto_pca_df = pd.DataFrame(data= crypto_pca, columns= [\"PC1\",\"PC2\",\"PC3\"]).set_index(X_df.index,drop=False)\n",
    "#crypto_pca_df"
   ]
  },
  {
   "cell_type": "markdown",
   "metadata": {},
   "source": [
    "### Deliverable 3: Clustering Crytocurrencies Using K-Means\n",
    "\n",
    "#### Finding the Best Value for `k` Using the Elbow Curve"
   ]
  },
  {
   "cell_type": "code",
   "execution_count": 37,
   "metadata": {},
   "outputs": [
    {
     "data": {},
     "metadata": {},
     "output_type": "display_data"
    },
    {
     "data": {
      "application/vnd.holoviews_exec.v0+json": "",
      "text/html": [
       "<div id='1001'>\n",
       "\n",
       "\n",
       "\n",
       "\n",
       "\n",
       "  <div class=\"bk-root\" id=\"d9ad4581-34b9-45eb-acb9-f3d0034be515\" data-root-id=\"1001\"></div>\n",
       "</div>\n",
       "<script type=\"application/javascript\">(function(root) {\n",
       "  function embed_document(root) {\n",
       "    var docs_json = {\"061fb894-8846-4f5e-afef-abde6049258d\":{\"roots\":{\"references\":[{\"attributes\":{\"line_color\":\"#30a2da\",\"line_width\":2,\"x\":{\"field\":\"k\"},\"y\":{\"field\":\"inertia\"}},\"id\":\"1039\",\"type\":\"Line\"},{\"attributes\":{\"line_alpha\":0.1,\"line_color\":\"#30a2da\",\"line_width\":2,\"x\":{\"field\":\"k\"},\"y\":{\"field\":\"inertia\"}},\"id\":\"1040\",\"type\":\"Line\"},{\"attributes\":{\"margin\":[5,5,5,5],\"name\":\"HSpacer01538\",\"sizing_mode\":\"stretch_width\"},\"id\":\"1065\",\"type\":\"Spacer\"},{\"attributes\":{},\"id\":\"1037\",\"type\":\"Selection\"},{\"attributes\":{\"below\":[{\"id\":\"1015\"}],\"center\":[{\"id\":\"1018\"},{\"id\":\"1022\"}],\"left\":[{\"id\":\"1019\"}],\"margin\":[5,5,5,5],\"min_border_bottom\":10,\"min_border_left\":10,\"min_border_right\":10,\"min_border_top\":10,\"plot_height\":300,\"plot_width\":700,\"renderers\":[{\"id\":\"1042\"}],\"sizing_mode\":\"fixed\",\"title\":{\"id\":\"1007\"},\"toolbar\":{\"id\":\"1029\"},\"x_range\":{\"id\":\"1003\"},\"x_scale\":{\"id\":\"1011\"},\"y_range\":{\"id\":\"1004\"},\"y_scale\":{\"id\":\"1013\"}},\"id\":\"1006\",\"subtype\":\"Figure\",\"type\":\"Plot\"},{\"attributes\":{\"data_source\":{\"id\":\"1036\"},\"glyph\":{\"id\":\"1039\"},\"hover_glyph\":null,\"muted_glyph\":{\"id\":\"1041\"},\"nonselection_glyph\":{\"id\":\"1040\"},\"selection_glyph\":null,\"view\":{\"id\":\"1043\"}},\"id\":\"1042\",\"type\":\"GlyphRenderer\"},{\"attributes\":{},\"id\":\"1056\",\"type\":\"UnionRenderers\"},{\"attributes\":{\"end\":3995.260294601407,\"reset_end\":3995.260294601407,\"reset_start\":-268.89438904923344,\"start\":-268.89438904923344,\"tags\":[[[\"inertia\",\"inertia\",null]]]},\"id\":\"1004\",\"type\":\"Range1d\"},{\"attributes\":{\"source\":{\"id\":\"1036\"}},\"id\":\"1043\",\"type\":\"CDSView\"},{\"attributes\":{\"line_alpha\":0.2,\"line_color\":\"#30a2da\",\"line_width\":2,\"x\":{\"field\":\"k\"},\"y\":{\"field\":\"inertia\"}},\"id\":\"1041\",\"type\":\"Line\"},{\"attributes\":{\"ticks\":[1,2,3,4,5,6,7,8,9,10]},\"id\":\"1044\",\"type\":\"FixedTicker\"},{\"attributes\":{},\"id\":\"1013\",\"type\":\"LinearScale\"},{\"attributes\":{\"bottom_units\":\"screen\",\"fill_alpha\":0.5,\"fill_color\":\"lightgrey\",\"left_units\":\"screen\",\"level\":\"overlay\",\"line_alpha\":1.0,\"line_color\":\"black\",\"line_dash\":[4,4],\"line_width\":2,\"right_units\":\"screen\",\"top_units\":\"screen\"},\"id\":\"1028\",\"type\":\"BoxAnnotation\"},{\"attributes\":{\"margin\":[5,5,5,5],\"name\":\"HSpacer01537\",\"sizing_mode\":\"stretch_width\"},\"id\":\"1002\",\"type\":\"Spacer\"},{\"attributes\":{\"text\":\"Elbow Curve\",\"text_color\":{\"value\":\"black\"},\"text_font_size\":{\"value\":\"12pt\"}},\"id\":\"1007\",\"type\":\"Title\"},{\"attributes\":{\"callback\":null,\"renderers\":[{\"id\":\"1042\"}],\"tags\":[\"hv_created\"],\"tooltips\":[[\"k\",\"@{k}\"],[\"inertia\",\"@{inertia}\"]]},\"id\":\"1005\",\"type\":\"HoverTool\"},{\"attributes\":{},\"id\":\"1049\",\"type\":\"BasicTickFormatter\"},{\"attributes\":{},\"id\":\"1011\",\"type\":\"LinearScale\"},{\"attributes\":{\"end\":10.0,\"reset_end\":10.0,\"reset_start\":1.0,\"start\":1.0,\"tags\":[[[\"k\",\"k\",null]]]},\"id\":\"1003\",\"type\":\"Range1d\"},{\"attributes\":{\"axis\":{\"id\":\"1015\"},\"grid_line_color\":null,\"ticker\":null},\"id\":\"1018\",\"type\":\"Grid\"},{\"attributes\":{},\"id\":\"1024\",\"type\":\"PanTool\"},{\"attributes\":{\"axis_label\":\"k\",\"bounds\":\"auto\",\"formatter\":{\"id\":\"1045\"},\"major_label_orientation\":\"horizontal\",\"ticker\":{\"id\":\"1044\"}},\"id\":\"1015\",\"type\":\"LinearAxis\"},{\"attributes\":{\"axis\":{\"id\":\"1019\"},\"dimension\":1,\"grid_line_color\":null,\"ticker\":null},\"id\":\"1022\",\"type\":\"Grid\"},{\"attributes\":{},\"id\":\"1045\",\"type\":\"BasicTickFormatter\"},{\"attributes\":{\"children\":[{\"id\":\"1002\"},{\"id\":\"1006\"},{\"id\":\"1065\"}],\"margin\":[0,0,0,0],\"name\":\"Row01533\",\"tags\":[\"embedded\"]},\"id\":\"1001\",\"type\":\"Row\"},{\"attributes\":{\"axis_label\":\"inertia\",\"bounds\":\"auto\",\"formatter\":{\"id\":\"1049\"},\"major_label_orientation\":\"horizontal\",\"ticker\":{\"id\":\"1020\"}},\"id\":\"1019\",\"type\":\"LinearAxis\"},{\"attributes\":{},\"id\":\"1020\",\"type\":\"BasicTicker\"},{\"attributes\":{},\"id\":\"1025\",\"type\":\"WheelZoomTool\"},{\"attributes\":{},\"id\":\"1027\",\"type\":\"ResetTool\"},{\"attributes\":{},\"id\":\"1023\",\"type\":\"SaveTool\"},{\"attributes\":{\"data\":{\"inertia\":{\"__ndarray__\":\"8/8bAdRvrEAW9uapp0qjQMdaDwu+IJdACLvpUKJSe0BlxWTh1vxwQMMaR/xT2GlAWOBQ0Q5sY0Dvx3Z8RU9gQH0C2NM4lVtASwKf2+qcVUA=\",\"dtype\":\"float64\",\"order\":\"little\",\"shape\":[10]},\"k\":[1,2,3,4,5,6,7,8,9,10]},\"selected\":{\"id\":\"1037\"},\"selection_policy\":{\"id\":\"1056\"}},\"id\":\"1036\",\"type\":\"ColumnDataSource\"},{\"attributes\":{\"active_drag\":\"auto\",\"active_inspect\":\"auto\",\"active_multi\":null,\"active_scroll\":\"auto\",\"active_tap\":\"auto\",\"tools\":[{\"id\":\"1005\"},{\"id\":\"1023\"},{\"id\":\"1024\"},{\"id\":\"1025\"},{\"id\":\"1026\"},{\"id\":\"1027\"}]},\"id\":\"1029\",\"type\":\"Toolbar\"},{\"attributes\":{\"overlay\":{\"id\":\"1028\"}},\"id\":\"1026\",\"type\":\"BoxZoomTool\"}],\"root_ids\":[\"1001\"]},\"title\":\"Bokeh Application\",\"version\":\"2.2.3\"}};\n",
       "    var render_items = [{\"docid\":\"061fb894-8846-4f5e-afef-abde6049258d\",\"root_ids\":[\"1001\"],\"roots\":{\"1001\":\"d9ad4581-34b9-45eb-acb9-f3d0034be515\"}}];\n",
       "    root.Bokeh.embed.embed_items_notebook(docs_json, render_items);\n",
       "  }\n",
       "  if (root.Bokeh !== undefined && root.Bokeh.Panel !== undefined) {\n",
       "    embed_document(root);\n",
       "  } else {\n",
       "    var attempts = 0;\n",
       "    var timer = setInterval(function(root) {\n",
       "      if (root.Bokeh !== undefined && root.Bokeh.Panel !== undefined) {\n",
       "        clearInterval(timer);\n",
       "        embed_document(root);\n",
       "      } else if (document.readyState == \"complete\") {\n",
       "        attempts++;\n",
       "        if (attempts > 100) {\n",
       "          clearInterval(timer);\n",
       "          console.log(\"Bokeh: ERROR: Unable to run BokehJS code because BokehJS library is missing\");\n",
       "        }\n",
       "      }\n",
       "    }, 10, root)\n",
       "  }\n",
       "})(window);</script>"
      ],
      "text/plain": [
       ":Curve   [k]   (inertia)"
      ]
     },
     "execution_count": 37,
     "metadata": {
      "application/vnd.holoviews_exec.v0+json": {
       "id": "1001"
      }
     },
     "output_type": "execute_result"
    }
   ],
   "source": [
    "# Create an elbow curve to find the best value for K.\n",
    "\n",
    "# Initialize empty inertia list\n",
    "inertia = []\n",
    "# Initialize k range\n",
    "k = list(range(1,11))\n",
    "# Looping through k list\n",
    "for i in k:\n",
    "    km = KMeans(n_clusters=i, random_state=0)\n",
    "    km.fit(crypto_pca_df)\n",
    "    inertia.append(km.inertia_)\n",
    "\n",
    "# Define a DataFrame to plot the Elbow Curve using hvPlot\n",
    "elbow_data = {\"k\": k, \"inertia\": inertia}\n",
    "elbow_df = pd.DataFrame(elbow_data)\n",
    "elbow_df.hvplot.line(x=\"k\", y=\"inertia\", title=\"Elbow Curve\", xticks=k)\n"
   ]
  },
  {
   "cell_type": "markdown",
   "metadata": {},
   "source": [
    "Running K-Means with `k=4`"
   ]
  },
  {
   "cell_type": "code",
   "execution_count": 32,
   "metadata": {},
   "outputs": [
    {
     "data": {
      "text/plain": [
       "array([1, 1, 1, 0, 0, 0, 1, 0, 0, 0, 1, 0, 1, 1, 0, 1, 0, 0, 1, 1, 0, 0,\n",
       "       0, 0, 0, 1, 0, 0, 0, 1, 0, 1, 0, 0, 1, 1, 0, 0, 0, 0, 0, 0, 1, 1,\n",
       "       0, 0, 0, 0, 0, 1, 1, 0, 1, 0, 0, 0, 0, 1, 0, 0, 1, 0, 1, 1, 1, 0,\n",
       "       0, 0, 1, 1, 1, 1, 1, 0, 0, 0, 1, 1, 0, 1, 0, 1, 1, 0, 0, 0, 0, 1,\n",
       "       1, 0, 1, 0, 0, 1, 1, 0, 1, 1, 0, 0, 1, 1, 0, 1, 1, 0, 1, 0, 1, 0,\n",
       "       1, 0, 1, 1, 0, 0, 1, 0, 0, 0, 1, 0, 0, 0, 0, 0, 1, 1, 0, 0, 0, 1,\n",
       "       0, 1, 0, 0, 1, 0, 1, 0, 1, 1, 0, 0, 1, 0, 0, 1, 1, 0, 1, 0, 1, 1,\n",
       "       1, 0, 0, 0, 0, 1, 1, 1, 1, 1, 0, 0, 1, 1, 1, 1, 1, 0, 1, 1, 1, 1,\n",
       "       1, 0, 1, 0, 1, 1, 0, 1, 0, 1, 1, 0, 1, 0, 1, 0, 1, 0, 1, 1, 1, 1,\n",
       "       0, 1, 1, 1, 1, 1, 0, 0, 1, 1, 0, 0, 1, 1, 1, 1, 1, 0, 1, 1, 1, 1,\n",
       "       1, 1, 1, 1, 0, 1, 1, 1, 1, 1, 1, 0, 0, 0, 1, 1, 1, 1, 0, 1, 0, 1,\n",
       "       1, 0, 1, 0, 0, 1, 0, 0, 1, 0, 1, 1, 1, 0, 1, 1, 0, 1, 1, 1, 1, 1,\n",
       "       1, 1, 0, 1, 0, 1, 1, 1, 1, 0, 1, 0, 1, 0, 0, 0, 0, 1, 0, 1, 1, 0,\n",
       "       1, 0, 0, 0, 1, 0, 1, 0, 0, 0, 1, 0, 1, 0, 1, 1, 3, 0, 1, 0, 0, 0,\n",
       "       0, 0, 1, 1, 0, 1, 1, 1, 0, 1, 0, 1, 0, 1, 0, 1, 1, 1, 1, 0, 1, 1,\n",
       "       0, 1, 1, 1, 0, 0, 0, 0, 1, 1, 1, 1, 0, 1, 0, 0, 0, 1, 1, 0, 0, 1,\n",
       "       1, 0, 1, 0, 0, 0, 1, 0, 0, 1, 1, 1, 0, 0, 0, 1, 0, 1, 0, 0, 1, 0,\n",
       "       0, 0, 0, 1, 3, 3, 0, 0, 0, 1, 3, 1, 1, 1, 1, 0, 0, 0, 0, 1, 1, 1,\n",
       "       0, 1, 0, 1, 1, 1, 1, 0, 1, 1, 0, 1, 1, 0, 0, 1, 0, 1, 0, 0, 0, 0,\n",
       "       1, 1, 0, 1, 0, 1, 1, 1, 1, 1, 1, 0, 0, 0, 1, 1, 1, 1, 1, 1, 0, 1,\n",
       "       0, 0, 0, 0, 1, 1, 1, 1, 0, 1, 1, 0, 1, 1, 0, 3, 0, 1, 0, 0, 1, 1,\n",
       "       0, 1, 0, 0, 0, 0, 0, 1, 0, 1, 0, 1, 1, 0, 1, 1, 1, 1, 1, 0, 0, 0,\n",
       "       1, 1, 1, 0, 1, 0, 1, 0, 1, 1, 1, 1, 0, 1, 1, 1, 0, 1, 0, 1, 0, 1,\n",
       "       1, 1, 0, 0, 1, 1, 1, 1, 1, 1, 0, 1, 0, 1, 0, 1, 1, 3, 1, 2, 1, 1,\n",
       "       1, 0, 0, 1])"
      ]
     },
     "execution_count": 32,
     "metadata": {},
     "output_type": "execute_result"
    }
   ],
   "source": [
    "# Initialize the K-Means model.\n",
    "model = KMeans(n_clusters=4, random_state=0)\n",
    "\n",
    "# Fit the model\n",
    "model.fit(crypto_pca_df)\n",
    "\n",
    "# Predict clusters\n",
    "predictions = model.predict(crypto_pca_df)\n",
    "predictions"
   ]
  },
  {
   "cell_type": "code",
   "execution_count": 35,
   "metadata": {},
   "outputs": [
    {
     "name": "stdout",
     "output_type": "stream",
     "text": [
      "(532, 9)\n"
     ]
    },
    {
     "data": {
      "text/html": [
       "<div>\n",
       "<style scoped>\n",
       "    .dataframe tbody tr th:only-of-type {\n",
       "        vertical-align: middle;\n",
       "    }\n",
       "\n",
       "    .dataframe tbody tr th {\n",
       "        vertical-align: top;\n",
       "    }\n",
       "\n",
       "    .dataframe thead th {\n",
       "        text-align: right;\n",
       "    }\n",
       "</style>\n",
       "<table border=\"1\" class=\"dataframe\">\n",
       "  <thead>\n",
       "    <tr style=\"text-align: right;\">\n",
       "      <th></th>\n",
       "      <th>CoinName</th>\n",
       "      <th>Algorithm</th>\n",
       "      <th>ProofType</th>\n",
       "      <th>TotalCoinsMined</th>\n",
       "      <th>TotalCoinSupply</th>\n",
       "      <th>PC1</th>\n",
       "      <th>PC2</th>\n",
       "      <th>PC3</th>\n",
       "      <th>Class</th>\n",
       "    </tr>\n",
       "  </thead>\n",
       "  <tbody>\n",
       "    <tr>\n",
       "      <th>42</th>\n",
       "      <td>42 Coin</td>\n",
       "      <td>Scrypt</td>\n",
       "      <td>PoW/PoS</td>\n",
       "      <td>4.199995e+01</td>\n",
       "      <td>42</td>\n",
       "      <td>-0.348251</td>\n",
       "      <td>1.048746</td>\n",
       "      <td>-0.528265</td>\n",
       "      <td>1</td>\n",
       "    </tr>\n",
       "    <tr>\n",
       "      <th>404</th>\n",
       "      <td>404Coin</td>\n",
       "      <td>Scrypt</td>\n",
       "      <td>PoW/PoS</td>\n",
       "      <td>1.055185e+09</td>\n",
       "      <td>532000000</td>\n",
       "      <td>-0.331557</td>\n",
       "      <td>1.048792</td>\n",
       "      <td>-0.528994</td>\n",
       "      <td>1</td>\n",
       "    </tr>\n",
       "    <tr>\n",
       "      <th>1337</th>\n",
       "      <td>EliteCoin</td>\n",
       "      <td>X13</td>\n",
       "      <td>PoW/PoS</td>\n",
       "      <td>2.927942e+10</td>\n",
       "      <td>314159265359</td>\n",
       "      <td>2.301105</td>\n",
       "      <td>1.525853</td>\n",
       "      <td>-0.705937</td>\n",
       "      <td>1</td>\n",
       "    </tr>\n",
       "    <tr>\n",
       "      <th>BTC</th>\n",
       "      <td>Bitcoin</td>\n",
       "      <td>SHA-256</td>\n",
       "      <td>PoW</td>\n",
       "      <td>1.792718e+07</td>\n",
       "      <td>21000000</td>\n",
       "      <td>-0.149578</td>\n",
       "      <td>-1.394769</td>\n",
       "      <td>0.168364</td>\n",
       "      <td>0</td>\n",
       "    </tr>\n",
       "    <tr>\n",
       "      <th>ETH</th>\n",
       "      <td>Ethereum</td>\n",
       "      <td>Ethash</td>\n",
       "      <td>PoW</td>\n",
       "      <td>1.076842e+08</td>\n",
       "      <td>0</td>\n",
       "      <td>-0.155302</td>\n",
       "      <td>-2.071355</td>\n",
       "      <td>0.384252</td>\n",
       "      <td>0</td>\n",
       "    </tr>\n",
       "    <tr>\n",
       "      <th>LTC</th>\n",
       "      <td>Litecoin</td>\n",
       "      <td>Scrypt</td>\n",
       "      <td>PoW</td>\n",
       "      <td>6.303924e+07</td>\n",
       "      <td>84000000</td>\n",
       "      <td>-0.172011</td>\n",
       "      <td>-1.072918</td>\n",
       "      <td>0.022977</td>\n",
       "      <td>0</td>\n",
       "    </tr>\n",
       "    <tr>\n",
       "      <th>DASH</th>\n",
       "      <td>Dash</td>\n",
       "      <td>X11</td>\n",
       "      <td>PoW/PoS</td>\n",
       "      <td>9.031294e+06</td>\n",
       "      <td>22000000</td>\n",
       "      <td>-0.391142</td>\n",
       "      <td>1.219421</td>\n",
       "      <td>-0.473761</td>\n",
       "      <td>1</td>\n",
       "    </tr>\n",
       "    <tr>\n",
       "      <th>XMR</th>\n",
       "      <td>Monero</td>\n",
       "      <td>CryptoNight-V7</td>\n",
       "      <td>PoW</td>\n",
       "      <td>1.720114e+07</td>\n",
       "      <td>0</td>\n",
       "      <td>-0.131816</td>\n",
       "      <td>-2.239716</td>\n",
       "      <td>0.341318</td>\n",
       "      <td>0</td>\n",
       "    </tr>\n",
       "    <tr>\n",
       "      <th>ETC</th>\n",
       "      <td>Ethereum Classic</td>\n",
       "      <td>Ethash</td>\n",
       "      <td>PoW</td>\n",
       "      <td>1.133597e+08</td>\n",
       "      <td>210000000</td>\n",
       "      <td>-0.153740</td>\n",
       "      <td>-2.071469</td>\n",
       "      <td>0.384206</td>\n",
       "      <td>0</td>\n",
       "    </tr>\n",
       "    <tr>\n",
       "      <th>ZEC</th>\n",
       "      <td>ZCash</td>\n",
       "      <td>Equihash</td>\n",
       "      <td>PoW</td>\n",
       "      <td>7.383056e+06</td>\n",
       "      <td>21000000</td>\n",
       "      <td>-0.155961</td>\n",
       "      <td>-2.074924</td>\n",
       "      <td>0.385876</td>\n",
       "      <td>0</td>\n",
       "    </tr>\n",
       "  </tbody>\n",
       "</table>\n",
       "</div>"
      ],
      "text/plain": [
       "              CoinName       Algorithm ProofType  TotalCoinsMined  \\\n",
       "42             42 Coin          Scrypt   PoW/PoS     4.199995e+01   \n",
       "404            404Coin          Scrypt   PoW/PoS     1.055185e+09   \n",
       "1337         EliteCoin             X13   PoW/PoS     2.927942e+10   \n",
       "BTC            Bitcoin         SHA-256       PoW     1.792718e+07   \n",
       "ETH           Ethereum          Ethash       PoW     1.076842e+08   \n",
       "LTC           Litecoin          Scrypt       PoW     6.303924e+07   \n",
       "DASH              Dash             X11   PoW/PoS     9.031294e+06   \n",
       "XMR             Monero  CryptoNight-V7       PoW     1.720114e+07   \n",
       "ETC   Ethereum Classic          Ethash       PoW     1.133597e+08   \n",
       "ZEC              ZCash        Equihash       PoW     7.383056e+06   \n",
       "\n",
       "     TotalCoinSupply       PC1       PC2       PC3  Class  \n",
       "42                42 -0.348251  1.048746 -0.528265      1  \n",
       "404        532000000 -0.331557  1.048792 -0.528994      1  \n",
       "1337    314159265359  2.301105  1.525853 -0.705937      1  \n",
       "BTC         21000000 -0.149578 -1.394769  0.168364      0  \n",
       "ETH                0 -0.155302 -2.071355  0.384252      0  \n",
       "LTC         84000000 -0.172011 -1.072918  0.022977      0  \n",
       "DASH        22000000 -0.391142  1.219421 -0.473761      1  \n",
       "XMR                0 -0.131816 -2.239716  0.341318      0  \n",
       "ETC        210000000 -0.153740 -2.071469  0.384206      0  \n",
       "ZEC         21000000 -0.155961 -2.074924  0.385876      0  "
      ]
     },
     "execution_count": 35,
     "metadata": {},
     "output_type": "execute_result"
    }
   ],
   "source": [
    "# Create a new DataFrame including predicted clusters and cryptocurrencies features.\n",
    "# Concatentate the crypto_df and pcs_df DataFrames on the same columns.\n",
    "# YOUR CODE HERE\n",
    "clustered_df = pd.concat([crypto_df, crypto_pca_df], axis=1, join='inner')\n",
    "#  Add a new column, \"CoinName\" to the clustered_df DataFrame that holds the names of the cryptocurrencies. \n",
    "# YOUR CODE HERE\n",
    "clustered_df[\"CoinName\"] = crypto_name_df.CoinName\n",
    "#  Add a new column, \"Class\" to the clustered_df DataFrame that holds the predictions.\n",
    "# YOUR CODE HERE\n",
    "clustered_df[\"Class\"] = model.labels_\n",
    "# Print the shape of the clustered_df\n",
    "print(clustered_df.shape)\n",
    "clustered_df.head(10)"
   ]
  },
  {
   "cell_type": "markdown",
   "metadata": {},
   "source": [
    "### Deliverable 4: Visualizing Cryptocurrencies Results\n",
    "\n",
    "#### 3D-Scatter with Clusters"
   ]
  },
  {
   "cell_type": "code",
   "execution_count": 51,
   "metadata": {},
   "outputs": [
    {
     "data": {
      "application/vnd.plotly.v1+json": {
       "config": {
        "plotlyServerURL": "https://plot.ly"
       },
       "data": [
        {
         "customdata": [
          [
           "Scrypt"
          ],
          [
           "Scrypt"
          ],
          [
           "X13"
          ],
          [
           "X11"
          ],
          [
           "SHA-512"
          ],
          [
           "SHA-256"
          ],
          [
           "SHA-256"
          ],
          [
           "X15"
          ],
          [
           "Scrypt"
          ],
          [
           "Scrypt"
          ],
          [
           "Scrypt"
          ],
          [
           "Scrypt"
          ],
          [
           "Scrypt"
          ],
          [
           "Scrypt"
          ],
          [
           "Groestl"
          ],
          [
           "PoS"
          ],
          [
           "Scrypt"
          ],
          [
           "Scrypt"
          ],
          [
           "X11"
          ],
          [
           "X11"
          ],
          [
           "SHA3"
          ],
          [
           "Scrypt"
          ],
          [
           "SHA-256"
          ],
          [
           "Scrypt"
          ],
          [
           "X13"
          ],
          [
           "X13"
          ],
          [
           "NeoScrypt"
          ],
          [
           "Scrypt"
          ],
          [
           "Scrypt"
          ],
          [
           "Scrypt"
          ],
          [
           "X11"
          ],
          [
           "X11"
          ],
          [
           "Multiple"
          ],
          [
           "PHI1612"
          ],
          [
           "X11"
          ],
          [
           "Scrypt"
          ],
          [
           "Scrypt"
          ],
          [
           "Scrypt"
          ],
          [
           "X11"
          ],
          [
           "Multiple"
          ],
          [
           "X13"
          ],
          [
           "Scrypt"
          ],
          [
           "Shabal256"
          ],
          [
           "Counterparty"
          ],
          [
           "SHA-256"
          ],
          [
           "Groestl"
          ],
          [
           "Scrypt"
          ],
          [
           "X13"
          ],
          [
           "Scrypt"
          ],
          [
           "Scrypt"
          ],
          [
           "X13"
          ],
          [
           "X11"
          ],
          [
           "Scrypt"
          ],
          [
           "X11"
          ],
          [
           "SHA3"
          ],
          [
           "QUAIT"
          ],
          [
           "X11"
          ],
          [
           "Scrypt"
          ],
          [
           "X13"
          ],
          [
           "SHA-256"
          ],
          [
           "X15"
          ],
          [
           "BLAKE256"
          ],
          [
           "SHA-256"
          ],
          [
           "X11"
          ],
          [
           "SHA-256"
          ],
          [
           "NIST5"
          ],
          [
           "Scrypt"
          ],
          [
           "Scrypt"
          ],
          [
           "X11"
          ],
          [
           "Scrypt"
          ],
          [
           "SHA-256"
          ],
          [
           "Scrypt"
          ],
          [
           "PoS"
          ],
          [
           "X11"
          ],
          [
           "SHA-256"
          ],
          [
           "SHA-256"
          ],
          [
           "NIST5"
          ],
          [
           "X11"
          ],
          [
           "POS 3.0"
          ],
          [
           "Scrypt"
          ],
          [
           "Scrypt"
          ],
          [
           "Scrypt"
          ],
          [
           "X13"
          ],
          [
           "X11"
          ],
          [
           "X11"
          ],
          [
           "Scrypt"
          ],
          [
           "SHA-256"
          ],
          [
           "X11"
          ],
          [
           "Scrypt"
          ],
          [
           "Scrypt"
          ],
          [
           "Scrypt"
          ],
          [
           "Scrypt"
          ],
          [
           "SHA-256D"
          ],
          [
           "PoS"
          ],
          [
           "Scrypt"
          ],
          [
           "X11"
          ],
          [
           "PoS"
          ],
          [
           "X13"
          ],
          [
           "X14"
          ],
          [
           "PoS"
          ],
          [
           "SHA-256D"
          ],
          [
           "DPoS"
          ],
          [
           "X11"
          ],
          [
           "X13"
          ],
          [
           "X11"
          ],
          [
           "PoS"
          ],
          [
           "Scrypt"
          ],
          [
           "Scrypt"
          ],
          [
           "PoS"
          ],
          [
           "X11"
          ],
          [
           "SHA-256"
          ],
          [
           "Scrypt"
          ],
          [
           "X11"
          ],
          [
           "Scrypt"
          ],
          [
           "Scrypt"
          ],
          [
           "X11"
          ],
          [
           "Scrypt"
          ],
          [
           "Scrypt"
          ],
          [
           "Scrypt"
          ],
          [
           "Scrypt"
          ],
          [
           "Quark"
          ],
          [
           "QuBit"
          ],
          [
           "Scrypt"
          ],
          [
           "SHA-256"
          ],
          [
           "X11"
          ],
          [
           "Scrypt"
          ],
          [
           "Scrypt"
          ],
          [
           "Scrypt"
          ],
          [
           "Scrypt"
          ],
          [
           "X13"
          ],
          [
           "Scrypt"
          ],
          [
           "Scrypt"
          ],
          [
           "X11"
          ],
          [
           "Blake2S"
          ],
          [
           "X11"
          ],
          [
           "PoS"
          ],
          [
           "X11"
          ],
          [
           "PoS"
          ],
          [
           "X11"
          ],
          [
           "Scrypt"
          ],
          [
           "Scrypt"
          ],
          [
           "Scrypt"
          ],
          [
           "SHA-256"
          ],
          [
           "X11"
          ],
          [
           "Scrypt"
          ],
          [
           "PoS"
          ],
          [
           "Scrypt"
          ],
          [
           "X15"
          ],
          [
           "SHA-256"
          ],
          [
           "POS 3.0"
          ],
          [
           "536"
          ],
          [
           "NIST5"
          ],
          [
           "NIST5"
          ],
          [
           "Skein"
          ],
          [
           "X13"
          ],
          [
           "Scrypt"
          ],
          [
           "X13"
          ],
          [
           "SkunkHash v2 Raptor"
          ],
          [
           "Skein"
          ],
          [
           "X11"
          ],
          [
           "Scrypt"
          ],
          [
           "PoS"
          ],
          [
           "Scrypt"
          ],
          [
           "Scrypt"
          ],
          [
           "SHA-512"
          ],
          [
           "Ouroboros"
          ],
          [
           "X11"
          ],
          [
           "NeoScrypt"
          ],
          [
           "Scrypt"
          ],
          [
           "Lyra2REv2"
          ],
          [
           "Scrypt"
          ],
          [
           "SHA-256"
          ],
          [
           "NIST5"
          ],
          [
           "PHI1612"
          ],
          [
           "Scrypt"
          ],
          [
           "Quark"
          ],
          [
           "POS 2.0"
          ],
          [
           "Scrypt"
          ],
          [
           "SHA-256"
          ],
          [
           "X11"
          ],
          [
           "DPoS"
          ],
          [
           "NIST5"
          ],
          [
           "X13"
          ],
          [
           "Scrypt"
          ],
          [
           "NIST5"
          ],
          [
           "Quark"
          ],
          [
           "Scrypt"
          ],
          [
           "Scrypt"
          ],
          [
           "X11"
          ],
          [
           "Quark"
          ],
          [
           "Scrypt"
          ],
          [
           "Scrypt"
          ],
          [
           "X11"
          ],
          [
           "POS 3.0"
          ],
          [
           "Scrypt"
          ],
          [
           "Scrypt"
          ],
          [
           "X13"
          ],
          [
           "C11"
          ],
          [
           "X11"
          ],
          [
           "XEVAN"
          ],
          [
           "Scrypt"
          ],
          [
           "VBFT"
          ],
          [
           "NIST5"
          ],
          [
           "Scrypt"
          ],
          [
           "Scrypt"
          ],
          [
           "Scrypt"
          ],
          [
           "Green Protocol"
          ],
          [
           "PoS"
          ],
          [
           "Scrypt"
          ],
          [
           "Semux BFT consensus"
          ],
          [
           "Quark"
          ],
          [
           "PoS"
          ],
          [
           "X16R"
          ],
          [
           "Scrypt"
          ],
          [
           "XEVAN"
          ],
          [
           "Scrypt"
          ],
          [
           "Scrypt"
          ],
          [
           "Scrypt"
          ],
          [
           "SHA-256D"
          ],
          [
           "Scrypt"
          ],
          [
           "X15"
          ],
          [
           "Scrypt"
          ],
          [
           "Quark"
          ],
          [
           "SHA-256"
          ],
          [
           "DPoS"
          ],
          [
           "X16R"
          ],
          [
           "Quark"
          ],
          [
           "Quark"
          ],
          [
           "Scrypt"
          ],
          [
           "Lyra2REv2"
          ],
          [
           "Quark"
          ],
          [
           "Scrypt"
          ],
          [
           "X11"
          ],
          [
           "X11"
          ],
          [
           "Scrypt"
          ],
          [
           "PoS"
          ],
          [
           "Keccak"
          ],
          [
           "X11"
          ],
          [
           "Scrypt"
          ],
          [
           "SHA-512"
          ],
          [
           "XEVAN"
          ],
          [
           "XEVAN"
          ],
          [
           "X11"
          ],
          [
           "Quark"
          ],
          [
           "Scrypt"
          ],
          [
           "Quark"
          ],
          [
           "Quark"
          ],
          [
           "Scrypt"
          ],
          [
           "X11"
          ],
          [
           "Scrypt"
          ],
          [
           "XEVAN"
          ],
          [
           "SHA-256D"
          ],
          [
           "X11"
          ],
          [
           "X11"
          ],
          [
           "DPoS"
          ],
          [
           "Scrypt"
          ],
          [
           "X11"
          ],
          [
           "Scrypt"
          ],
          [
           "Scrypt"
          ],
          [
           "SHA-256"
          ],
          [
           "Scrypt"
          ],
          [
           "X11"
          ],
          [
           "Scrypt"
          ],
          [
           "SHA-256"
          ],
          [
           "X11"
          ],
          [
           "Scrypt"
          ],
          [
           "Scrypt"
          ],
          [
           "X11"
          ],
          [
           "Scrypt"
          ],
          [
           "PoS"
          ],
          [
           "X11"
          ],
          [
           "SHA-256"
          ],
          [
           "DPoS"
          ],
          [
           "Scrypt"
          ],
          [
           "Scrypt"
          ],
          [
           "NeoScrypt"
          ],
          [
           "X13"
          ],
          [
           "DPoS"
          ],
          [
           "DPoS"
          ],
          [
           "SHA-256"
          ],
          [
           "PoS"
          ],
          [
           "PoS"
          ],
          [
           "SHA-256"
          ],
          [
           "Scrypt"
          ],
          [
           "Scrypt"
          ]
         ],
         "hovertemplate": "<b>%{hovertext}</b><br><br>Class=%{marker.color}<br>PC1=%{x}<br>PC2=%{y}<br>PC3=%{z}<br>Algorithm=%{customdata[0]}<extra></extra>",
         "hovertext": [
          "42 Coin",
          "404Coin",
          "EliteCoin",
          "Dash",
          "Bitshares",
          "BitcoinDark",
          "PayCoin",
          "KoboCoin",
          "Aurora Coin",
          "BlueCoin",
          "EnergyCoin",
          "BitBar",
          "CryptoBullion",
          "CasinoCoin",
          "Diamond",
          "Exclusive Coin",
          "FlutterCoin",
          "HoboNickels",
          "HyperStake",
          "IOCoin",
          "MaxCoin",
          "MintCoin",
          "MazaCoin",
          "Nautilus Coin",
          "NavCoin",
          "OpalCoin",
          "Orbitcoin",
          "PotCoin",
          "PhoenixCoin",
          "Reddcoin",
          "SuperCoin",
          "SyncCoin",
          "TeslaCoin",
          "TittieCoin",
          "TorCoin",
          "UnitaryStatus Dollar",
          "UltraCoin",
          "VeriCoin",
          "X11 Coin",
          "Crypti",
          "StealthCoin",
          "ZCC Coin",
          "BurstCoin",
          "StorjCoin",
          "Neutron",
          "FairCoin",
          "RubyCoin",
          "Kore",
          "Dnotes",
          "8BIT Coin",
          "Sativa Coin",
          "Ucoin",
          "Vtorrent",
          "IslaCoin",
          "Nexus",
          "Droidz",
          "Squall Coin",
          "Diggits",
          "Paycon",
          "Emercoin",
          "EverGreenCoin",
          "Decred",
          "EDRCoin",
          "Hitcoin",
          "DubaiCoin",
          "PWR Coin",
          "BillaryCoin",
          "GPU Coin",
          "EuropeCoin",
          "ZeitCoin",
          "SwingCoin",
          "SafeExchangeCoin",
          "Nebuchadnezzar",
          "Ratecoin",
          "Revenu",
          "Clockcoin",
          "VIP Tokens",
          "BitSend",
          "Let it Ride",
          "PutinCoin",
          "iBankCoin",
          "Frankywillcoin",
          "MudraCoin",
          "Lutetium Coin",
          "GoldBlocks",
          "CarterCoin",
          "BitTokens",
          "MustangCoin",
          "ZoneCoin",
          "RootCoin",
          "BitCurrency",
          "Swiscoin",
          "BuzzCoin",
          "Opair",
          "PesoBit",
          "Halloween Coin",
          "CoffeeCoin",
          "RoyalCoin",
          "GanjaCoin V2",
          "TeamUP",
          "LanaCoin",
          "ARK",
          "InsaneCoin",
          "EmberCoin",
          "XenixCoin",
          "FreeCoin",
          "PLNCoin",
          "AquariusCoin",
          "Creatio",
          "Eternity",
          "Eurocoin",
          "BitcoinFast",
          "Stakenet",
          "BitConnect Coin",
          "MoneyCoin",
          "Enigma",
          "Russiacoin",
          "PandaCoin",
          "GameUnits",
          "GAKHcoin",
          "Allsafe",
          "LiteCreed",
          "Klingon Empire Darsek",
          "Internet of People",
          "KushCoin",
          "Printerium",
          "Impeach",
          "Zilbercoin",
          "FirstCoin",
          "FindCoin",
          "OpenChat",
          "RenosCoin",
          "VirtacoinPlus",
          "TajCoin",
          "Impact",
          "Atmos",
          "HappyCoin",
          "MacronCoin",
          "Condensate",
          "Independent Money System",
          "ArgusCoin",
          "LomoCoin",
          "ProCurrency",
          "GoldReserve",
          "GrowthCoin",
          "Phreak",
          "Degas Coin",
          "HTML5 Coin",
          "Ultimate Secure Cash",
          "QTUM",
          "Espers",
          "Denarius",
          "Virta Unique Coin",
          "Bitcoin Planet",
          "BritCoin",
          "Linda",
          "DeepOnion",
          "Signatum",
          "Cream",
          "Monoeci",
          "Draftcoin",
          "Stakecoin",
          "CoinonatX",
          "Ethereum Dark",
          "Obsidian",
          "Cardano",
          "Regalcoin",
          "TrezarCoin",
          "TerraNovaCoin",
          "Rupee",
          "WomenCoin",
          "Theresa May Coin",
          "NamoCoin",
          "LUXCoin",
          "Xios",
          "Bitcloud 2.0",
          "KekCoin",
          "BlackholeCoin",
          "Infinity Economics",
          "Magnet",
          "Lamden Tau",
          "Electra",
          "Bitcoin Diamond",
          "Cash & Back Coin",
          "Bulwark",
          "Kalkulus",
          "GermanCoin",
          "LiteCoin Ultra",
          "PhantomX",
          "Digiwage",
          "Trollcoin",
          "Litecoin Plus",
          "Monkey Project",
          "TokenPay",
          "My Big Coin",
          "Unified Society USDEX",
          "Tokyo Coin",
          "Stipend",
          "Pushi",
          "Ellerium",
          "Velox",
          "Ontology",
          "Bitspace",
          "Briacoin",
          "Ignition",
          "MedicCoin",
          "Bitcoin Green",
          "Deviant Coin",
          "Abjcoin",
          "Semux",
          "Carebit",
          "Zealium",
          "Proton",
          "iDealCash",
          "Bitcoin Incognito",
          "HollyWoodCoin",
          "Swisscoin",
          "Xt3ch",
          "TheVig",
          "EmaratCoin",
          "Dekado",
          "Lynx",
          "Poseidon Quark",
          "BitcoinWSpectrum",
          "Muse",
          "Trivechain",
          "Dystem",
          "Giant",
          "Peony Coin",
          "Absolute Coin",
          "Vitae",
          "TPCash",
          "ARENON",
          "EUNO",
          "MMOCoin",
          "Ketan",
          "XDNA",
          "PAXEX",
          "ThunderStake",
          "Kcash",
          "Bettex coin",
          "BitMoney",
          "Junson Ming Chan Coin",
          "HerbCoin",
          "Oduwa",
          "Galilel",
          "Crypto Sports",
          "Credit",
          "Dash Platinum",
          "Nasdacoin",
          "Beetle Coin",
          "Titan Coin",
          "Award",
          "Insane Coin",
          "ALAX",
          "LiteDoge",
          "TruckCoin",
          "OrangeCoin",
          "BitstarCoin",
          "NeosCoin",
          "HyperCoin",
          "PinkCoin",
          "AudioCoin",
          "IncaKoin",
          "Piggy Coin",
          "Genstake",
          "XiaoMiCoin",
          "CapriCoin",
          " ClubCoin",
          "Radium",
          "Creditbit ",
          "OKCash",
          "Lisk",
          "HiCoin",
          "WhiteCoin",
          "FriendshipCoin",
          "Triangles Coin",
          "EOS",
          "Oxycoin",
          "TigerCash",
          "Particl",
          "Nxt",
          "ZEPHYR",
          "Gapcoin",
          "BitcoinPlus"
         ],
         "legendgroup": "1",
         "marker": {
          "color": [
           1,
           1,
           1,
           1,
           1,
           1,
           1,
           1,
           1,
           1,
           1,
           1,
           1,
           1,
           1,
           1,
           1,
           1,
           1,
           1,
           1,
           1,
           1,
           1,
           1,
           1,
           1,
           1,
           1,
           1,
           1,
           1,
           1,
           1,
           1,
           1,
           1,
           1,
           1,
           1,
           1,
           1,
           1,
           1,
           1,
           1,
           1,
           1,
           1,
           1,
           1,
           1,
           1,
           1,
           1,
           1,
           1,
           1,
           1,
           1,
           1,
           1,
           1,
           1,
           1,
           1,
           1,
           1,
           1,
           1,
           1,
           1,
           1,
           1,
           1,
           1,
           1,
           1,
           1,
           1,
           1,
           1,
           1,
           1,
           1,
           1,
           1,
           1,
           1,
           1,
           1,
           1,
           1,
           1,
           1,
           1,
           1,
           1,
           1,
           1,
           1,
           1,
           1,
           1,
           1,
           1,
           1,
           1,
           1,
           1,
           1,
           1,
           1,
           1,
           1,
           1,
           1,
           1,
           1,
           1,
           1,
           1,
           1,
           1,
           1,
           1,
           1,
           1,
           1,
           1,
           1,
           1,
           1,
           1,
           1,
           1,
           1,
           1,
           1,
           1,
           1,
           1,
           1,
           1,
           1,
           1,
           1,
           1,
           1,
           1,
           1,
           1,
           1,
           1,
           1,
           1,
           1,
           1,
           1,
           1,
           1,
           1,
           1,
           1,
           1,
           1,
           1,
           1,
           1,
           1,
           1,
           1,
           1,
           1,
           1,
           1,
           1,
           1,
           1,
           1,
           1,
           1,
           1,
           1,
           1,
           1,
           1,
           1,
           1,
           1,
           1,
           1,
           1,
           1,
           1,
           1,
           1,
           1,
           1,
           1,
           1,
           1,
           1,
           1,
           1,
           1,
           1,
           1,
           1,
           1,
           1,
           1,
           1,
           1,
           1,
           1,
           1,
           1,
           1,
           1,
           1,
           1,
           1,
           1,
           1,
           1,
           1,
           1,
           1,
           1,
           1,
           1,
           1,
           1,
           1,
           1,
           1,
           1,
           1,
           1,
           1,
           1,
           1,
           1,
           1,
           1,
           1,
           1,
           1,
           1,
           1,
           1,
           1,
           1,
           1,
           1,
           1,
           1,
           1,
           1,
           1,
           1,
           1,
           1,
           1,
           1,
           1,
           1,
           1,
           1,
           1,
           1,
           1,
           1,
           1,
           1,
           1,
           1,
           1,
           1,
           1,
           1,
           1,
           1,
           1
          ],
          "coloraxis": "coloraxis",
          "symbol": "circle"
         },
         "mode": "markers",
         "name": "1",
         "scene": "scene",
         "showlegend": true,
         "type": "scatter3d",
         "x": [
          -0.3482514038735806,
          -0.3315569362033986,
          2.301104784911897,
          -0.39114242340956173,
          -0.2481709020327571,
          -0.3246465527484513,
          -0.2693239433291811,
          -0.2479880292846629,
          -0.3479102813305672,
          -0.34047532372348044,
          -0.34674540797261955,
          -0.3482473295647344,
          -0.3482315802644651,
          0.6990314930636795,
          -0.38660378340407914,
          -0.3420648860500202,
          -0.2806084906648593,
          -0.34630601730752714,
          -0.3156091051299904,
          -0.3910369397161312,
          -0.39218326237256823,
          -0.03240516354793078,
          -0.287873265071784,
          -0.2926792762944708,
          -0.28947236948179067,
          -0.29009564080438516,
          -0.3470508692071239,
          -0.3425409621009019,
          -0.3466497249179925,
          0.010501584887924555,
          -0.33552966719890825,
          -0.39140930169548155,
          -0.24206470849377656,
          -0.30655474816056266,
          -0.39132071975647026,
          -0.323429873599137,
          -0.34692583497021906,
          -0.31084885229656034,
          -0.3912851669803864,
          -0.2425339533197802,
          -0.28987613006198637,
          -0.3393322561178834,
          0.1197120960660152,
          -0.32152037683123996,
          -0.323856596083178,
          -0.38602438968186475,
          -0.292659616485309,
          -0.2901710713827448,
          -0.28730098648823865,
          -0.34823344179477705,
          -0.2901231893423216,
          -0.33597512977182653,
          -0.34796722843818406,
          -0.3913907990616428,
          -0.34230022210213024,
          -0.4403101411591674,
          -0.24092163486142734,
          -0.29105771748903797,
          -0.28964372698284924,
          -0.3171836546469405,
          -0.2504359333279906,
          -0.07455245659547839,
          -0.3246174170397809,
          -0.06812044601959898,
          -0.3246813015393605,
          -0.24715385933402512,
          -0.34784274125366066,
          -0.2909256831609609,
          -0.3885524528358202,
          0.8631497408013377,
          -0.32448081448233224,
          -0.03325290720246541,
          -0.341747477631416,
          -0.3892295825278751,
          -0.32322092176614214,
          -0.32088303809585655,
          -0.3687190613707468,
          -0.39012284953588755,
          -0.3288411630632801,
          -0.32408488522367324,
          -0.3478808874917869,
          -0.34631683202392194,
          -0.2335391962386063,
          -0.32344006628191113,
          -0.39086345336931516,
          -0.3470834324530633,
          -0.3246621468223379,
          -0.39137995100116507,
          -0.34807053741658717,
          -0.3482276650472132,
          -0.2909168054721429,
          -0.260238684334394,
          0.0242791566850614,
          -0.3407023946788804,
          -0.347841163227222,
          -0.3775081380861921,
          -0.34003012793197773,
          -0.23497363749428946,
          -0.42166734835989184,
          -0.3397767959198789,
          -0.29087199797845037,
          3.6668506215298167,
          -0.3909716077202666,
          0.8439821838276007,
          -0.3913347778008548,
          -0.3411671058327643,
          -0.3477683223860003,
          -0.3479228875051621,
          -0.341747477631416,
          -0.39090856119662415,
          -0.3245245923976876,
          -0.3477690985940551,
          -0.34316305521882606,
          -0.3479167761570022,
          -0.34349288348635376,
          -0.3913638130712278,
          -0.34712531311710737,
          0.3519196207282662,
          -0.3481164983247917,
          -0.34818725833856506,
          -0.35451276608376586,
          -0.35089714283853496,
          -0.344404075807185,
          -0.32463852025331835,
          -0.3912735801273585,
          -0.34796457279960114,
          -0.3480917290002281,
          -0.29256557883602097,
          -0.3092515995672963,
          -0.23474101040370826,
          -0.3289056780643699,
          -0.292306412786088,
          -0.3905374324707829,
          -0.4185886428626419,
          -0.38927357882721386,
          -0.33999040072476433,
          -0.39043514336930313,
          -0.33437870693926197,
          -0.3863663771515978,
          -0.3480349238123275,
          -0.3480340602885478,
          -0.34113718670314264,
          0.26477829005286835,
          -0.39091486226473865,
          -0.27516433392740325,
          -0.3417817598467006,
          -0.34724367367664777,
          0.886510420545383,
          -0.2680107955088956,
          -0.327616959425192,
          0.5867212212236131,
          -0.3702578964280816,
          -0.3687567916734076,
          -0.427150672912845,
          -0.2898076047829999,
          0.11784204899215883,
          -0.28987857625110774,
          -0.30796384075597816,
          -0.42665471319467896,
          -0.3911879266299041,
          -0.2926401728704608,
          -0.3416475829939996,
          -0.34766930648646155,
          -0.3481701526342832,
          -0.3063588841442573,
          0.6665631784669662,
          -0.391128529959091,
          -0.34203877907777386,
          -0.34812561070593423,
          -0.3017561573596239,
          0.42248004498123065,
          -0.32298141022914095,
          -0.35499034238564803,
          -0.3974877890470795,
          -0.3480758275226575,
          -0.4082097583428879,
          -0.3363435223776842,
          -0.3479460494240217,
          -0.09544804953514026,
          -0.38991829675410977,
          3.671717566962269,
          0.19040117005117413,
          -0.2865423968976016,
          -0.34540060895663616,
          -0.31476178772717467,
          -0.3543984398382882,
          0.0672586643050658,
          -0.3470821563017335,
          -0.39050109304609554,
          -0.35356104494199686,
          -0.3346213992278153,
          -0.3481923233200026,
          -0.3359470042817651,
          -0.3291236207717304,
          -0.3013562027914486,
          -0.34372836456958145,
          -0.22651721242747253,
          -0.38993120367524653,
          -0.3912050916676065,
          -0.23527422343634877,
          -0.2917979695595272,
          -0.3070514312091308,
          -0.36985588965188665,
          -0.34821973178806565,
          -0.3482013974361236,
          -0.28616715118496655,
          -0.32751770458469154,
          -0.3412411619171189,
          -0.3479172478039482,
          3.8690172697157195,
          -0.40687551373434366,
          -0.34143020939678037,
          -0.31598873939035144,
          -0.29466051074424315,
          -0.0849394596454589,
          -0.2923338000586842,
          -0.1509249931445054,
          -0.29258616069011334,
          -0.3563509270928534,
          -0.3473899996837438,
          -0.19451899385563418,
          2.25007663632693,
          -0.3500945950571624,
          -0.2681394458193136,
          0.9921459668707205,
          -0.3705830098940968,
          -0.3545121583953657,
          -0.40989816036128834,
          -0.1729948244144929,
          -0.35694323451571225,
          -0.35322894749261863,
          -0.3410771757950971,
          -0.33552345013423884,
          -0.39067735267281783,
          -0.2898254102987949,
          -0.3405275493766273,
          -0.35801191668058974,
          -0.3353842726615717,
          -0.20733429648692417,
          -0.27035495243512825,
          -0.18000825909309373,
          0.7614245356109327,
          -0.12554157359920087,
          -0.4091912399617972,
          -0.34792129245939507,
          -0.4096483845188471,
          -0.3546293887114904,
          0.5606679681111038,
          -0.33600142114511183,
          -0.34740288359825217,
          -0.2297172598409794,
          -0.3109586636363724,
          -0.3882352144706759,
          -0.3909051188874608,
          3.6839836989618133,
          0.08799889932115249,
          -0.3884407916779155,
          -0.3467864985283056,
          -0.3476139388788247,
          -0.26935656810563446,
          -0.3481335416486583,
          -0.38251534052859554,
          -0.2616145240890261,
          -0.10392849299595218,
          -0.3782528908953102,
          -0.3474105255514061,
          -0.34046029061777144,
          -0.3874666169587886,
          -0.3458460229025569,
          -0.3420236562895384,
          -0.32804990673324746,
          -0.3231584952679365,
          3.667243352045369,
          -0.0994692250896221,
          -0.3430350247247812,
          -0.34667568744740124,
          -0.2902785429869984,
          3.677127016012134,
          3.6783732685832544,
          -0.2502138623865593,
          -0.34195941626149035,
          -0.3480378399932906,
          2.4419750597655794,
          -0.3462916593134712,
          -0.2929836116340677
         ],
         "y": [
          1.0487458885445917,
          1.0487915507014012,
          1.5258533330864823,
          1.2194210651293915,
          1.5924825578535264,
          0.7268631382996534,
          0.552232329159352,
          1.8280147086470666,
          1.048742480115676,
          1.0489495584281008,
          1.0487853333802473,
          1.0487456272471347,
          1.0487456717082762,
          0.7479455594802156,
          0.7995688481536025,
          1.5704262972148417,
          0.6399256571915698,
          1.0487085117451502,
          1.0453288127066347,
          1.2194238279414868,
          1.9351314722248432,
          0.8809316800770721,
          0.7260617577198766,
          0.8741027121368257,
          1.6892489717586887,
          1.6892326471354921,
          0.5074283989999537,
          1.048586300257852,
          1.0487157032591587,
          1.0581422897091863,
          1.0448070565181937,
          1.2194302682087463,
          0.12580728633550994,
          1.780093998338815,
          1.2194252282284155,
          1.0482182756704248,
          1.048706999260564,
          0.4442652405771717,
          1.2194294717992664,
          0.12586860435427968,
          1.6892383965258895,
          1.048243413427704,
          1.4593186994796552,
          1.6190627786827694,
          0.7268499688527216,
          0.7995872475897972,
          0.874115136903264,
          1.689221838461259,
          0.8738874472640199,
          1.0487463590354154,
          1.6892245647481245,
          1.0447806673525435,
          1.048738609972344,
          1.2194307535628688,
          2.117963920342869,
          1.6100119086829576,
          1.1491637432349096,
          0.8740834851820948,
          1.6892076793880657,
          0.7263387151418718,
          1.8281888654118514,
          0.8439839712508492,
          0.7268639014174938,
          1.2083547677583082,
          0.7268706931313751,
          1.401819613494604,
          1.0487256766718596,
          0.873997838493158,
          1.2192224388017838,
          0.831515591014738,
          0.7268542297771077,
          0.7566283164704455,
          1.570419889044679,
          1.2194321534986698,
          0.7267527277293048,
          0.7265914614012676,
          1.3985693495236713,
          1.2193616478126075,
          1.4792068121780395,
          1.0479066860922814,
          1.0487229600224746,
          1.0487229501687216,
          1.5144799448013682,
          1.0446400982019963,
          1.219407761514986,
          1.0487102323328485,
          0.7268634659461994,
          1.2194288294414053,
          1.0487351680359935,
          1.0487465103390676,
          0.8741607843316984,
          0.40117833341006415,
          1.7382100952691302,
          1.5704075131524624,
          1.048756633533169,
          1.2186902399401287,
          1.570450147988619,
          1.5145877506521201,
          1.9576511376269545,
          1.57026466520949,
          1.7391523404872304,
          2.1170852309427777,
          1.2194196504343553,
          1.7183105614257594,
          1.219429384490446,
          1.5704130075290268,
          1.048730172689783,
          1.0487235774940076,
          1.570419889044679,
          1.2193992192175083,
          0.7268678048338231,
          1.0487342302650746,
          0.8508228466372515,
          1.048734042738096,
          1.0483915826616597,
          1.2194277799554054,
          1.0486693868627355,
          0.8670641420510755,
          1.0487398529075675,
          1.0487451279657642,
          1.4188843909213669,
          0.4869563341469406,
          1.0484786151568413,
          0.7268640847695313,
          1.2194269384123655,
          1.0487386795284068,
          1.0487339259778803,
          0.8740771152999177,
          0.4546113933064254,
          1.5145849923737749,
          1.0485165046991682,
          0.8740990472175928,
          1.2193794964001745,
          2.0146680843779716,
          1.2194052382130296,
          1.570399449072614,
          1.2193821755400258,
          1.570333178775717,
          1.2191943103986471,
          1.0487359446829596,
          1.0487305292003781,
          1.0481961389733332,
          0.5110243474484969,
          1.2194137758618364,
          0.8731012024670173,
          1.5704116302899076,
          1.0486949940595707,
          1.7917393766862733,
          0.5521286451811608,
          1.4791899267357225,
          1.6702565423992177,
          1.3985879313245833,
          1.3985462787762428,
          1.8720842236792665,
          1.6892181088077298,
          1.024149531794257,
          1.689224421801305,
          1.5861292579535784,
          1.8720972137772003,
          1.2194290690147889,
          0.8741028339685275,
          1.570391884398599,
          1.0487256172502057,
          1.0487449251420362,
          1.5935415600496892,
          1.438960606516299,
          1.2194177486042082,
          0.50726801628505,
          1.048737602274721,
          0.722701052493492,
          1.050530662783461,
          0.7268493368917556,
          1.398111876654407,
          1.9554479257900403,
          1.0487350294783782,
          1.5934285952174687,
          1.5316516555602346,
          1.0487430009565997,
          0.5501709035170821,
          1.2193633250062583,
          2.1169366736853688,
          1.3911974637723412,
          1.689171135484423,
          1.048665978492395,
          1.2239416330973925,
          1.4188837049159517,
          1.0228246598402702,
          1.048666100714899,
          1.2194172523988493,
          1.4188320294251782,
          1.048440407845451,
          1.0487444916677773,
          1.0447806679268543,
          1.479205670805117,
          0.35065166743006804,
          1.048693583802008,
          1.514222213055752,
          0.7220025248359611,
          1.2194172154802247,
          1.5069006390051873,
          0.8740464306007028,
          1.6222520705135062,
          1.3985690172602254,
          1.0487445098735928,
          1.048743517915928,
          0.8739171444976678,
          1.5073604019592493,
          1.5703830966701506,
          1.048732558216704,
          2.1369299693769217,
          1.5934635415397156,
          1.5703840338410395,
          0.6614712481698682,
          1.0463793461390334,
          1.436658815760874,
          0.8741045324500382,
          1.046406173232618,
          0.8740846731477695,
          1.7428887652439464,
          1.0487066192770473,
          1.653519740045361,
          0.6387582032043925,
          1.4185326975845003,
          0.552198752970587,
          1.8230372747890957,
          0.836100489218745,
          1.4188799903335747,
          1.59352779810085,
          0.864824279394828,
          0.8973214258763851,
          1.4188554493495709,
          1.0481977107694773,
          1.044766734732084,
          1.2194126358347834,
          0.8739979881285139,
          1.5703119852426415,
          0.7168738748972562,
          1.0447372562642512,
          1.0391872541939722,
          1.8019132203680983,
          1.3322687142681013,
          1.1579317267079423,
          1.050307031215466,
          1.5935103566778275,
          1.048739077036138,
          1.5935241196636973,
          1.4188825361770723,
          1.0174930734104581,
          1.0447801995582964,
          1.0487062818236115,
          1.5067223091306594,
          1.7404708603569075,
          1.2192042488328871,
          1.2194213918992725,
          2.116889904238237,
          1.0344091454475204,
          1.2195080196863386,
          1.048637040333951,
          1.0487226478935643,
          0.5522252179420212,
          1.0487489756041295,
          1.2192951761364215,
          1.0432861854570226,
          0.7325204884415912,
          1.2190387755157066,
          1.048756871465899,
          1.048655518554796,
          1.2193804296340318,
          1.0486911164835286,
          1.5704207523417553,
          0.8497272669865608,
          0.7268410182884032,
          2.117069814400763,
          0.8718078046399014,
          1.0486616899337142,
          0.5073967119261351,
          1.6892277682605756,
          2.117446399135698,
          2.117479040784518,
          0.5520059743607659,
          1.5704227042100452,
          1.7457724747393462,
          0.8458544923951407,
          1.0486131968815884,
          0.8741059147898946
         ],
         "z": [
          -0.5282651186421233,
          -0.5289939817683071,
          -0.7059365922173562,
          -0.4737605955213677,
          -0.13396483438929285,
          -0.3829229208341484,
          -0.11722579966838498,
          -0.7170560822145726,
          -0.528279213355298,
          -0.5286381556362286,
          -0.5283373648392871,
          -0.5282652464234427,
          -0.5282659342760752,
          -0.35186985620810246,
          -0.41085240013649815,
          -0.19350906682709484,
          -0.24391671930329797,
          -0.5283422005827114,
          -0.2090347219096155,
          -0.47376565582405966,
          -0.8129180585679142,
          -0.275064647413235,
          -0.3843625442137282,
          -0.26257649148563705,
          -0.6241841968493189,
          -0.6241542970472772,
          -0.3306043361044979,
          -0.5284822120318613,
          -0.5283286899734012,
          -0.5454753495006887,
          -0.20807908535001848,
          -0.4737507704614267,
          0.099408595886604,
          -0.30057708700878255,
          -0.4737536665099548,
          -0.529239294693071,
          -0.5283151736055536,
          -0.16599057801474706,
          -0.47375598116840084,
          0.09941757094949538,
          -0.6241648274976699,
          -0.5285576340657137,
          -0.34538530975147913,
          -0.13241011514918852,
          -0.3829545904943381,
          -0.41088078789076726,
          -0.2625796246932724,
          -0.6241490541769362,
          -0.262769012254368,
          -0.5282659803312874,
          -0.6241516219063246,
          -0.20805500831033946,
          -0.5282760440720979,
          -0.4737516582119672,
          -0.926612283946041,
          -0.7548392329705281,
          -0.40930158294168095,
          -0.2626429358602729,
          -0.6241692085624115,
          -0.38314855436499395,
          -0.716982465864518,
          -0.5271050466459251,
          -0.38292431854312353,
          -0.48566596845750865,
          -0.38292281046048454,
          -0.5806930954905859,
          -0.5282790381581837,
          -0.262632884510647,
          -0.47383584322821587,
          -0.30462617203736175,
          -0.3829284352612801,
          -0.3218640503791046,
          -0.19352158651632478,
          -0.47384518509720897,
          -0.38296414214972063,
          -0.38303538086121824,
          -0.5748491425774758,
          -0.47379367009961104,
          -0.2172156187158709,
          -0.5291537293408284,
          -0.5282768923592666,
          -0.5283443889197786,
          -0.3584880085367183,
          -0.2085701224482267,
          -0.47377018837266177,
          -0.5283089668532286,
          -0.3829223081067092,
          -0.4737517725474348,
          -0.5282709527384057,
          -0.5282662574555548,
          -0.2626632314667607,
          -0.2796467993312691,
          -0.7798848247762166,
          -0.19356441233112345,
          -0.5282847988635861,
          -0.4742146065030207,
          -0.19360126471943934,
          -0.3584459280276011,
          -0.7930860390478335,
          -0.19357808940496798,
          -0.7664574304634236,
          -0.11333244578074993,
          -0.4737677070968359,
          -0.6784436435821926,
          -0.4737538241089305,
          -0.19354536760960908,
          -0.5282830765436057,
          -0.5282751933526113,
          -0.19352158651632478,
          -0.4737666708709955,
          -0.3829290422755946,
          -0.5282837891861305,
          -0.03967612232813817,
          -0.5282773815297072,
          -0.5284053246311645,
          -0.47375227600770536,
          -0.5282996484480315,
          -0.28910048874022637,
          -0.5282698307425997,
          -0.5282677470450825,
          -0.24710666931536487,
          -0.3615690104496429,
          -0.5283820054746121,
          -0.38292344152920255,
          -0.47375601535042144,
          -0.528276171469373,
          -0.5282698097945587,
          -0.262576691254361,
          -0.20144938059577122,
          -0.3584554600664676,
          -0.5290578217182987,
          -0.2625919088462408,
          -0.4737790605060057,
          -0.674301854196948,
          -0.4738383369873778,
          -0.19359365625000446,
          -0.4737839675565541,
          -0.19382364815694078,
          -0.4739250130192995,
          -0.528272632495269,
          -0.5282716739177004,
          -0.5284710472691744,
          -0.13269784881628893,
          -0.47376907573846455,
          -0.26314820038501086,
          -0.19351858834491653,
          -0.5282992493436021,
          -0.7593458849539445,
          -0.11726340360248388,
          -0.21726534540894255,
          -0.8083248940638734,
          -0.5747861495924059,
          -0.5748432718485103,
          -0.6842357126151691,
          -0.6241640541007036,
          -0.5438568642926463,
          -0.6241621521418196,
          -0.27387813672636996,
          -0.6842595049779111,
          -0.47376010360529214,
          -0.2625782014362947,
          -0.19352074784265452,
          -0.5282865119814669,
          -0.5282684479618919,
          -0.13164841212574233,
          -0.2583875304595325,
          -0.4737605852369437,
          -0.3307911453470358,
          -0.5282690236236982,
          -0.08800334699658557,
          -0.5618550015240348,
          -0.38299224380188884,
          -0.5753574952269204,
          -0.5648703774993148,
          -0.528270698959484,
          -0.5128580199936444,
          -0.11653922801844017,
          -0.5282777655241212,
          -0.12435051513157798,
          -0.4738028061950342,
          -0.11351516572232175,
          -0.5976229299816673,
          -0.6242963295573971,
          -0.5283734530155973,
          -0.3090936676994503,
          -0.24711147703007127,
          -0.54143025948361,
          -0.5283009066393243,
          -0.4737875716558955,
          -0.24713811312408054,
          -0.5287971607551918,
          -0.528267411453016,
          -0.20805622219950315,
          -0.21720321908684845,
          -0.25602550564672016,
          -0.5284506966817404,
          -0.35874365539802644,
          -0.4175837194025709,
          -0.4737571831048549,
          -0.7351859895305843,
          -0.26260417564103283,
          -0.08363205960348312,
          -0.5748000205206499,
          -0.5282662319610969,
          -0.5282668407889347,
          -0.2628234050202259,
          -0.18994626367756925,
          -0.19353667138897596,
          -0.5282770881892221,
          -0.13286172301804064,
          -0.5129220268686994,
          -0.193528685191327,
          -0.035204942290588306,
          -0.530142707623917,
          -0.6707347456862723,
          -0.2625917355911775,
          -0.5363506903253932,
          -0.26257719282360564,
          -0.7643187067553017,
          -0.5282950722402238,
          -0.4513039476994469,
          -0.4223060549707665,
          -0.24723266760515628,
          -0.11727074357120083,
          -0.10873055175681257,
          -0.30093320729449535,
          -0.24710588632422686,
          -0.5128033975698015,
          -0.2660353982142772,
          -0.3537043981787221,
          -0.24715675177019045,
          -0.5284739261346154,
          -0.2080719389495921,
          -0.47377911606399525,
          -0.2626803953987685,
          -0.19355439149100448,
          -0.4762555003499847,
          -0.20807252454727432,
          -0.5325888159873433,
          -0.01941697341720108,
          -0.4694862186449333,
          -0.9984694599870291,
          -0.21815271171807463,
          -0.5128306981508332,
          -0.5282781123726036,
          -0.5128135004737212,
          -0.2471012952838906,
          -0.5617434134577091,
          -0.2080537876580413,
          -0.5282944541683194,
          -0.7353930130582039,
          -0.7658330307439815,
          -0.47384618904386994,
          -0.4737708967236753,
          -0.11403592252020088,
          -0.5444555761733436,
          -0.47389317705552275,
          -0.5283083221816186,
          -0.5282883553958586,
          -0.11722308404409117,
          -0.5282707727779872,
          -0.47410975637024294,
          -0.5310000441032803,
          -0.39348854908577885,
          -0.4742465575621428,
          -0.5283034272147141,
          -0.5285847339172112,
          -0.47391175622066806,
          -0.5283588533148962,
          -0.19350982650130388,
          -0.1520388513071854,
          -0.382983071826857,
          -0.1133465595361037,
          -0.27049265720335736,
          -0.5284747535450417,
          -0.3306147005656326,
          -0.6241455065533653,
          -0.11384234842557413,
          -0.11390213411411644,
          -0.11800889026171492,
          -0.19351295776944788,
          -0.20989788938343948,
          -0.12332866094118945,
          -0.5283252929295715,
          -0.2625639465211236
         ]
        },
        {
         "customdata": [
          [
           "SHA-256"
          ],
          [
           "Ethash"
          ],
          [
           "Scrypt"
          ],
          [
           "CryptoNight-V7"
          ],
          [
           "Ethash"
          ],
          [
           "Equihash"
          ],
          [
           "Multiple"
          ],
          [
           "Scrypt"
          ],
          [
           "X11"
          ],
          [
           "Scrypt"
          ],
          [
           "Multiple"
          ],
          [
           "Scrypt"
          ],
          [
           "SHA-256"
          ],
          [
           "Scrypt"
          ],
          [
           "Scrypt"
          ],
          [
           "Quark"
          ],
          [
           "Groestl"
          ],
          [
           "Scrypt"
          ],
          [
           "Scrypt"
          ],
          [
           "Scrypt"
          ],
          [
           "X11"
          ],
          [
           "Multiple"
          ],
          [
           "SHA-256"
          ],
          [
           "Scrypt"
          ],
          [
           "Scrypt"
          ],
          [
           "Scrypt"
          ],
          [
           "Scrypt"
          ],
          [
           "Scrypt"
          ],
          [
           "NeoScrypt"
          ],
          [
           "Scrypt"
          ],
          [
           "Scrypt"
          ],
          [
           "Scrypt"
          ],
          [
           "Scrypt"
          ],
          [
           "SHA-256"
          ],
          [
           "Scrypt"
          ],
          [
           "Scrypt"
          ],
          [
           "Scrypt"
          ],
          [
           "Scrypt"
          ],
          [
           "HybridScryptHash256"
          ],
          [
           "Scrypt"
          ],
          [
           "Scrypt"
          ],
          [
           "SHA-256"
          ],
          [
           "Scrypt"
          ],
          [
           "Scrypt"
          ],
          [
           "Scrypt"
          ],
          [
           "Scrypt"
          ],
          [
           "SHA-256"
          ],
          [
           "SHA-256"
          ],
          [
           "SHA-256"
          ],
          [
           "SHA-256"
          ],
          [
           "SHA-256"
          ],
          [
           "X11"
          ],
          [
           "Scrypt"
          ],
          [
           "Lyra2REv2"
          ],
          [
           "Scrypt"
          ],
          [
           "SHA-256"
          ],
          [
           "CryptoNight"
          ],
          [
           "CryptoNight"
          ],
          [
           "Scrypt"
          ],
          [
           "Scrypt"
          ],
          [
           "Scrypt"
          ],
          [
           "Scrypt"
          ],
          [
           "Scrypt"
          ],
          [
           "Scrypt"
          ],
          [
           "Stanford Folding"
          ],
          [
           "Multiple"
          ],
          [
           "QuBit"
          ],
          [
           "Scrypt"
          ],
          [
           "Scrypt"
          ],
          [
           "M7 POW"
          ],
          [
           "Scrypt"
          ],
          [
           "SHA-256"
          ],
          [
           "Scrypt"
          ],
          [
           "X11"
          ],
          [
           "Lyra2RE"
          ],
          [
           "SHA-256"
          ],
          [
           "X11"
          ],
          [
           "Scrypt"
          ],
          [
           "Scrypt"
          ],
          [
           "Ethash"
          ],
          [
           "Blake2b"
          ],
          [
           "X11"
          ],
          [
           "SHA-256"
          ],
          [
           "Scrypt"
          ],
          [
           "1GB AES Pattern Search"
          ],
          [
           "Scrypt"
          ],
          [
           "SHA-256"
          ],
          [
           "X11"
          ],
          [
           "Dagger"
          ],
          [
           "Scrypt"
          ],
          [
           "X11GOST"
          ],
          [
           "Scrypt"
          ],
          [
           "X11"
          ],
          [
           "Scrypt"
          ],
          [
           "X11"
          ],
          [
           "Equihash"
          ],
          [
           "CryptoNight"
          ],
          [
           "SHA-256"
          ],
          [
           "Multiple"
          ],
          [
           "Scrypt"
          ],
          [
           "SHA-256"
          ],
          [
           "Scrypt"
          ],
          [
           "Lyra2Z"
          ],
          [
           "Ethash"
          ],
          [
           "Equihash"
          ],
          [
           "Scrypt"
          ],
          [
           "X11"
          ],
          [
           "X11"
          ],
          [
           "CryptoNight"
          ],
          [
           "Scrypt"
          ],
          [
           "CryptoNight"
          ],
          [
           "Lyra2RE"
          ],
          [
           "X11"
          ],
          [
           "CryptoNight-V7"
          ],
          [
           "Scrypt"
          ],
          [
           "X11"
          ],
          [
           "Equihash"
          ],
          [
           "Scrypt"
          ],
          [
           "Lyra2RE"
          ],
          [
           "Dagger-Hashimoto"
          ],
          [
           "Scrypt"
          ],
          [
           "NIST5"
          ],
          [
           "Scrypt"
          ],
          [
           "SHA-256"
          ],
          [
           "Scrypt"
          ],
          [
           "CryptoNight-V7"
          ],
          [
           "Argon2d"
          ],
          [
           "Blake2b"
          ],
          [
           "Cloverhash"
          ],
          [
           "CryptoNight"
          ],
          [
           "X11"
          ],
          [
           "Scrypt"
          ],
          [
           "Scrypt"
          ],
          [
           "X11"
          ],
          [
           "X11"
          ],
          [
           "CryptoNight"
          ],
          [
           "Time Travel"
          ],
          [
           "Scrypt"
          ],
          [
           "Keccak"
          ],
          [
           "X11"
          ],
          [
           "SHA-256"
          ],
          [
           "Scrypt"
          ],
          [
           "Scrypt"
          ],
          [
           "Scrypt"
          ],
          [
           "Scrypt"
          ],
          [
           "Scrypt"
          ],
          [
           "Scrypt"
          ],
          [
           "CryptoNight"
          ],
          [
           "Equihash"
          ],
          [
           "X11"
          ],
          [
           "NeoScrypt"
          ],
          [
           "Equihash"
          ],
          [
           "Dagger"
          ],
          [
           "Scrypt"
          ],
          [
           "X11"
          ],
          [
           "NeoScrypt"
          ],
          [
           "Ethash"
          ],
          [
           "NeoScrypt"
          ],
          [
           "Multiple"
          ],
          [
           "CryptoNight"
          ],
          [
           "CryptoNight"
          ],
          [
           "Ethash"
          ],
          [
           "X11"
          ],
          [
           "CryptoNight-V7"
          ],
          [
           "Scrypt"
          ],
          [
           "BLAKE256"
          ],
          [
           "X11"
          ],
          [
           "NeoScrypt"
          ],
          [
           "NeoScrypt"
          ],
          [
           "Scrypt"
          ],
          [
           "X11"
          ],
          [
           "SHA-256"
          ],
          [
           "C11"
          ],
          [
           "Ethash"
          ],
          [
           "CryptoNight"
          ],
          [
           "SkunkHash"
          ],
          [
           "CryptoNight"
          ],
          [
           "Scrypt"
          ],
          [
           "Dagger"
          ],
          [
           "Lyra2REv2"
          ],
          [
           "Scrypt"
          ],
          [
           "Scrypt"
          ],
          [
           "X11"
          ],
          [
           "Ethash"
          ],
          [
           "CryptoNight"
          ],
          [
           "Scrypt"
          ],
          [
           "IMesh"
          ],
          [
           "Equihash"
          ],
          [
           "Lyra2Z"
          ],
          [
           "X11"
          ],
          [
           "CryptoNight"
          ],
          [
           "NIST5"
          ],
          [
           "Lyra2RE"
          ],
          [
           "Tribus"
          ],
          [
           "Lyra2Z"
          ],
          [
           "CryptoNight"
          ],
          [
           "CryptoNight Heavy"
          ],
          [
           "CryptoNight"
          ],
          [
           "Jump Consistent Hash"
          ],
          [
           "CryptoNight"
          ],
          [
           "X16R"
          ],
          [
           "HMQ1725"
          ],
          [
           "X11"
          ],
          [
           "Scrypt"
          ],
          [
           "CryptoNight-V7"
          ],
          [
           "Cryptonight-GPU"
          ],
          [
           "XEVAN"
          ],
          [
           "CryptoNight Heavy"
          ],
          [
           "SHA-256"
          ],
          [
           "X11"
          ],
          [
           "X16R"
          ],
          [
           "Equihash"
          ],
          [
           "Lyra2Z"
          ],
          [
           "SHA-256"
          ],
          [
           "CryptoNight"
          ],
          [
           "Blake"
          ],
          [
           "Blake"
          ],
          [
           "Equihash"
          ],
          [
           "Exosis"
          ],
          [
           "Scrypt"
          ],
          [
           "Equihash"
          ],
          [
           "Equihash"
          ],
          [
           "QuBit"
          ],
          [
           "SHA-256"
          ],
          [
           "X13"
          ],
          [
           "SHA-256"
          ],
          [
           "Scrypt"
          ],
          [
           "NeoScrypt"
          ],
          [
           "Blake"
          ],
          [
           "Scrypt"
          ],
          [
           "SHA-256"
          ],
          [
           "Scrypt"
          ],
          [
           "Groestl"
          ],
          [
           "Scrypt"
          ],
          [
           "Scrypt"
          ],
          [
           "Multiple"
          ],
          [
           "Equihash+Scrypt"
          ],
          [
           "Ethash"
          ],
          [
           "CryptoNight"
          ],
          [
           "Equihash"
          ]
         ],
         "hovertemplate": "<b>%{hovertext}</b><br><br>Class=%{marker.color}<br>PC1=%{x}<br>PC2=%{y}<br>PC3=%{z}<br>Algorithm=%{customdata[0]}<extra></extra>",
         "hovertext": [
          "Bitcoin",
          "Ethereum",
          "Litecoin",
          "Monero",
          "Ethereum Classic",
          "ZCash",
          "DigiByte",
          "ProsperCoin",
          "Spreadcoin",
          "Argentum",
          "MyriadCoin",
          "MoonCoin",
          "ZetaCoin",
          "SexCoin",
          "Quatloo",
          "QuarkCoin",
          "Riecoin",
          "Digitalcoin ",
          "Catcoin",
          "CannaCoin",
          "CryptCoin",
          "Verge",
          "DevCoin",
          "EarthCoin",
          "E-Gulden",
          "Einsteinium",
          "Emerald",
          "Franko",
          "FeatherCoin",
          "GrandCoin",
          "GlobalCoin",
          "GoldCoin",
          "Infinite Coin",
          "IXcoin",
          "KrugerCoin",
          "LuckyCoin",
          "Litebar ",
          "MegaCoin",
          "MediterraneanCoin",
          "MinCoin",
          "NobleCoin",
          "Namecoin",
          "NyanCoin",
          "RonPaulCoin",
          "StableCoin",
          "SmartCoin",
          "SysCoin",
          "TigerCoin",
          "TerraCoin",
          "UnbreakableCoin",
          "Unobtanium",
          "UroCoin",
          "ViaCoin",
          "Vertcoin",
          "WorldCoin",
          "JouleCoin",
          "ByteCoin",
          "DigitalNote ",
          "MonaCoin",
          "Gulden",
          "PesetaCoin",
          "Wild Beast Coin",
          "Flo",
          "ArtByte",
          "Folding Coin",
          "Unitus",
          "CypherPunkCoin",
          "OmniCron",
          "GreenCoin",
          "Cryptonite",
          "MasterCoin",
          "SoonCoin",
          "1Credit",
          "MarsCoin ",
          "Crypto",
          "Anarchists Prime",
          "BowsCoin",
          "Song Coin",
          "BitZeny",
          "Expanse",
          "Siacoin",
          "MindCoin",
          "I0coin",
          "Revolution VR",
          "HOdlcoin",
          "Gamecredits",
          "CarpeDiemCoin",
          "Adzcoin",
          "SoilCoin",
          "YoCoin",
          "SibCoin",
          "Francs",
          "BolivarCoin",
          "Omni",
          "PizzaCoin",
          "Komodo",
          "Karbo",
          "ZayedCoin",
          "Circuits of Value",
          "DopeCoin",
          "DollarCoin",
          "Shilling",
          "ZCoin",
          "Elementrem",
          "ZClassic",
          "KiloCoin",
          "ArtexCoin",
          "Kurrent",
          "Cannabis Industry Coin",
          "OsmiumCoin",
          "Bikercoins",
          "HexxCoin",
          "PacCoin",
          "Citadel",
          "BeaverCoin",
          "VaultCoin",
          "Zero",
          "Canada eCoin",
          "Zoin",
          "DubaiCoin",
          "EB3coin",
          "Coinonat",
          "BenjiRolls",
          "ILCoin",
          "EquiTrader",
          "Quantum Resistant Ledger",
          "Dynamic",
          "Nano",
          "ChanCoin",
          "Dinastycoin",
          "DigitalPrice",
          "Unify",
          "SocialCoin",
          "ArcticCoin",
          "DAS",
          "LeviarCoin",
          "Bitcore",
          "gCn Coin",
          "SmartCash",
          "Onix",
          "Bitcoin Cash",
          "Sojourn Coin",
          "NewYorkCoin",
          "FrazCoin",
          "Kronecoin",
          "AdCoin",
          "Linx",
          "Sumokoin",
          "BitcoinZ",
          "Elements",
          "VIVO Coin",
          "Bitcoin Gold",
          "Pirl",
          "eBoost",
          "Pura",
          "Innova",
          "Ellaism",
          "GoByte",
          "SHIELD",
          "UltraNote",
          "BitCoal",
          "DaxxCoin",
          "AC3",
          "Lethean",
          "PopularCoin",
          "Photon",
          "Sucre",
          "SparksPay",
          "GunCoin",
          "IrishCoin",
          "Pioneer Coin",
          "UnitedBitcoin",
          "Interzone",
          "1717 Masonic Commemorative Token",
          "TurtleCoin",
          "MUNcoin",
          "Niobio Cash",
          "ShareChain",
          "Travelflex",
          "KREDS",
          "BitFlip",
          "LottoCoin",
          "Crypto Improvement Fund",
          "Callisto Network",
          "BitTube",
          "Poseidon",
          "Aidos Kuneen",
          "Bitrolium",
          "Alpenschillling",
          "FuturoCoin",
          "Monero Classic",
          "Jumpcoin",
          "Infinex",
          "KEYCO",
          "GINcoin",
          "PlatinCoin",
          "Loki",
          "Newton Coin",
          "MassGrid",
          "PluraCoin",
          "Motion",
          "PlusOneCoin",
          "Axe",
          "HexCoin",
          "Webchain",
          "Ryo",
          "Urals Coin",
          "Qwertycoin",
          "Project Pai",
          "Azart",
          "Xchange",
          "CrypticCoin",
          "Actinium",
          "Bitcoin SV",
          "FREDEnergy",
          "Universal Molecule",
          "Lithium",
          "PirateCash",
          "Exosis",
          "Block-Logic",
          "Beam",
          "Bithereum",
          "SLICE",
          "BLAST",
          "Bitcoin Rhodium",
          "GlobalToken",
          "SolarCoin",
          "UFO Coin",
          "BlakeCoin",
          "Crypto Escudo",
          "Crown Coin",
          "SmileyCoin",
          "Groestlcoin",
          "Bata",
          "Pakcoin",
          "JoinCoin",
          "Vollar",
          "Reality Clash",
          "Beldex",
          "Horizen"
         ],
         "legendgroup": "0",
         "marker": {
          "color": [
           0,
           0,
           0,
           0,
           0,
           0,
           0,
           0,
           0,
           0,
           0,
           0,
           0,
           0,
           0,
           0,
           0,
           0,
           0,
           0,
           0,
           0,
           0,
           0,
           0,
           0,
           0,
           0,
           0,
           0,
           0,
           0,
           0,
           0,
           0,
           0,
           0,
           0,
           0,
           0,
           0,
           0,
           0,
           0,
           0,
           0,
           0,
           0,
           0,
           0,
           0,
           0,
           0,
           0,
           0,
           0,
           0,
           0,
           0,
           0,
           0,
           0,
           0,
           0,
           0,
           0,
           0,
           0,
           0,
           0,
           0,
           0,
           0,
           0,
           0,
           0,
           0,
           0,
           0,
           0,
           0,
           0,
           0,
           0,
           0,
           0,
           0,
           0,
           0,
           0,
           0,
           0,
           0,
           0,
           0,
           0,
           0,
           0,
           0,
           0,
           0,
           0,
           0,
           0,
           0,
           0,
           0,
           0,
           0,
           0,
           0,
           0,
           0,
           0,
           0,
           0,
           0,
           0,
           0,
           0,
           0,
           0,
           0,
           0,
           0,
           0,
           0,
           0,
           0,
           0,
           0,
           0,
           0,
           0,
           0,
           0,
           0,
           0,
           0,
           0,
           0,
           0,
           0,
           0,
           0,
           0,
           0,
           0,
           0,
           0,
           0,
           0,
           0,
           0,
           0,
           0,
           0,
           0,
           0,
           0,
           0,
           0,
           0,
           0,
           0,
           0,
           0,
           0,
           0,
           0,
           0,
           0,
           0,
           0,
           0,
           0,
           0,
           0,
           0,
           0,
           0,
           0,
           0,
           0,
           0,
           0,
           0,
           0,
           0,
           0,
           0,
           0,
           0,
           0,
           0,
           0,
           0,
           0,
           0,
           0,
           0,
           0,
           0,
           0,
           0,
           0,
           0,
           0,
           0,
           0,
           0,
           0,
           0,
           0,
           0,
           0,
           0,
           0,
           0,
           0,
           0,
           0,
           0,
           0,
           0,
           0,
           0,
           0,
           0,
           0,
           0,
           0,
           0,
           0,
           0,
           0,
           0,
           0,
           0,
           0
          ],
          "coloraxis": "coloraxis",
          "symbol": "diamond"
         },
         "mode": "markers",
         "name": "0",
         "scene": "scene",
         "showlegend": true,
         "type": "scatter3d",
         "x": [
          -0.14957838805524507,
          -0.15530206240526329,
          -0.1720112142650444,
          -0.13181623423768773,
          -0.1537399071660346,
          -0.1559611051092434,
          0.16470997175938368,
          -0.1731598848582874,
          -0.21625905561658368,
          -0.17277545704540445,
          -0.08926874638842258,
          2.556130336689828,
          -0.14665722243612442,
          -0.1700247892533963,
          -0.17257889350118652,
          -0.23020349099250517,
          -0.21060025919599876,
          -0.17262811383281426,
          -0.1731421201474378,
          -0.17322878062144237,
          -0.21634856685020817,
          0.1884690722849105,
          0.22907051225831312,
          0.07602738989244644,
          -0.17297458063761365,
          -0.16857031811881298,
          -0.1729136917888506,
          -0.17328589576628184,
          -0.16730348418480265,
          -0.15246230916656675,
          -0.17207850014089127,
          -0.17235641275510324,
          1.5792911135827956,
          -0.149539690547906,
          -0.16963974808486765,
          -0.17300107509255777,
          -0.1733566348825148,
          -0.17261431524206095,
          -0.13353861333168893,
          -0.17323763468088274,
          -0.03780321985340957,
          -0.14961743557098045,
          -0.16688826916772082,
          -0.17321696301992234,
          -0.17130638420470023,
          -0.17270260407200574,
          -0.1367411494416447,
          -0.1490800913571668,
          -0.14936782922989414,
          -0.14935051714220615,
          -0.14994280851827735,
          -0.21652288928082586,
          -0.1729329470952149,
          -0.18138458471934676,
          -0.1700294028169855,
          -0.1491475169080715,
          3.8720844659180025,
          0.46393156412793585,
          -0.17179800095966505,
          -0.1563591266286839,
          -0.17051416735842131,
          -0.1733588390251054,
          -0.17037901783406678,
          -0.15657287059269825,
          -0.13531386589978558,
          -0.1233483389513934,
          -0.1768778718984863,
          -0.17323169148567724,
          -0.04587912248507001,
          -0.1027257275027073,
          -0.1733677611176156,
          -0.14964526124352928,
          0.48056645771691975,
          -0.21590878098964894,
          -0.14583306307328503,
          -0.14938444207581753,
          -0.2161942580749798,
          -0.1714868165910347,
          -0.17067737849633832,
          -0.15637125215636796,
          0.37573971812404167,
          -0.2162297513641781,
          -0.14954081484485485,
          -0.16931714277908966,
          -0.13605076654678636,
          -0.17192803686490135,
          0.2698203759695993,
          -0.2153885402212371,
          -0.1465366864634454,
          -0.17217529884228902,
          -0.14151024491217748,
          -0.17315717229010152,
          -0.21619286783676891,
          -0.17336781973516735,
          -0.2163430989766884,
          -0.294846570429504,
          0.3084971353009158,
          -0.14980142998542054,
          -0.10337782482790198,
          -0.17052821716594035,
          -0.1497599815763009,
          -0.17303042976740515,
          -0.1427316436101557,
          -0.15611289661154365,
          -0.15598275966750588,
          -0.09989653223861777,
          -0.2028998092853538,
          -0.2141660575600559,
          0.3084915665484283,
          -0.1733495111984693,
          0.30862253732798484,
          -0.14637483646235305,
          0.5008436396020014,
          -0.130577498639454,
          -0.17331773878962067,
          -0.2090577178031371,
          -0.15599518397598766,
          -0.17144708901817207,
          -0.1460926508744972,
          -0.16597808624690014,
          -0.14416296508719778,
          -0.1950415019708685,
          -0.17287913149637593,
          -0.11605069332219961,
          -0.1727006321755397,
          -0.1304355479516646,
          -0.15721907826327455,
          -0.02525550029489764,
          -0.1401293953895037,
          0.3446901094137927,
          -0.21539683628879028,
          -0.17302081667865274,
          -0.17278339662675138,
          -0.21579248118748626,
          -0.21637122291480873,
          0.3088874705160779,
          -0.13972547404021726,
          3.2436476259113336,
          -0.12283387121182217,
          -0.2072199435700568,
          -0.14957755082228444,
          -0.09873876622461775,
          1.5766826021516738,
          -0.17311882893548775,
          -0.1725690725565782,
          -0.17226941692043787,
          -0.17225632516854864,
          0.30907164312907703,
          0.056846403490535415,
          -0.1706665446529233,
          -0.17200251989001086,
          -0.1558409401147813,
          -0.14529274522126653,
          -0.17144529506547726,
          -0.211905602775385,
          -0.171847537619082,
          -0.15447348637063626,
          -0.17194800897443566,
          -0.11355858662566468,
          1.1484825027398706,
          0.3084742468549216,
          -0.0791643905660491,
          -0.21164532952808773,
          -0.11952246571632077,
          -0.08932683150021506,
          1.1079982046444694,
          -0.2163451701051062,
          -0.17200011627439582,
          -0.16502255488229342,
          -0.17236822240959698,
          -0.2162704257275206,
          -0.14955691830367143,
          -0.21502539190648354,
          -0.2762011045624883,
          8.066735001750523,
          -0.14301251200825224,
          0.3123576632570433,
          0.020077520847592584,
          -0.14479549243885148,
          -0.16691046640996904,
          -0.1729431106678122,
          0.1347945286319901,
          -0.2103978325246511,
          -0.10738702825263378,
          0.31641803631550997,
          -0.17318066554716222,
          -0.16059332066833343,
          -0.15482993759757843,
          -0.14050936211442186,
          -0.21543767953945406,
          0.30865712373107324,
          -0.19510125702955258,
          -0.1462196925544442,
          -0.14480015471038546,
          -0.1428162427406725,
          0.31259622110729496,
          0.59319698946767,
          2.1215675252270616,
          -0.13779917466281624,
          0.32229254868790164,
          -0.19649359356149712,
          -0.15174419073571477,
          -0.21632729095873862,
          -0.17320528237325847,
          -0.11939689719833181,
          -0.14734571964938953,
          -0.059161022252472835,
          3.1214213117154586,
          -0.1093210183211039,
          -0.21629857892400436,
          -0.19591977841525493,
          -0.05035145579178751,
          -0.14221243619387922,
          -0.14957758845298869,
          0.3886120895517335,
          -0.1393883045142751,
          -0.13978156724460813,
          -0.2749020073638957,
          -0.1519819010320036,
          -0.17209497224580314,
          -0.15389598724750947,
          -0.1556733995651429,
          -0.17608677696030073,
          -0.1488521733891819,
          -0.11538021081627417,
          -0.1477174199708943,
          0.5246047678355504,
          -0.09700795314982745,
          -0.09011229644699566,
          -0.1567237183193728,
          -0.1493671985871932,
          0.5440630529842391,
          -0.2101603501270917,
          -0.17328237357677592,
          -0.1712332989159636,
          -0.12408448154191458,
          -0.11751957857313182,
          -0.15614612473368786,
          0.3302788464007734,
          -0.15596216389347367
         ],
         "y": [
          -1.3947689096058655,
          -2.071355262742851,
          -1.0729180289839608,
          -2.239716096513312,
          -2.071468924671123,
          -2.0749244856147766,
          -1.8290540311377657,
          -1.0729017414863198,
          -0.9022150868630587,
          -1.0729233242282195,
          -1.821720604409971,
          -1.2840574222979944,
          -1.3948019249596013,
          -1.0729881908079586,
          -1.0729446748928022,
          -0.5281618304054466,
          -1.3220980440602161,
          -1.0729078098834972,
          -1.072901276195843,
          -1.0728977603725798,
          -0.902215959158941,
          -1.825159842981346,
          -1.400293705106983,
          -1.0762967449236656,
          -1.0728968880276906,
          -1.07298674696559,
          -1.072903390161158,
          -1.0728978546816859,
          -1.6143263767984173,
          -1.0733898641869914,
          -1.0729094861482693,
          -1.0729184182151306,
          -1.0936755808091836,
          -1.3947678960469208,
          -1.0729894568758496,
          -1.0728968458821888,
          -1.0728924306801282,
          -1.0729029097787846,
          -2.2560726661682717,
          -1.0728956809727925,
          -1.080382304188908,
          -1.3947699323321803,
          -1.072970078885428,
          -1.0729032364684372,
          -1.07302175813877,
          -1.0729119941989687,
          -1.39507086356407,
          -1.3947750052927543,
          -1.3947788524476021,
          -1.39480637020587,
          -1.3947631807046506,
          -0.9022072754714642,
          -1.07289726973667,
          -1.2243216980529112,
          -1.072999662650523,
          -1.3947752903144985,
          -2.359196477610594,
          -2.32003957600531,
          -1.0729279906300586,
          -1.0736828621337817,
          -1.0729394615899877,
          -1.0728934291260894,
          -1.0729312211424633,
          -1.0731879233310133,
          -2.3373462155332962,
          -1.8211410435795596,
          -1.634645892967817,
          -1.0728906460564966,
          -1.0769134067189936,
          -2.262799115679246,
          -1.0728921843711168,
          -1.3947706611377635,
          -1.1234837196360843,
          -0.9022154816184128,
          -2.206288587283187,
          -1.3947879439169852,
          -0.9022141257802159,
          -1.0729972172934603,
          -1.0730052833214552,
          -2.071395711319587,
          -2.1466793596279015,
          -0.9022113749945675,
          -1.394767925494327,
          -1.0729402128824275,
          -2.1097833592311614,
          -1.0729158504147436,
          -1.3996873858836782,
          -0.902239395841376,
          -2.129964376725591,
          -1.0729844163071753,
          -2.280808365331206,
          -1.0729009343551215,
          -0.9022170337034984,
          -1.0728921836760839,
          -0.9022209685335841,
          -1.5290490903614313,
          -2.316757210195128,
          -1.3947664602338905,
          -1.821501279908907,
          -1.0729645723093981,
          -1.394766038790923,
          -1.0729049755756068,
          -2.142857450003408,
          -2.0713957894623705,
          -2.0749250527875174,
          -1.078328222110494,
          -0.9022185039528453,
          -0.9023133728727362,
          -2.316765452975503,
          -1.0728932483268878,
          -2.316764966945888,
          -2.206261711858358,
          -0.9570265301243329,
          -2.239819827296184,
          -1.0728928914487894,
          -0.9027478329343299,
          -2.074922433866846,
          -1.0729150308500752,
          -2.206262417823624,
          -2.2837845379054347,
          -1.0750711371979733,
          -0.7230691269415083,
          -1.0729050762737549,
          -1.3957155099138983,
          -1.0729272530995078,
          -2.239757222622778,
          -2.4321759494405213,
          -2.157432638932899,
          -2.154208988046169,
          -2.317274056832188,
          -0.9022513904753762,
          -1.0728968306146858,
          -1.0729316291049649,
          -0.9022323097817367,
          -0.9022172150386165,
          -2.3167793742953338,
          -2.038876369218572,
          -1.1306106146908277,
          -1.4065955341350076,
          -0.9027733066488712,
          -1.3947688876771964,
          -1.0786659401100012,
          -1.0270546880447513,
          -1.0728999300720852,
          -1.0729326403194652,
          -1.072936569131498,
          -1.0729362262344182,
          -2.316800231629398,
          -2.0847929724297662,
          -0.9023311646787742,
          -1.6142220032231533,
          -2.0749213382723837,
          -2.13002476798546,
          -1.072914983863152,
          -0.9023439696545924,
          -1.6142311934650122,
          -2.0715396643439536,
          -1.6142241086853528,
          -1.8213704474158385,
          -2.3573162302452437,
          -2.316759649895773,
          -2.0767219174208424,
          -0.902484369428167,
          -2.24012980248379,
          -1.0743709619665474,
          -1.3174930979655737,
          -0.9022171951432152,
          -1.6142175237637661,
          -1.6143873528448554,
          -1.0729126580035093,
          -0.9022175929193281,
          -1.3947677333794617,
          -1.3996372051059116,
          -0.12439168364499223,
          -2.8496313640504605,
          -2.2667352561415997,
          -2.3168960592605514,
          -1.0751858808234622,
          -2.1299702975322172,
          -1.2246904556415799,
          -1.07291004936811,
          -1.0783694749567172,
          -0.9024148909831227,
          -2.0748848260937454,
          -2.3172784704221097,
          -1.0729022857708126,
          -2.2070907628120167,
          -2.0749309263737086,
          -2.1430043173754196,
          -0.9022524602352918,
          -2.3167592029096298,
          -0.7230506322740913,
          -2.206269631802826,
          -2.3390939545000062,
          -2.1428516424942674,
          -2.31708413756052,
          -2.2892744979772393,
          -2.404701662803558,
          -2.2680139073502823,
          -2.3171246061298394,
          -1.2855134183537926,
          -2.2186060463125457,
          -0.9022176101563159,
          -1.0729037440972604,
          -2.2406789582947475,
          -2.2161530476618205,
          -0.6148151861618412,
          -2.358730660446418,
          -1.395244813720266,
          -0.902219802471456,
          -1.2855557479128392,
          -2.0777371554803947,
          -2.142889929866689,
          -1.3947688886628136,
          -2.3205990503188394,
          -2.2411578536215604,
          -2.2411093472576296,
          -0.12797025928001904,
          -2.2195556345604865,
          -1.072946721785269,
          -2.0750483814987972,
          -2.0749242270038657,
          -1.6346987811397182,
          -1.3947815403209547,
          -0.43241092140177584,
          -1.3948283717808685,
          -1.1268203879073122,
          -1.6151822193883698,
          -2.244942435427121,
          -1.0731918743106414,
          -1.3947788359299087,
          -1.0909050970360703,
          -1.322101979796905,
          -1.072893172346602,
          -1.0729697901854671,
          -1.8211623855443524,
          -2.1957082402378116,
          -2.0713953954737776,
          -2.317210027770014,
          -2.074924513346285
         ],
         "z": [
          0.16836386575817092,
          0.3842521583067043,
          0.022976948497180804,
          0.3413180004865343,
          0.3842056430373868,
          0.3858760479616352,
          0.37405660974689686,
          0.02302352544144506,
          0.0775349208588581,
          0.023010903889415433,
          0.38366878319611325,
          -0.055932658401168865,
          0.1682438710812912,
          0.02290412428347622,
          0.0230063471308319,
          0.03829431600018286,
          0.1404004275438018,
          0.023001692240003858,
          0.023022673226175957,
          0.02302576662659428,
          0.07753894421034757,
          0.3723151665077069,
          0.1530388402550958,
          0.012893901607492255,
          0.02301463595894395,
          0.022841089626397224,
          0.02301320390615624,
          0.02302824882993209,
          0.22050308229265567,
          0.022220060980344958,
          0.022978281358818922,
          0.02299191745710768,
          -0.04878517828168713,
          0.16836200934705897,
          0.02288774026315624,
          0.02301577160348825,
          0.023030304236656036,
          0.023000195676221524,
          0.33613334014376334,
          0.02302576635509533,
          0.018557661499909426,
          0.1683657389600145,
          0.022765434062874994,
          0.02302626361609196,
          0.022965605429732278,
          0.023005676387106308,
          0.1678653877269782,
          0.16834348219294748,
          0.16835660725431584,
          0.1683609203272604,
          0.16837853920863233,
          0.07754487044018867,
          0.02301290941373752,
          0.19756325779114065,
          0.0229064329238525,
          0.16834644442195446,
          0.26261991712981214,
          0.4025016568412015,
          0.02296957889449821,
          0.02244211091120944,
          0.022916283151063515,
          0.023030582961140435,
          0.02290893531689254,
          0.022360321797963302,
          0.3720056588179634,
          0.3850329475314698,
          0.18975755850391798,
          0.02302458400846617,
          0.018268295524182878,
          0.46042735319616634,
          0.023030739107079125,
          0.16836707382345328,
          0.0041127467579106115,
          0.07751987699912294,
          0.3864810562634916,
          0.16835899601294094,
          0.07753194772449633,
          0.022968879395261352,
          0.02293543053561905,
          0.38430573827535947,
          0.3239760255067038,
          0.07753297363551336,
          0.16836206328224737,
          0.02286476251622823,
          0.2800558816156606,
          0.022972958280227024,
          0.15116874427264074,
          0.0775018230356935,
          0.3923843488222185,
          0.02299623758157786,
          0.39925024322593883,
          0.02302325995589054,
          0.07753242246040261,
          0.02303074150896974,
          0.07753962940412247,
          0.421739645104151,
          0.40860599591228436,
          0.16837304094414846,
          0.384237343331612,
          0.022921507051607164,
          0.1683711746983202,
          0.02301853338910758,
          0.37721765075373903,
          0.38429460305387975,
          0.3858770867821009,
          0.020859638651782697,
          0.07695901763197252,
          0.07746266908742512,
          0.408607751988085,
          0.023030147162630955,
          0.40860201043841216,
          0.38649949495829583,
          0.05666682159499854,
          0.34128361649287087,
          0.02302871036696051,
          0.07732210570920076,
          0.38587714137668777,
          0.022952051788233542,
          0.38648744677675845,
          0.4859180119165431,
          0.02217106092383931,
          -0.023501160891000194,
          0.023012022478642622,
          0.16709101338333615,
          0.023008397220982194,
          0.34126597820351523,
          0.3222489688326212,
          0.34325877587863773,
          0.42563876054980476,
          0.4071390940844936,
          0.07750438673341824,
          0.02301662076379633,
          0.02301277369949322,
          0.07751795246732587,
          0.07754015289695332,
          0.40859322632540324,
          0.354301925102233,
          -0.1138202223270488,
          0.0727750536144536,
          0.07724747904823916,
          0.16836382559412194,
          0.020871776488927726,
          -0.06092340700816218,
          0.023021420534324207,
          0.023003710281141964,
          0.0229915008060206,
          0.022990872763664506,
          0.40858911359210337,
          0.37850682694177884,
          0.0755886759596369,
          0.2206866807840868,
          0.38587028336214807,
          0.3923417705432968,
          0.02295196572807228,
          0.07737074329805957,
          0.22068168234752794,
          0.38425030957610573,
          0.22068471548102822,
          0.3846526456908385,
          0.37981391881550836,
          0.4086074323183476,
          0.38195322611591553,
          0.07738532882008739,
          0.34086352633456124,
          0.019675798905826897,
          -0.011970138692649306,
          0.07753902490345443,
          0.22068575333356014,
          0.22041585929589474,
          0.022991367879087666,
          0.0775358723817139,
          0.16836272291538878,
          0.13371148632848928,
          0.09871919792779765,
          0.17178082233044897,
          0.31945404322630666,
          0.408464923697167,
          0.015104199074548161,
          0.3923102946257286,
          0.19700642299027152,
          0.02301569805733573,
          0.010738897934639832,
          0.07731871557158836,
          0.382833382601473,
          0.4083600151833481,
          0.023024522340325225,
          0.5238265539468415,
          0.38582841568041937,
          0.37714875316998403,
          0.0775063460809214,
          0.4085994578889812,
          -0.023501983054539977,
          0.3864942559533252,
          0.3813748294775943,
          0.377220233780641,
          0.4084892138911903,
          0.2932735895666868,
          0.3465330907346753,
          0.3572224523360615,
          0.4080782009065502,
          0.250392482364076,
          0.4373321258916945,
          0.07753832962712086,
          0.023025852873137225,
          0.3409590906196486,
          0.375491488912295,
          -0.1839288968726943,
          0.19693772375074658,
          0.1667140320364142,
          0.07753749367171528,
          0.25037550270952574,
          0.38183557532603996,
          0.3772012165065486,
          0.16836382739935593,
          0.40585502460361034,
          0.39145946873849297,
          0.3914675206315411,
          0.10026030196724627,
          0.4231039991362234,
          0.022985839426307806,
          0.38580970874363685,
          0.3858635841866271,
          0.18973314352859624,
          0.16833484788100941,
          -0.07285016932801362,
          0.1682944882231052,
          0.0028258037968726868,
          0.21762678801722823,
          0.390028853753558,
          0.02236755832081077,
          0.16835657700089132,
          -0.004618339092656587,
          0.14038216656537147,
          0.02302723579977076,
          0.02295289506351136,
          0.3850686410359054,
          0.30696717137809676,
          0.3842959645967206,
          0.40774925230817277,
          0.38587609875402346
         ]
        },
        {
         "customdata": [
          [
           "VeChainThor Authority"
          ],
          [
           "Proof-of-BibleHash"
          ],
          [
           "SHA-256 + Hive"
          ],
          [
           "Proof-of-Authority"
          ],
          [
           "ECC 256K1"
          ],
          [
           "Leased POS"
          ]
         ],
         "hovertemplate": "<b>%{hovertext}</b><br><br>Class=%{marker.color}<br>PC1=%{x}<br>PC2=%{y}<br>PC3=%{z}<br>Algorithm=%{customdata[0]}<extra></extra>",
         "hovertext": [
          "Vechain",
          "BiblePay",
          "LitecoinCash",
          "Poa Network",
          "Acute Angle Cloud",
          "Waves"
         ],
         "legendgroup": "3",
         "marker": {
          "color": [
           3,
           3,
           3,
           3,
           3,
           3
          ],
          "coloraxis": "coloraxis",
          "symbol": "square"
         },
         "mode": "markers",
         "name": "3",
         "scene": "scene",
         "showlegend": true,
         "type": "scatter3d",
         "x": [
          4.331521645676108,
          -0.19782547402094727,
          -0.3425060611005041,
          -0.34212807945991947,
          -0.3557739185285575,
          -0.3823021854848705
         ],
         "y": [
          1.816650130267307,
          3.330808511979163,
          3.155877194975455,
          4.173226904823897,
          2.0494230616477718,
          3.572502702555297
         ],
         "z": [
          12.682276810944199,
          15.108355859031438,
          10.555273847807305,
          11.365460027618042,
          12.797829231410715,
          14.12630545232606
         ]
        },
        {
         "customdata": [
          [
           "TRC10"
          ]
         ],
         "hovertemplate": "<b>%{hovertext}</b><br><br>Class=%{marker.color}<br>PC1=%{x}<br>PC2=%{y}<br>PC3=%{z}<br>Algorithm=%{customdata[0]}<extra></extra>",
         "hovertext": [
          "BitTorrent"
         ],
         "legendgroup": "2",
         "marker": {
          "color": [
           2
          ],
          "coloraxis": "coloraxis",
          "symbol": "x"
         },
         "mode": "markers",
         "name": "2",
         "scene": "scene",
         "showlegend": true,
         "type": "scatter3d",
         "x": [
          34.09793109579171
         ],
         "y": [
          1.6050302601399307
         ],
         "z": [
          -1.7723501153710783
         ]
        }
       ],
       "layout": {
        "coloraxis": {
         "colorbar": {
          "title": {
           "text": "Class"
          }
         },
         "colorscale": [
          [
           0,
           "#0d0887"
          ],
          [
           0.1111111111111111,
           "#46039f"
          ],
          [
           0.2222222222222222,
           "#7201a8"
          ],
          [
           0.3333333333333333,
           "#9c179e"
          ],
          [
           0.4444444444444444,
           "#bd3786"
          ],
          [
           0.5555555555555556,
           "#d8576b"
          ],
          [
           0.6666666666666666,
           "#ed7953"
          ],
          [
           0.7777777777777778,
           "#fb9f3a"
          ],
          [
           0.8888888888888888,
           "#fdca26"
          ],
          [
           1,
           "#f0f921"
          ]
         ]
        },
        "legend": {
         "title": {
          "text": "Class"
         },
         "tracegroupgap": 0,
         "x": 0,
         "y": 1
        },
        "margin": {
         "t": 60
        },
        "scene": {
         "domain": {
          "x": [
           0,
           1
          ],
          "y": [
           0,
           1
          ]
         },
         "xaxis": {
          "title": {
           "text": "PC1"
          }
         },
         "yaxis": {
          "title": {
           "text": "PC2"
          }
         },
         "zaxis": {
          "title": {
           "text": "PC3"
          }
         }
        },
        "template": {
         "data": {
          "bar": [
           {
            "error_x": {
             "color": "#2a3f5f"
            },
            "error_y": {
             "color": "#2a3f5f"
            },
            "marker": {
             "line": {
              "color": "#E5ECF6",
              "width": 0.5
             }
            },
            "type": "bar"
           }
          ],
          "barpolar": [
           {
            "marker": {
             "line": {
              "color": "#E5ECF6",
              "width": 0.5
             }
            },
            "type": "barpolar"
           }
          ],
          "carpet": [
           {
            "aaxis": {
             "endlinecolor": "#2a3f5f",
             "gridcolor": "white",
             "linecolor": "white",
             "minorgridcolor": "white",
             "startlinecolor": "#2a3f5f"
            },
            "baxis": {
             "endlinecolor": "#2a3f5f",
             "gridcolor": "white",
             "linecolor": "white",
             "minorgridcolor": "white",
             "startlinecolor": "#2a3f5f"
            },
            "type": "carpet"
           }
          ],
          "choropleth": [
           {
            "colorbar": {
             "outlinewidth": 0,
             "ticks": ""
            },
            "type": "choropleth"
           }
          ],
          "contour": [
           {
            "colorbar": {
             "outlinewidth": 0,
             "ticks": ""
            },
            "colorscale": [
             [
              0,
              "#0d0887"
             ],
             [
              0.1111111111111111,
              "#46039f"
             ],
             [
              0.2222222222222222,
              "#7201a8"
             ],
             [
              0.3333333333333333,
              "#9c179e"
             ],
             [
              0.4444444444444444,
              "#bd3786"
             ],
             [
              0.5555555555555556,
              "#d8576b"
             ],
             [
              0.6666666666666666,
              "#ed7953"
             ],
             [
              0.7777777777777778,
              "#fb9f3a"
             ],
             [
              0.8888888888888888,
              "#fdca26"
             ],
             [
              1,
              "#f0f921"
             ]
            ],
            "type": "contour"
           }
          ],
          "contourcarpet": [
           {
            "colorbar": {
             "outlinewidth": 0,
             "ticks": ""
            },
            "type": "contourcarpet"
           }
          ],
          "heatmap": [
           {
            "colorbar": {
             "outlinewidth": 0,
             "ticks": ""
            },
            "colorscale": [
             [
              0,
              "#0d0887"
             ],
             [
              0.1111111111111111,
              "#46039f"
             ],
             [
              0.2222222222222222,
              "#7201a8"
             ],
             [
              0.3333333333333333,
              "#9c179e"
             ],
             [
              0.4444444444444444,
              "#bd3786"
             ],
             [
              0.5555555555555556,
              "#d8576b"
             ],
             [
              0.6666666666666666,
              "#ed7953"
             ],
             [
              0.7777777777777778,
              "#fb9f3a"
             ],
             [
              0.8888888888888888,
              "#fdca26"
             ],
             [
              1,
              "#f0f921"
             ]
            ],
            "type": "heatmap"
           }
          ],
          "heatmapgl": [
           {
            "colorbar": {
             "outlinewidth": 0,
             "ticks": ""
            },
            "colorscale": [
             [
              0,
              "#0d0887"
             ],
             [
              0.1111111111111111,
              "#46039f"
             ],
             [
              0.2222222222222222,
              "#7201a8"
             ],
             [
              0.3333333333333333,
              "#9c179e"
             ],
             [
              0.4444444444444444,
              "#bd3786"
             ],
             [
              0.5555555555555556,
              "#d8576b"
             ],
             [
              0.6666666666666666,
              "#ed7953"
             ],
             [
              0.7777777777777778,
              "#fb9f3a"
             ],
             [
              0.8888888888888888,
              "#fdca26"
             ],
             [
              1,
              "#f0f921"
             ]
            ],
            "type": "heatmapgl"
           }
          ],
          "histogram": [
           {
            "marker": {
             "colorbar": {
              "outlinewidth": 0,
              "ticks": ""
             }
            },
            "type": "histogram"
           }
          ],
          "histogram2d": [
           {
            "colorbar": {
             "outlinewidth": 0,
             "ticks": ""
            },
            "colorscale": [
             [
              0,
              "#0d0887"
             ],
             [
              0.1111111111111111,
              "#46039f"
             ],
             [
              0.2222222222222222,
              "#7201a8"
             ],
             [
              0.3333333333333333,
              "#9c179e"
             ],
             [
              0.4444444444444444,
              "#bd3786"
             ],
             [
              0.5555555555555556,
              "#d8576b"
             ],
             [
              0.6666666666666666,
              "#ed7953"
             ],
             [
              0.7777777777777778,
              "#fb9f3a"
             ],
             [
              0.8888888888888888,
              "#fdca26"
             ],
             [
              1,
              "#f0f921"
             ]
            ],
            "type": "histogram2d"
           }
          ],
          "histogram2dcontour": [
           {
            "colorbar": {
             "outlinewidth": 0,
             "ticks": ""
            },
            "colorscale": [
             [
              0,
              "#0d0887"
             ],
             [
              0.1111111111111111,
              "#46039f"
             ],
             [
              0.2222222222222222,
              "#7201a8"
             ],
             [
              0.3333333333333333,
              "#9c179e"
             ],
             [
              0.4444444444444444,
              "#bd3786"
             ],
             [
              0.5555555555555556,
              "#d8576b"
             ],
             [
              0.6666666666666666,
              "#ed7953"
             ],
             [
              0.7777777777777778,
              "#fb9f3a"
             ],
             [
              0.8888888888888888,
              "#fdca26"
             ],
             [
              1,
              "#f0f921"
             ]
            ],
            "type": "histogram2dcontour"
           }
          ],
          "mesh3d": [
           {
            "colorbar": {
             "outlinewidth": 0,
             "ticks": ""
            },
            "type": "mesh3d"
           }
          ],
          "parcoords": [
           {
            "line": {
             "colorbar": {
              "outlinewidth": 0,
              "ticks": ""
             }
            },
            "type": "parcoords"
           }
          ],
          "pie": [
           {
            "automargin": true,
            "type": "pie"
           }
          ],
          "scatter": [
           {
            "marker": {
             "colorbar": {
              "outlinewidth": 0,
              "ticks": ""
             }
            },
            "type": "scatter"
           }
          ],
          "scatter3d": [
           {
            "line": {
             "colorbar": {
              "outlinewidth": 0,
              "ticks": ""
             }
            },
            "marker": {
             "colorbar": {
              "outlinewidth": 0,
              "ticks": ""
             }
            },
            "type": "scatter3d"
           }
          ],
          "scattercarpet": [
           {
            "marker": {
             "colorbar": {
              "outlinewidth": 0,
              "ticks": ""
             }
            },
            "type": "scattercarpet"
           }
          ],
          "scattergeo": [
           {
            "marker": {
             "colorbar": {
              "outlinewidth": 0,
              "ticks": ""
             }
            },
            "type": "scattergeo"
           }
          ],
          "scattergl": [
           {
            "marker": {
             "colorbar": {
              "outlinewidth": 0,
              "ticks": ""
             }
            },
            "type": "scattergl"
           }
          ],
          "scattermapbox": [
           {
            "marker": {
             "colorbar": {
              "outlinewidth": 0,
              "ticks": ""
             }
            },
            "type": "scattermapbox"
           }
          ],
          "scatterpolar": [
           {
            "marker": {
             "colorbar": {
              "outlinewidth": 0,
              "ticks": ""
             }
            },
            "type": "scatterpolar"
           }
          ],
          "scatterpolargl": [
           {
            "marker": {
             "colorbar": {
              "outlinewidth": 0,
              "ticks": ""
             }
            },
            "type": "scatterpolargl"
           }
          ],
          "scatterternary": [
           {
            "marker": {
             "colorbar": {
              "outlinewidth": 0,
              "ticks": ""
             }
            },
            "type": "scatterternary"
           }
          ],
          "surface": [
           {
            "colorbar": {
             "outlinewidth": 0,
             "ticks": ""
            },
            "colorscale": [
             [
              0,
              "#0d0887"
             ],
             [
              0.1111111111111111,
              "#46039f"
             ],
             [
              0.2222222222222222,
              "#7201a8"
             ],
             [
              0.3333333333333333,
              "#9c179e"
             ],
             [
              0.4444444444444444,
              "#bd3786"
             ],
             [
              0.5555555555555556,
              "#d8576b"
             ],
             [
              0.6666666666666666,
              "#ed7953"
             ],
             [
              0.7777777777777778,
              "#fb9f3a"
             ],
             [
              0.8888888888888888,
              "#fdca26"
             ],
             [
              1,
              "#f0f921"
             ]
            ],
            "type": "surface"
           }
          ],
          "table": [
           {
            "cells": {
             "fill": {
              "color": "#EBF0F8"
             },
             "line": {
              "color": "white"
             }
            },
            "header": {
             "fill": {
              "color": "#C8D4E3"
             },
             "line": {
              "color": "white"
             }
            },
            "type": "table"
           }
          ]
         },
         "layout": {
          "annotationdefaults": {
           "arrowcolor": "#2a3f5f",
           "arrowhead": 0,
           "arrowwidth": 1
          },
          "autotypenumbers": "strict",
          "coloraxis": {
           "colorbar": {
            "outlinewidth": 0,
            "ticks": ""
           }
          },
          "colorscale": {
           "diverging": [
            [
             0,
             "#8e0152"
            ],
            [
             0.1,
             "#c51b7d"
            ],
            [
             0.2,
             "#de77ae"
            ],
            [
             0.3,
             "#f1b6da"
            ],
            [
             0.4,
             "#fde0ef"
            ],
            [
             0.5,
             "#f7f7f7"
            ],
            [
             0.6,
             "#e6f5d0"
            ],
            [
             0.7,
             "#b8e186"
            ],
            [
             0.8,
             "#7fbc41"
            ],
            [
             0.9,
             "#4d9221"
            ],
            [
             1,
             "#276419"
            ]
           ],
           "sequential": [
            [
             0,
             "#0d0887"
            ],
            [
             0.1111111111111111,
             "#46039f"
            ],
            [
             0.2222222222222222,
             "#7201a8"
            ],
            [
             0.3333333333333333,
             "#9c179e"
            ],
            [
             0.4444444444444444,
             "#bd3786"
            ],
            [
             0.5555555555555556,
             "#d8576b"
            ],
            [
             0.6666666666666666,
             "#ed7953"
            ],
            [
             0.7777777777777778,
             "#fb9f3a"
            ],
            [
             0.8888888888888888,
             "#fdca26"
            ],
            [
             1,
             "#f0f921"
            ]
           ],
           "sequentialminus": [
            [
             0,
             "#0d0887"
            ],
            [
             0.1111111111111111,
             "#46039f"
            ],
            [
             0.2222222222222222,
             "#7201a8"
            ],
            [
             0.3333333333333333,
             "#9c179e"
            ],
            [
             0.4444444444444444,
             "#bd3786"
            ],
            [
             0.5555555555555556,
             "#d8576b"
            ],
            [
             0.6666666666666666,
             "#ed7953"
            ],
            [
             0.7777777777777778,
             "#fb9f3a"
            ],
            [
             0.8888888888888888,
             "#fdca26"
            ],
            [
             1,
             "#f0f921"
            ]
           ]
          },
          "colorway": [
           "#636efa",
           "#EF553B",
           "#00cc96",
           "#ab63fa",
           "#FFA15A",
           "#19d3f3",
           "#FF6692",
           "#B6E880",
           "#FF97FF",
           "#FECB52"
          ],
          "font": {
           "color": "#2a3f5f"
          },
          "geo": {
           "bgcolor": "white",
           "lakecolor": "white",
           "landcolor": "#E5ECF6",
           "showlakes": true,
           "showland": true,
           "subunitcolor": "white"
          },
          "hoverlabel": {
           "align": "left"
          },
          "hovermode": "closest",
          "mapbox": {
           "style": "light"
          },
          "paper_bgcolor": "white",
          "plot_bgcolor": "#E5ECF6",
          "polar": {
           "angularaxis": {
            "gridcolor": "white",
            "linecolor": "white",
            "ticks": ""
           },
           "bgcolor": "#E5ECF6",
           "radialaxis": {
            "gridcolor": "white",
            "linecolor": "white",
            "ticks": ""
           }
          },
          "scene": {
           "xaxis": {
            "backgroundcolor": "#E5ECF6",
            "gridcolor": "white",
            "gridwidth": 2,
            "linecolor": "white",
            "showbackground": true,
            "ticks": "",
            "zerolinecolor": "white"
           },
           "yaxis": {
            "backgroundcolor": "#E5ECF6",
            "gridcolor": "white",
            "gridwidth": 2,
            "linecolor": "white",
            "showbackground": true,
            "ticks": "",
            "zerolinecolor": "white"
           },
           "zaxis": {
            "backgroundcolor": "#E5ECF6",
            "gridcolor": "white",
            "gridwidth": 2,
            "linecolor": "white",
            "showbackground": true,
            "ticks": "",
            "zerolinecolor": "white"
           }
          },
          "shapedefaults": {
           "line": {
            "color": "#2a3f5f"
           }
          },
          "ternary": {
           "aaxis": {
            "gridcolor": "white",
            "linecolor": "white",
            "ticks": ""
           },
           "baxis": {
            "gridcolor": "white",
            "linecolor": "white",
            "ticks": ""
           },
           "bgcolor": "#E5ECF6",
           "caxis": {
            "gridcolor": "white",
            "linecolor": "white",
            "ticks": ""
           }
          },
          "title": {
           "x": 0.05
          },
          "xaxis": {
           "automargin": true,
           "gridcolor": "white",
           "linecolor": "white",
           "ticks": "",
           "title": {
            "standoff": 15
           },
           "zerolinecolor": "white",
           "zerolinewidth": 2
          },
          "yaxis": {
           "automargin": true,
           "gridcolor": "white",
           "linecolor": "white",
           "ticks": "",
           "title": {
            "standoff": 15
           },
           "zerolinecolor": "white",
           "zerolinewidth": 2
          }
         }
        },
        "width": 800
       }
      },
      "text/html": [
       "<div>                            <div id=\"9884dd45-07cc-4fd4-aea7-916b7680325d\" class=\"plotly-graph-div\" style=\"height:525px; width:800px;\"></div>            <script type=\"text/javascript\">                require([\"plotly\"], function(Plotly) {                    window.PLOTLYENV=window.PLOTLYENV || {};                                    if (document.getElementById(\"9884dd45-07cc-4fd4-aea7-916b7680325d\")) {                    Plotly.newPlot(                        \"9884dd45-07cc-4fd4-aea7-916b7680325d\",                        [{\"customdata\": [[\"Scrypt\"], [\"Scrypt\"], [\"X13\"], [\"X11\"], [\"SHA-512\"], [\"SHA-256\"], [\"SHA-256\"], [\"X15\"], [\"Scrypt\"], [\"Scrypt\"], [\"Scrypt\"], [\"Scrypt\"], [\"Scrypt\"], [\"Scrypt\"], [\"Groestl\"], [\"PoS\"], [\"Scrypt\"], [\"Scrypt\"], [\"X11\"], [\"X11\"], [\"SHA3\"], [\"Scrypt\"], [\"SHA-256\"], [\"Scrypt\"], [\"X13\"], [\"X13\"], [\"NeoScrypt\"], [\"Scrypt\"], [\"Scrypt\"], [\"Scrypt\"], [\"X11\"], [\"X11\"], [\"Multiple\"], [\"PHI1612\"], [\"X11\"], [\"Scrypt\"], [\"Scrypt\"], [\"Scrypt\"], [\"X11\"], [\"Multiple\"], [\"X13\"], [\"Scrypt\"], [\"Shabal256\"], [\"Counterparty\"], [\"SHA-256\"], [\"Groestl\"], [\"Scrypt\"], [\"X13\"], [\"Scrypt\"], [\"Scrypt\"], [\"X13\"], [\"X11\"], [\"Scrypt\"], [\"X11\"], [\"SHA3\"], [\"QUAIT\"], [\"X11\"], [\"Scrypt\"], [\"X13\"], [\"SHA-256\"], [\"X15\"], [\"BLAKE256\"], [\"SHA-256\"], [\"X11\"], [\"SHA-256\"], [\"NIST5\"], [\"Scrypt\"], [\"Scrypt\"], [\"X11\"], [\"Scrypt\"], [\"SHA-256\"], [\"Scrypt\"], [\"PoS\"], [\"X11\"], [\"SHA-256\"], [\"SHA-256\"], [\"NIST5\"], [\"X11\"], [\"POS 3.0\"], [\"Scrypt\"], [\"Scrypt\"], [\"Scrypt\"], [\"X13\"], [\"X11\"], [\"X11\"], [\"Scrypt\"], [\"SHA-256\"], [\"X11\"], [\"Scrypt\"], [\"Scrypt\"], [\"Scrypt\"], [\"Scrypt\"], [\"SHA-256D\"], [\"PoS\"], [\"Scrypt\"], [\"X11\"], [\"PoS\"], [\"X13\"], [\"X14\"], [\"PoS\"], [\"SHA-256D\"], [\"DPoS\"], [\"X11\"], [\"X13\"], [\"X11\"], [\"PoS\"], [\"Scrypt\"], [\"Scrypt\"], [\"PoS\"], [\"X11\"], [\"SHA-256\"], [\"Scrypt\"], [\"X11\"], [\"Scrypt\"], [\"Scrypt\"], [\"X11\"], [\"Scrypt\"], [\"Scrypt\"], [\"Scrypt\"], [\"Scrypt\"], [\"Quark\"], [\"QuBit\"], [\"Scrypt\"], [\"SHA-256\"], [\"X11\"], [\"Scrypt\"], [\"Scrypt\"], [\"Scrypt\"], [\"Scrypt\"], [\"X13\"], [\"Scrypt\"], [\"Scrypt\"], [\"X11\"], [\"Blake2S\"], [\"X11\"], [\"PoS\"], [\"X11\"], [\"PoS\"], [\"X11\"], [\"Scrypt\"], [\"Scrypt\"], [\"Scrypt\"], [\"SHA-256\"], [\"X11\"], [\"Scrypt\"], [\"PoS\"], [\"Scrypt\"], [\"X15\"], [\"SHA-256\"], [\"POS 3.0\"], [\"536\"], [\"NIST5\"], [\"NIST5\"], [\"Skein\"], [\"X13\"], [\"Scrypt\"], [\"X13\"], [\"SkunkHash v2 Raptor\"], [\"Skein\"], [\"X11\"], [\"Scrypt\"], [\"PoS\"], [\"Scrypt\"], [\"Scrypt\"], [\"SHA-512\"], [\"Ouroboros\"], [\"X11\"], [\"NeoScrypt\"], [\"Scrypt\"], [\"Lyra2REv2\"], [\"Scrypt\"], [\"SHA-256\"], [\"NIST5\"], [\"PHI1612\"], [\"Scrypt\"], [\"Quark\"], [\"POS 2.0\"], [\"Scrypt\"], [\"SHA-256\"], [\"X11\"], [\"DPoS\"], [\"NIST5\"], [\"X13\"], [\"Scrypt\"], [\"NIST5\"], [\"Quark\"], [\"Scrypt\"], [\"Scrypt\"], [\"X11\"], [\"Quark\"], [\"Scrypt\"], [\"Scrypt\"], [\"X11\"], [\"POS 3.0\"], [\"Scrypt\"], [\"Scrypt\"], [\"X13\"], [\"C11\"], [\"X11\"], [\"XEVAN\"], [\"Scrypt\"], [\"VBFT\"], [\"NIST5\"], [\"Scrypt\"], [\"Scrypt\"], [\"Scrypt\"], [\"Green Protocol\"], [\"PoS\"], [\"Scrypt\"], [\"Semux BFT consensus\"], [\"Quark\"], [\"PoS\"], [\"X16R\"], [\"Scrypt\"], [\"XEVAN\"], [\"Scrypt\"], [\"Scrypt\"], [\"Scrypt\"], [\"SHA-256D\"], [\"Scrypt\"], [\"X15\"], [\"Scrypt\"], [\"Quark\"], [\"SHA-256\"], [\"DPoS\"], [\"X16R\"], [\"Quark\"], [\"Quark\"], [\"Scrypt\"], [\"Lyra2REv2\"], [\"Quark\"], [\"Scrypt\"], [\"X11\"], [\"X11\"], [\"Scrypt\"], [\"PoS\"], [\"Keccak\"], [\"X11\"], [\"Scrypt\"], [\"SHA-512\"], [\"XEVAN\"], [\"XEVAN\"], [\"X11\"], [\"Quark\"], [\"Scrypt\"], [\"Quark\"], [\"Quark\"], [\"Scrypt\"], [\"X11\"], [\"Scrypt\"], [\"XEVAN\"], [\"SHA-256D\"], [\"X11\"], [\"X11\"], [\"DPoS\"], [\"Scrypt\"], [\"X11\"], [\"Scrypt\"], [\"Scrypt\"], [\"SHA-256\"], [\"Scrypt\"], [\"X11\"], [\"Scrypt\"], [\"SHA-256\"], [\"X11\"], [\"Scrypt\"], [\"Scrypt\"], [\"X11\"], [\"Scrypt\"], [\"PoS\"], [\"X11\"], [\"SHA-256\"], [\"DPoS\"], [\"Scrypt\"], [\"Scrypt\"], [\"NeoScrypt\"], [\"X13\"], [\"DPoS\"], [\"DPoS\"], [\"SHA-256\"], [\"PoS\"], [\"PoS\"], [\"SHA-256\"], [\"Scrypt\"], [\"Scrypt\"]], \"hovertemplate\": \"<b>%{hovertext}</b><br><br>Class=%{marker.color}<br>PC1=%{x}<br>PC2=%{y}<br>PC3=%{z}<br>Algorithm=%{customdata[0]}<extra></extra>\", \"hovertext\": [\"42 Coin\", \"404Coin\", \"EliteCoin\", \"Dash\", \"Bitshares\", \"BitcoinDark\", \"PayCoin\", \"KoboCoin\", \"Aurora Coin\", \"BlueCoin\", \"EnergyCoin\", \"BitBar\", \"CryptoBullion\", \"CasinoCoin\", \"Diamond\", \"Exclusive Coin\", \"FlutterCoin\", \"HoboNickels\", \"HyperStake\", \"IOCoin\", \"MaxCoin\", \"MintCoin\", \"MazaCoin\", \"Nautilus Coin\", \"NavCoin\", \"OpalCoin\", \"Orbitcoin\", \"PotCoin\", \"PhoenixCoin\", \"Reddcoin\", \"SuperCoin\", \"SyncCoin\", \"TeslaCoin\", \"TittieCoin\", \"TorCoin\", \"UnitaryStatus Dollar\", \"UltraCoin\", \"VeriCoin\", \"X11 Coin\", \"Crypti\", \"StealthCoin\", \"ZCC Coin\", \"BurstCoin\", \"StorjCoin\", \"Neutron\", \"FairCoin\", \"RubyCoin\", \"Kore\", \"Dnotes\", \"8BIT Coin\", \"Sativa Coin\", \"Ucoin\", \"Vtorrent\", \"IslaCoin\", \"Nexus\", \"Droidz\", \"Squall Coin\", \"Diggits\", \"Paycon\", \"Emercoin\", \"EverGreenCoin\", \"Decred\", \"EDRCoin\", \"Hitcoin\", \"DubaiCoin\", \"PWR Coin\", \"BillaryCoin\", \"GPU Coin\", \"EuropeCoin\", \"ZeitCoin\", \"SwingCoin\", \"SafeExchangeCoin\", \"Nebuchadnezzar\", \"Ratecoin\", \"Revenu\", \"Clockcoin\", \"VIP Tokens\", \"BitSend\", \"Let it Ride\", \"PutinCoin\", \"iBankCoin\", \"Frankywillcoin\", \"MudraCoin\", \"Lutetium Coin\", \"GoldBlocks\", \"CarterCoin\", \"BitTokens\", \"MustangCoin\", \"ZoneCoin\", \"RootCoin\", \"BitCurrency\", \"Swiscoin\", \"BuzzCoin\", \"Opair\", \"PesoBit\", \"Halloween Coin\", \"CoffeeCoin\", \"RoyalCoin\", \"GanjaCoin V2\", \"TeamUP\", \"LanaCoin\", \"ARK\", \"InsaneCoin\", \"EmberCoin\", \"XenixCoin\", \"FreeCoin\", \"PLNCoin\", \"AquariusCoin\", \"Creatio\", \"Eternity\", \"Eurocoin\", \"BitcoinFast\", \"Stakenet\", \"BitConnect Coin\", \"MoneyCoin\", \"Enigma\", \"Russiacoin\", \"PandaCoin\", \"GameUnits\", \"GAKHcoin\", \"Allsafe\", \"LiteCreed\", \"Klingon Empire Darsek\", \"Internet of People\", \"KushCoin\", \"Printerium\", \"Impeach\", \"Zilbercoin\", \"FirstCoin\", \"FindCoin\", \"OpenChat\", \"RenosCoin\", \"VirtacoinPlus\", \"TajCoin\", \"Impact\", \"Atmos\", \"HappyCoin\", \"MacronCoin\", \"Condensate\", \"Independent Money System\", \"ArgusCoin\", \"LomoCoin\", \"ProCurrency\", \"GoldReserve\", \"GrowthCoin\", \"Phreak\", \"Degas Coin\", \"HTML5 Coin\", \"Ultimate Secure Cash\", \"QTUM\", \"Espers\", \"Denarius\", \"Virta Unique Coin\", \"Bitcoin Planet\", \"BritCoin\", \"Linda\", \"DeepOnion\", \"Signatum\", \"Cream\", \"Monoeci\", \"Draftcoin\", \"Stakecoin\", \"CoinonatX\", \"Ethereum Dark\", \"Obsidian\", \"Cardano\", \"Regalcoin\", \"TrezarCoin\", \"TerraNovaCoin\", \"Rupee\", \"WomenCoin\", \"Theresa May Coin\", \"NamoCoin\", \"LUXCoin\", \"Xios\", \"Bitcloud 2.0\", \"KekCoin\", \"BlackholeCoin\", \"Infinity Economics\", \"Magnet\", \"Lamden Tau\", \"Electra\", \"Bitcoin Diamond\", \"Cash & Back Coin\", \"Bulwark\", \"Kalkulus\", \"GermanCoin\", \"LiteCoin Ultra\", \"PhantomX\", \"Digiwage\", \"Trollcoin\", \"Litecoin Plus\", \"Monkey Project\", \"TokenPay\", \"My Big Coin\", \"Unified Society USDEX\", \"Tokyo Coin\", \"Stipend\", \"Pushi\", \"Ellerium\", \"Velox\", \"Ontology\", \"Bitspace\", \"Briacoin\", \"Ignition\", \"MedicCoin\", \"Bitcoin Green\", \"Deviant Coin\", \"Abjcoin\", \"Semux\", \"Carebit\", \"Zealium\", \"Proton\", \"iDealCash\", \"Bitcoin Incognito\", \"HollyWoodCoin\", \"Swisscoin\", \"Xt3ch\", \"TheVig\", \"EmaratCoin\", \"Dekado\", \"Lynx\", \"Poseidon Quark\", \"BitcoinWSpectrum\", \"Muse\", \"Trivechain\", \"Dystem\", \"Giant\", \"Peony Coin\", \"Absolute Coin\", \"Vitae\", \"TPCash\", \"ARENON\", \"EUNO\", \"MMOCoin\", \"Ketan\", \"XDNA\", \"PAXEX\", \"ThunderStake\", \"Kcash\", \"Bettex coin\", \"BitMoney\", \"Junson Ming Chan Coin\", \"HerbCoin\", \"Oduwa\", \"Galilel\", \"Crypto Sports\", \"Credit\", \"Dash Platinum\", \"Nasdacoin\", \"Beetle Coin\", \"Titan Coin\", \"Award\", \"Insane Coin\", \"ALAX\", \"LiteDoge\", \"TruckCoin\", \"OrangeCoin\", \"BitstarCoin\", \"NeosCoin\", \"HyperCoin\", \"PinkCoin\", \"AudioCoin\", \"IncaKoin\", \"Piggy Coin\", \"Genstake\", \"XiaoMiCoin\", \"CapriCoin\", \" ClubCoin\", \"Radium\", \"Creditbit \", \"OKCash\", \"Lisk\", \"HiCoin\", \"WhiteCoin\", \"FriendshipCoin\", \"Triangles Coin\", \"EOS\", \"Oxycoin\", \"TigerCash\", \"Particl\", \"Nxt\", \"ZEPHYR\", \"Gapcoin\", \"BitcoinPlus\"], \"legendgroup\": \"1\", \"marker\": {\"color\": [1, 1, 1, 1, 1, 1, 1, 1, 1, 1, 1, 1, 1, 1, 1, 1, 1, 1, 1, 1, 1, 1, 1, 1, 1, 1, 1, 1, 1, 1, 1, 1, 1, 1, 1, 1, 1, 1, 1, 1, 1, 1, 1, 1, 1, 1, 1, 1, 1, 1, 1, 1, 1, 1, 1, 1, 1, 1, 1, 1, 1, 1, 1, 1, 1, 1, 1, 1, 1, 1, 1, 1, 1, 1, 1, 1, 1, 1, 1, 1, 1, 1, 1, 1, 1, 1, 1, 1, 1, 1, 1, 1, 1, 1, 1, 1, 1, 1, 1, 1, 1, 1, 1, 1, 1, 1, 1, 1, 1, 1, 1, 1, 1, 1, 1, 1, 1, 1, 1, 1, 1, 1, 1, 1, 1, 1, 1, 1, 1, 1, 1, 1, 1, 1, 1, 1, 1, 1, 1, 1, 1, 1, 1, 1, 1, 1, 1, 1, 1, 1, 1, 1, 1, 1, 1, 1, 1, 1, 1, 1, 1, 1, 1, 1, 1, 1, 1, 1, 1, 1, 1, 1, 1, 1, 1, 1, 1, 1, 1, 1, 1, 1, 1, 1, 1, 1, 1, 1, 1, 1, 1, 1, 1, 1, 1, 1, 1, 1, 1, 1, 1, 1, 1, 1, 1, 1, 1, 1, 1, 1, 1, 1, 1, 1, 1, 1, 1, 1, 1, 1, 1, 1, 1, 1, 1, 1, 1, 1, 1, 1, 1, 1, 1, 1, 1, 1, 1, 1, 1, 1, 1, 1, 1, 1, 1, 1, 1, 1, 1, 1, 1, 1, 1, 1, 1, 1, 1, 1, 1, 1, 1, 1, 1, 1, 1, 1, 1, 1, 1, 1, 1, 1, 1, 1, 1, 1, 1, 1, 1, 1, 1, 1, 1, 1, 1], \"coloraxis\": \"coloraxis\", \"symbol\": \"circle\"}, \"mode\": \"markers\", \"name\": \"1\", \"scene\": \"scene\", \"showlegend\": true, \"type\": \"scatter3d\", \"x\": [-0.3482514038735806, -0.3315569362033986, 2.301104784911897, -0.39114242340956173, -0.2481709020327571, -0.3246465527484513, -0.2693239433291811, -0.2479880292846629, -0.3479102813305672, -0.34047532372348044, -0.34674540797261955, -0.3482473295647344, -0.3482315802644651, 0.6990314930636795, -0.38660378340407914, -0.3420648860500202, -0.2806084906648593, -0.34630601730752714, -0.3156091051299904, -0.3910369397161312, -0.39218326237256823, -0.03240516354793078, -0.287873265071784, -0.2926792762944708, -0.28947236948179067, -0.29009564080438516, -0.3470508692071239, -0.3425409621009019, -0.3466497249179925, 0.010501584887924555, -0.33552966719890825, -0.39140930169548155, -0.24206470849377656, -0.30655474816056266, -0.39132071975647026, -0.323429873599137, -0.34692583497021906, -0.31084885229656034, -0.3912851669803864, -0.2425339533197802, -0.28987613006198637, -0.3393322561178834, 0.1197120960660152, -0.32152037683123996, -0.323856596083178, -0.38602438968186475, -0.292659616485309, -0.2901710713827448, -0.28730098648823865, -0.34823344179477705, -0.2901231893423216, -0.33597512977182653, -0.34796722843818406, -0.3913907990616428, -0.34230022210213024, -0.4403101411591674, -0.24092163486142734, -0.29105771748903797, -0.28964372698284924, -0.3171836546469405, -0.2504359333279906, -0.07455245659547839, -0.3246174170397809, -0.06812044601959898, -0.3246813015393605, -0.24715385933402512, -0.34784274125366066, -0.2909256831609609, -0.3885524528358202, 0.8631497408013377, -0.32448081448233224, -0.03325290720246541, -0.341747477631416, -0.3892295825278751, -0.32322092176614214, -0.32088303809585655, -0.3687190613707468, -0.39012284953588755, -0.3288411630632801, -0.32408488522367324, -0.3478808874917869, -0.34631683202392194, -0.2335391962386063, -0.32344006628191113, -0.39086345336931516, -0.3470834324530633, -0.3246621468223379, -0.39137995100116507, -0.34807053741658717, -0.3482276650472132, -0.2909168054721429, -0.260238684334394, 0.0242791566850614, -0.3407023946788804, -0.347841163227222, -0.3775081380861921, -0.34003012793197773, -0.23497363749428946, -0.42166734835989184, -0.3397767959198789, -0.29087199797845037, 3.6668506215298167, -0.3909716077202666, 0.8439821838276007, -0.3913347778008548, -0.3411671058327643, -0.3477683223860003, -0.3479228875051621, -0.341747477631416, -0.39090856119662415, -0.3245245923976876, -0.3477690985940551, -0.34316305521882606, -0.3479167761570022, -0.34349288348635376, -0.3913638130712278, -0.34712531311710737, 0.3519196207282662, -0.3481164983247917, -0.34818725833856506, -0.35451276608376586, -0.35089714283853496, -0.344404075807185, -0.32463852025331835, -0.3912735801273585, -0.34796457279960114, -0.3480917290002281, -0.29256557883602097, -0.3092515995672963, -0.23474101040370826, -0.3289056780643699, -0.292306412786088, -0.3905374324707829, -0.4185886428626419, -0.38927357882721386, -0.33999040072476433, -0.39043514336930313, -0.33437870693926197, -0.3863663771515978, -0.3480349238123275, -0.3480340602885478, -0.34113718670314264, 0.26477829005286835, -0.39091486226473865, -0.27516433392740325, -0.3417817598467006, -0.34724367367664777, 0.886510420545383, -0.2680107955088956, -0.327616959425192, 0.5867212212236131, -0.3702578964280816, -0.3687567916734076, -0.427150672912845, -0.2898076047829999, 0.11784204899215883, -0.28987857625110774, -0.30796384075597816, -0.42665471319467896, -0.3911879266299041, -0.2926401728704608, -0.3416475829939996, -0.34766930648646155, -0.3481701526342832, -0.3063588841442573, 0.6665631784669662, -0.391128529959091, -0.34203877907777386, -0.34812561070593423, -0.3017561573596239, 0.42248004498123065, -0.32298141022914095, -0.35499034238564803, -0.3974877890470795, -0.3480758275226575, -0.4082097583428879, -0.3363435223776842, -0.3479460494240217, -0.09544804953514026, -0.38991829675410977, 3.671717566962269, 0.19040117005117413, -0.2865423968976016, -0.34540060895663616, -0.31476178772717467, -0.3543984398382882, 0.0672586643050658, -0.3470821563017335, -0.39050109304609554, -0.35356104494199686, -0.3346213992278153, -0.3481923233200026, -0.3359470042817651, -0.3291236207717304, -0.3013562027914486, -0.34372836456958145, -0.22651721242747253, -0.38993120367524653, -0.3912050916676065, -0.23527422343634877, -0.2917979695595272, -0.3070514312091308, -0.36985588965188665, -0.34821973178806565, -0.3482013974361236, -0.28616715118496655, -0.32751770458469154, -0.3412411619171189, -0.3479172478039482, 3.8690172697157195, -0.40687551373434366, -0.34143020939678037, -0.31598873939035144, -0.29466051074424315, -0.0849394596454589, -0.2923338000586842, -0.1509249931445054, -0.29258616069011334, -0.3563509270928534, -0.3473899996837438, -0.19451899385563418, 2.25007663632693, -0.3500945950571624, -0.2681394458193136, 0.9921459668707205, -0.3705830098940968, -0.3545121583953657, -0.40989816036128834, -0.1729948244144929, -0.35694323451571225, -0.35322894749261863, -0.3410771757950971, -0.33552345013423884, -0.39067735267281783, -0.2898254102987949, -0.3405275493766273, -0.35801191668058974, -0.3353842726615717, -0.20733429648692417, -0.27035495243512825, -0.18000825909309373, 0.7614245356109327, -0.12554157359920087, -0.4091912399617972, -0.34792129245939507, -0.4096483845188471, -0.3546293887114904, 0.5606679681111038, -0.33600142114511183, -0.34740288359825217, -0.2297172598409794, -0.3109586636363724, -0.3882352144706759, -0.3909051188874608, 3.6839836989618133, 0.08799889932115249, -0.3884407916779155, -0.3467864985283056, -0.3476139388788247, -0.26935656810563446, -0.3481335416486583, -0.38251534052859554, -0.2616145240890261, -0.10392849299595218, -0.3782528908953102, -0.3474105255514061, -0.34046029061777144, -0.3874666169587886, -0.3458460229025569, -0.3420236562895384, -0.32804990673324746, -0.3231584952679365, 3.667243352045369, -0.0994692250896221, -0.3430350247247812, -0.34667568744740124, -0.2902785429869984, 3.677127016012134, 3.6783732685832544, -0.2502138623865593, -0.34195941626149035, -0.3480378399932906, 2.4419750597655794, -0.3462916593134712, -0.2929836116340677], \"y\": [1.0487458885445917, 1.0487915507014012, 1.5258533330864823, 1.2194210651293915, 1.5924825578535264, 0.7268631382996534, 0.552232329159352, 1.8280147086470666, 1.048742480115676, 1.0489495584281008, 1.0487853333802473, 1.0487456272471347, 1.0487456717082762, 0.7479455594802156, 0.7995688481536025, 1.5704262972148417, 0.6399256571915698, 1.0487085117451502, 1.0453288127066347, 1.2194238279414868, 1.9351314722248432, 0.8809316800770721, 0.7260617577198766, 0.8741027121368257, 1.6892489717586887, 1.6892326471354921, 0.5074283989999537, 1.048586300257852, 1.0487157032591587, 1.0581422897091863, 1.0448070565181937, 1.2194302682087463, 0.12580728633550994, 1.780093998338815, 1.2194252282284155, 1.0482182756704248, 1.048706999260564, 0.4442652405771717, 1.2194294717992664, 0.12586860435427968, 1.6892383965258895, 1.048243413427704, 1.4593186994796552, 1.6190627786827694, 0.7268499688527216, 0.7995872475897972, 0.874115136903264, 1.689221838461259, 0.8738874472640199, 1.0487463590354154, 1.6892245647481245, 1.0447806673525435, 1.048738609972344, 1.2194307535628688, 2.117963920342869, 1.6100119086829576, 1.1491637432349096, 0.8740834851820948, 1.6892076793880657, 0.7263387151418718, 1.8281888654118514, 0.8439839712508492, 0.7268639014174938, 1.2083547677583082, 0.7268706931313751, 1.401819613494604, 1.0487256766718596, 0.873997838493158, 1.2192224388017838, 0.831515591014738, 0.7268542297771077, 0.7566283164704455, 1.570419889044679, 1.2194321534986698, 0.7267527277293048, 0.7265914614012676, 1.3985693495236713, 1.2193616478126075, 1.4792068121780395, 1.0479066860922814, 1.0487229600224746, 1.0487229501687216, 1.5144799448013682, 1.0446400982019963, 1.219407761514986, 1.0487102323328485, 0.7268634659461994, 1.2194288294414053, 1.0487351680359935, 1.0487465103390676, 0.8741607843316984, 0.40117833341006415, 1.7382100952691302, 1.5704075131524624, 1.048756633533169, 1.2186902399401287, 1.570450147988619, 1.5145877506521201, 1.9576511376269545, 1.57026466520949, 1.7391523404872304, 2.1170852309427777, 1.2194196504343553, 1.7183105614257594, 1.219429384490446, 1.5704130075290268, 1.048730172689783, 1.0487235774940076, 1.570419889044679, 1.2193992192175083, 0.7268678048338231, 1.0487342302650746, 0.8508228466372515, 1.048734042738096, 1.0483915826616597, 1.2194277799554054, 1.0486693868627355, 0.8670641420510755, 1.0487398529075675, 1.0487451279657642, 1.4188843909213669, 0.4869563341469406, 1.0484786151568413, 0.7268640847695313, 1.2194269384123655, 1.0487386795284068, 1.0487339259778803, 0.8740771152999177, 0.4546113933064254, 1.5145849923737749, 1.0485165046991682, 0.8740990472175928, 1.2193794964001745, 2.0146680843779716, 1.2194052382130296, 1.570399449072614, 1.2193821755400258, 1.570333178775717, 1.2191943103986471, 1.0487359446829596, 1.0487305292003781, 1.0481961389733332, 0.5110243474484969, 1.2194137758618364, 0.8731012024670173, 1.5704116302899076, 1.0486949940595707, 1.7917393766862733, 0.5521286451811608, 1.4791899267357225, 1.6702565423992177, 1.3985879313245833, 1.3985462787762428, 1.8720842236792665, 1.6892181088077298, 1.024149531794257, 1.689224421801305, 1.5861292579535784, 1.8720972137772003, 1.2194290690147889, 0.8741028339685275, 1.570391884398599, 1.0487256172502057, 1.0487449251420362, 1.5935415600496892, 1.438960606516299, 1.2194177486042082, 0.50726801628505, 1.048737602274721, 0.722701052493492, 1.050530662783461, 0.7268493368917556, 1.398111876654407, 1.9554479257900403, 1.0487350294783782, 1.5934285952174687, 1.5316516555602346, 1.0487430009565997, 0.5501709035170821, 1.2193633250062583, 2.1169366736853688, 1.3911974637723412, 1.689171135484423, 1.048665978492395, 1.2239416330973925, 1.4188837049159517, 1.0228246598402702, 1.048666100714899, 1.2194172523988493, 1.4188320294251782, 1.048440407845451, 1.0487444916677773, 1.0447806679268543, 1.479205670805117, 0.35065166743006804, 1.048693583802008, 1.514222213055752, 0.7220025248359611, 1.2194172154802247, 1.5069006390051873, 0.8740464306007028, 1.6222520705135062, 1.3985690172602254, 1.0487445098735928, 1.048743517915928, 0.8739171444976678, 1.5073604019592493, 1.5703830966701506, 1.048732558216704, 2.1369299693769217, 1.5934635415397156, 1.5703840338410395, 0.6614712481698682, 1.0463793461390334, 1.436658815760874, 0.8741045324500382, 1.046406173232618, 0.8740846731477695, 1.7428887652439464, 1.0487066192770473, 1.653519740045361, 0.6387582032043925, 1.4185326975845003, 0.552198752970587, 1.8230372747890957, 0.836100489218745, 1.4188799903335747, 1.59352779810085, 0.864824279394828, 0.8973214258763851, 1.4188554493495709, 1.0481977107694773, 1.044766734732084, 1.2194126358347834, 0.8739979881285139, 1.5703119852426415, 0.7168738748972562, 1.0447372562642512, 1.0391872541939722, 1.8019132203680983, 1.3322687142681013, 1.1579317267079423, 1.050307031215466, 1.5935103566778275, 1.048739077036138, 1.5935241196636973, 1.4188825361770723, 1.0174930734104581, 1.0447801995582964, 1.0487062818236115, 1.5067223091306594, 1.7404708603569075, 1.2192042488328871, 1.2194213918992725, 2.116889904238237, 1.0344091454475204, 1.2195080196863386, 1.048637040333951, 1.0487226478935643, 0.5522252179420212, 1.0487489756041295, 1.2192951761364215, 1.0432861854570226, 0.7325204884415912, 1.2190387755157066, 1.048756871465899, 1.048655518554796, 1.2193804296340318, 1.0486911164835286, 1.5704207523417553, 0.8497272669865608, 0.7268410182884032, 2.117069814400763, 0.8718078046399014, 1.0486616899337142, 0.5073967119261351, 1.6892277682605756, 2.117446399135698, 2.117479040784518, 0.5520059743607659, 1.5704227042100452, 1.7457724747393462, 0.8458544923951407, 1.0486131968815884, 0.8741059147898946], \"z\": [-0.5282651186421233, -0.5289939817683071, -0.7059365922173562, -0.4737605955213677, -0.13396483438929285, -0.3829229208341484, -0.11722579966838498, -0.7170560822145726, -0.528279213355298, -0.5286381556362286, -0.5283373648392871, -0.5282652464234427, -0.5282659342760752, -0.35186985620810246, -0.41085240013649815, -0.19350906682709484, -0.24391671930329797, -0.5283422005827114, -0.2090347219096155, -0.47376565582405966, -0.8129180585679142, -0.275064647413235, -0.3843625442137282, -0.26257649148563705, -0.6241841968493189, -0.6241542970472772, -0.3306043361044979, -0.5284822120318613, -0.5283286899734012, -0.5454753495006887, -0.20807908535001848, -0.4737507704614267, 0.099408595886604, -0.30057708700878255, -0.4737536665099548, -0.529239294693071, -0.5283151736055536, -0.16599057801474706, -0.47375598116840084, 0.09941757094949538, -0.6241648274976699, -0.5285576340657137, -0.34538530975147913, -0.13241011514918852, -0.3829545904943381, -0.41088078789076726, -0.2625796246932724, -0.6241490541769362, -0.262769012254368, -0.5282659803312874, -0.6241516219063246, -0.20805500831033946, -0.5282760440720979, -0.4737516582119672, -0.926612283946041, -0.7548392329705281, -0.40930158294168095, -0.2626429358602729, -0.6241692085624115, -0.38314855436499395, -0.716982465864518, -0.5271050466459251, -0.38292431854312353, -0.48566596845750865, -0.38292281046048454, -0.5806930954905859, -0.5282790381581837, -0.262632884510647, -0.47383584322821587, -0.30462617203736175, -0.3829284352612801, -0.3218640503791046, -0.19352158651632478, -0.47384518509720897, -0.38296414214972063, -0.38303538086121824, -0.5748491425774758, -0.47379367009961104, -0.2172156187158709, -0.5291537293408284, -0.5282768923592666, -0.5283443889197786, -0.3584880085367183, -0.2085701224482267, -0.47377018837266177, -0.5283089668532286, -0.3829223081067092, -0.4737517725474348, -0.5282709527384057, -0.5282662574555548, -0.2626632314667607, -0.2796467993312691, -0.7798848247762166, -0.19356441233112345, -0.5282847988635861, -0.4742146065030207, -0.19360126471943934, -0.3584459280276011, -0.7930860390478335, -0.19357808940496798, -0.7664574304634236, -0.11333244578074993, -0.4737677070968359, -0.6784436435821926, -0.4737538241089305, -0.19354536760960908, -0.5282830765436057, -0.5282751933526113, -0.19352158651632478, -0.4737666708709955, -0.3829290422755946, -0.5282837891861305, -0.03967612232813817, -0.5282773815297072, -0.5284053246311645, -0.47375227600770536, -0.5282996484480315, -0.28910048874022637, -0.5282698307425997, -0.5282677470450825, -0.24710666931536487, -0.3615690104496429, -0.5283820054746121, -0.38292344152920255, -0.47375601535042144, -0.528276171469373, -0.5282698097945587, -0.262576691254361, -0.20144938059577122, -0.3584554600664676, -0.5290578217182987, -0.2625919088462408, -0.4737790605060057, -0.674301854196948, -0.4738383369873778, -0.19359365625000446, -0.4737839675565541, -0.19382364815694078, -0.4739250130192995, -0.528272632495269, -0.5282716739177004, -0.5284710472691744, -0.13269784881628893, -0.47376907573846455, -0.26314820038501086, -0.19351858834491653, -0.5282992493436021, -0.7593458849539445, -0.11726340360248388, -0.21726534540894255, -0.8083248940638734, -0.5747861495924059, -0.5748432718485103, -0.6842357126151691, -0.6241640541007036, -0.5438568642926463, -0.6241621521418196, -0.27387813672636996, -0.6842595049779111, -0.47376010360529214, -0.2625782014362947, -0.19352074784265452, -0.5282865119814669, -0.5282684479618919, -0.13164841212574233, -0.2583875304595325, -0.4737605852369437, -0.3307911453470358, -0.5282690236236982, -0.08800334699658557, -0.5618550015240348, -0.38299224380188884, -0.5753574952269204, -0.5648703774993148, -0.528270698959484, -0.5128580199936444, -0.11653922801844017, -0.5282777655241212, -0.12435051513157798, -0.4738028061950342, -0.11351516572232175, -0.5976229299816673, -0.6242963295573971, -0.5283734530155973, -0.3090936676994503, -0.24711147703007127, -0.54143025948361, -0.5283009066393243, -0.4737875716558955, -0.24713811312408054, -0.5287971607551918, -0.528267411453016, -0.20805622219950315, -0.21720321908684845, -0.25602550564672016, -0.5284506966817404, -0.35874365539802644, -0.4175837194025709, -0.4737571831048549, -0.7351859895305843, -0.26260417564103283, -0.08363205960348312, -0.5748000205206499, -0.5282662319610969, -0.5282668407889347, -0.2628234050202259, -0.18994626367756925, -0.19353667138897596, -0.5282770881892221, -0.13286172301804064, -0.5129220268686994, -0.193528685191327, -0.035204942290588306, -0.530142707623917, -0.6707347456862723, -0.2625917355911775, -0.5363506903253932, -0.26257719282360564, -0.7643187067553017, -0.5282950722402238, -0.4513039476994469, -0.4223060549707665, -0.24723266760515628, -0.11727074357120083, -0.10873055175681257, -0.30093320729449535, -0.24710588632422686, -0.5128033975698015, -0.2660353982142772, -0.3537043981787221, -0.24715675177019045, -0.5284739261346154, -0.2080719389495921, -0.47377911606399525, -0.2626803953987685, -0.19355439149100448, -0.4762555003499847, -0.20807252454727432, -0.5325888159873433, -0.01941697341720108, -0.4694862186449333, -0.9984694599870291, -0.21815271171807463, -0.5128306981508332, -0.5282781123726036, -0.5128135004737212, -0.2471012952838906, -0.5617434134577091, -0.2080537876580413, -0.5282944541683194, -0.7353930130582039, -0.7658330307439815, -0.47384618904386994, -0.4737708967236753, -0.11403592252020088, -0.5444555761733436, -0.47389317705552275, -0.5283083221816186, -0.5282883553958586, -0.11722308404409117, -0.5282707727779872, -0.47410975637024294, -0.5310000441032803, -0.39348854908577885, -0.4742465575621428, -0.5283034272147141, -0.5285847339172112, -0.47391175622066806, -0.5283588533148962, -0.19350982650130388, -0.1520388513071854, -0.382983071826857, -0.1133465595361037, -0.27049265720335736, -0.5284747535450417, -0.3306147005656326, -0.6241455065533653, -0.11384234842557413, -0.11390213411411644, -0.11800889026171492, -0.19351295776944788, -0.20989788938343948, -0.12332866094118945, -0.5283252929295715, -0.2625639465211236]}, {\"customdata\": [[\"SHA-256\"], [\"Ethash\"], [\"Scrypt\"], [\"CryptoNight-V7\"], [\"Ethash\"], [\"Equihash\"], [\"Multiple\"], [\"Scrypt\"], [\"X11\"], [\"Scrypt\"], [\"Multiple\"], [\"Scrypt\"], [\"SHA-256\"], [\"Scrypt\"], [\"Scrypt\"], [\"Quark\"], [\"Groestl\"], [\"Scrypt\"], [\"Scrypt\"], [\"Scrypt\"], [\"X11\"], [\"Multiple\"], [\"SHA-256\"], [\"Scrypt\"], [\"Scrypt\"], [\"Scrypt\"], [\"Scrypt\"], [\"Scrypt\"], [\"NeoScrypt\"], [\"Scrypt\"], [\"Scrypt\"], [\"Scrypt\"], [\"Scrypt\"], [\"SHA-256\"], [\"Scrypt\"], [\"Scrypt\"], [\"Scrypt\"], [\"Scrypt\"], [\"HybridScryptHash256\"], [\"Scrypt\"], [\"Scrypt\"], [\"SHA-256\"], [\"Scrypt\"], [\"Scrypt\"], [\"Scrypt\"], [\"Scrypt\"], [\"SHA-256\"], [\"SHA-256\"], [\"SHA-256\"], [\"SHA-256\"], [\"SHA-256\"], [\"X11\"], [\"Scrypt\"], [\"Lyra2REv2\"], [\"Scrypt\"], [\"SHA-256\"], [\"CryptoNight\"], [\"CryptoNight\"], [\"Scrypt\"], [\"Scrypt\"], [\"Scrypt\"], [\"Scrypt\"], [\"Scrypt\"], [\"Scrypt\"], [\"Stanford Folding\"], [\"Multiple\"], [\"QuBit\"], [\"Scrypt\"], [\"Scrypt\"], [\"M7 POW\"], [\"Scrypt\"], [\"SHA-256\"], [\"Scrypt\"], [\"X11\"], [\"Lyra2RE\"], [\"SHA-256\"], [\"X11\"], [\"Scrypt\"], [\"Scrypt\"], [\"Ethash\"], [\"Blake2b\"], [\"X11\"], [\"SHA-256\"], [\"Scrypt\"], [\"1GB AES Pattern Search\"], [\"Scrypt\"], [\"SHA-256\"], [\"X11\"], [\"Dagger\"], [\"Scrypt\"], [\"X11GOST\"], [\"Scrypt\"], [\"X11\"], [\"Scrypt\"], [\"X11\"], [\"Equihash\"], [\"CryptoNight\"], [\"SHA-256\"], [\"Multiple\"], [\"Scrypt\"], [\"SHA-256\"], [\"Scrypt\"], [\"Lyra2Z\"], [\"Ethash\"], [\"Equihash\"], [\"Scrypt\"], [\"X11\"], [\"X11\"], [\"CryptoNight\"], [\"Scrypt\"], [\"CryptoNight\"], [\"Lyra2RE\"], [\"X11\"], [\"CryptoNight-V7\"], [\"Scrypt\"], [\"X11\"], [\"Equihash\"], [\"Scrypt\"], [\"Lyra2RE\"], [\"Dagger-Hashimoto\"], [\"Scrypt\"], [\"NIST5\"], [\"Scrypt\"], [\"SHA-256\"], [\"Scrypt\"], [\"CryptoNight-V7\"], [\"Argon2d\"], [\"Blake2b\"], [\"Cloverhash\"], [\"CryptoNight\"], [\"X11\"], [\"Scrypt\"], [\"Scrypt\"], [\"X11\"], [\"X11\"], [\"CryptoNight\"], [\"Time Travel\"], [\"Scrypt\"], [\"Keccak\"], [\"X11\"], [\"SHA-256\"], [\"Scrypt\"], [\"Scrypt\"], [\"Scrypt\"], [\"Scrypt\"], [\"Scrypt\"], [\"Scrypt\"], [\"CryptoNight\"], [\"Equihash\"], [\"X11\"], [\"NeoScrypt\"], [\"Equihash\"], [\"Dagger\"], [\"Scrypt\"], [\"X11\"], [\"NeoScrypt\"], [\"Ethash\"], [\"NeoScrypt\"], [\"Multiple\"], [\"CryptoNight\"], [\"CryptoNight\"], [\"Ethash\"], [\"X11\"], [\"CryptoNight-V7\"], [\"Scrypt\"], [\"BLAKE256\"], [\"X11\"], [\"NeoScrypt\"], [\"NeoScrypt\"], [\"Scrypt\"], [\"X11\"], [\"SHA-256\"], [\"C11\"], [\"Ethash\"], [\"CryptoNight\"], [\"SkunkHash\"], [\"CryptoNight\"], [\"Scrypt\"], [\"Dagger\"], [\"Lyra2REv2\"], [\"Scrypt\"], [\"Scrypt\"], [\"X11\"], [\"Ethash\"], [\"CryptoNight\"], [\"Scrypt\"], [\"IMesh\"], [\"Equihash\"], [\"Lyra2Z\"], [\"X11\"], [\"CryptoNight\"], [\"NIST5\"], [\"Lyra2RE\"], [\"Tribus\"], [\"Lyra2Z\"], [\"CryptoNight\"], [\"CryptoNight Heavy\"], [\"CryptoNight\"], [\"Jump Consistent Hash\"], [\"CryptoNight\"], [\"X16R\"], [\"HMQ1725\"], [\"X11\"], [\"Scrypt\"], [\"CryptoNight-V7\"], [\"Cryptonight-GPU\"], [\"XEVAN\"], [\"CryptoNight Heavy\"], [\"SHA-256\"], [\"X11\"], [\"X16R\"], [\"Equihash\"], [\"Lyra2Z\"], [\"SHA-256\"], [\"CryptoNight\"], [\"Blake\"], [\"Blake\"], [\"Equihash\"], [\"Exosis\"], [\"Scrypt\"], [\"Equihash\"], [\"Equihash\"], [\"QuBit\"], [\"SHA-256\"], [\"X13\"], [\"SHA-256\"], [\"Scrypt\"], [\"NeoScrypt\"], [\"Blake\"], [\"Scrypt\"], [\"SHA-256\"], [\"Scrypt\"], [\"Groestl\"], [\"Scrypt\"], [\"Scrypt\"], [\"Multiple\"], [\"Equihash+Scrypt\"], [\"Ethash\"], [\"CryptoNight\"], [\"Equihash\"]], \"hovertemplate\": \"<b>%{hovertext}</b><br><br>Class=%{marker.color}<br>PC1=%{x}<br>PC2=%{y}<br>PC3=%{z}<br>Algorithm=%{customdata[0]}<extra></extra>\", \"hovertext\": [\"Bitcoin\", \"Ethereum\", \"Litecoin\", \"Monero\", \"Ethereum Classic\", \"ZCash\", \"DigiByte\", \"ProsperCoin\", \"Spreadcoin\", \"Argentum\", \"MyriadCoin\", \"MoonCoin\", \"ZetaCoin\", \"SexCoin\", \"Quatloo\", \"QuarkCoin\", \"Riecoin\", \"Digitalcoin \", \"Catcoin\", \"CannaCoin\", \"CryptCoin\", \"Verge\", \"DevCoin\", \"EarthCoin\", \"E-Gulden\", \"Einsteinium\", \"Emerald\", \"Franko\", \"FeatherCoin\", \"GrandCoin\", \"GlobalCoin\", \"GoldCoin\", \"Infinite Coin\", \"IXcoin\", \"KrugerCoin\", \"LuckyCoin\", \"Litebar \", \"MegaCoin\", \"MediterraneanCoin\", \"MinCoin\", \"NobleCoin\", \"Namecoin\", \"NyanCoin\", \"RonPaulCoin\", \"StableCoin\", \"SmartCoin\", \"SysCoin\", \"TigerCoin\", \"TerraCoin\", \"UnbreakableCoin\", \"Unobtanium\", \"UroCoin\", \"ViaCoin\", \"Vertcoin\", \"WorldCoin\", \"JouleCoin\", \"ByteCoin\", \"DigitalNote \", \"MonaCoin\", \"Gulden\", \"PesetaCoin\", \"Wild Beast Coin\", \"Flo\", \"ArtByte\", \"Folding Coin\", \"Unitus\", \"CypherPunkCoin\", \"OmniCron\", \"GreenCoin\", \"Cryptonite\", \"MasterCoin\", \"SoonCoin\", \"1Credit\", \"MarsCoin \", \"Crypto\", \"Anarchists Prime\", \"BowsCoin\", \"Song Coin\", \"BitZeny\", \"Expanse\", \"Siacoin\", \"MindCoin\", \"I0coin\", \"Revolution VR\", \"HOdlcoin\", \"Gamecredits\", \"CarpeDiemCoin\", \"Adzcoin\", \"SoilCoin\", \"YoCoin\", \"SibCoin\", \"Francs\", \"BolivarCoin\", \"Omni\", \"PizzaCoin\", \"Komodo\", \"Karbo\", \"ZayedCoin\", \"Circuits of Value\", \"DopeCoin\", \"DollarCoin\", \"Shilling\", \"ZCoin\", \"Elementrem\", \"ZClassic\", \"KiloCoin\", \"ArtexCoin\", \"Kurrent\", \"Cannabis Industry Coin\", \"OsmiumCoin\", \"Bikercoins\", \"HexxCoin\", \"PacCoin\", \"Citadel\", \"BeaverCoin\", \"VaultCoin\", \"Zero\", \"Canada eCoin\", \"Zoin\", \"DubaiCoin\", \"EB3coin\", \"Coinonat\", \"BenjiRolls\", \"ILCoin\", \"EquiTrader\", \"Quantum Resistant Ledger\", \"Dynamic\", \"Nano\", \"ChanCoin\", \"Dinastycoin\", \"DigitalPrice\", \"Unify\", \"SocialCoin\", \"ArcticCoin\", \"DAS\", \"LeviarCoin\", \"Bitcore\", \"gCn Coin\", \"SmartCash\", \"Onix\", \"Bitcoin Cash\", \"Sojourn Coin\", \"NewYorkCoin\", \"FrazCoin\", \"Kronecoin\", \"AdCoin\", \"Linx\", \"Sumokoin\", \"BitcoinZ\", \"Elements\", \"VIVO Coin\", \"Bitcoin Gold\", \"Pirl\", \"eBoost\", \"Pura\", \"Innova\", \"Ellaism\", \"GoByte\", \"SHIELD\", \"UltraNote\", \"BitCoal\", \"DaxxCoin\", \"AC3\", \"Lethean\", \"PopularCoin\", \"Photon\", \"Sucre\", \"SparksPay\", \"GunCoin\", \"IrishCoin\", \"Pioneer Coin\", \"UnitedBitcoin\", \"Interzone\", \"1717 Masonic Commemorative Token\", \"TurtleCoin\", \"MUNcoin\", \"Niobio Cash\", \"ShareChain\", \"Travelflex\", \"KREDS\", \"BitFlip\", \"LottoCoin\", \"Crypto Improvement Fund\", \"Callisto Network\", \"BitTube\", \"Poseidon\", \"Aidos Kuneen\", \"Bitrolium\", \"Alpenschillling\", \"FuturoCoin\", \"Monero Classic\", \"Jumpcoin\", \"Infinex\", \"KEYCO\", \"GINcoin\", \"PlatinCoin\", \"Loki\", \"Newton Coin\", \"MassGrid\", \"PluraCoin\", \"Motion\", \"PlusOneCoin\", \"Axe\", \"HexCoin\", \"Webchain\", \"Ryo\", \"Urals Coin\", \"Qwertycoin\", \"Project Pai\", \"Azart\", \"Xchange\", \"CrypticCoin\", \"Actinium\", \"Bitcoin SV\", \"FREDEnergy\", \"Universal Molecule\", \"Lithium\", \"PirateCash\", \"Exosis\", \"Block-Logic\", \"Beam\", \"Bithereum\", \"SLICE\", \"BLAST\", \"Bitcoin Rhodium\", \"GlobalToken\", \"SolarCoin\", \"UFO Coin\", \"BlakeCoin\", \"Crypto Escudo\", \"Crown Coin\", \"SmileyCoin\", \"Groestlcoin\", \"Bata\", \"Pakcoin\", \"JoinCoin\", \"Vollar\", \"Reality Clash\", \"Beldex\", \"Horizen\"], \"legendgroup\": \"0\", \"marker\": {\"color\": [0, 0, 0, 0, 0, 0, 0, 0, 0, 0, 0, 0, 0, 0, 0, 0, 0, 0, 0, 0, 0, 0, 0, 0, 0, 0, 0, 0, 0, 0, 0, 0, 0, 0, 0, 0, 0, 0, 0, 0, 0, 0, 0, 0, 0, 0, 0, 0, 0, 0, 0, 0, 0, 0, 0, 0, 0, 0, 0, 0, 0, 0, 0, 0, 0, 0, 0, 0, 0, 0, 0, 0, 0, 0, 0, 0, 0, 0, 0, 0, 0, 0, 0, 0, 0, 0, 0, 0, 0, 0, 0, 0, 0, 0, 0, 0, 0, 0, 0, 0, 0, 0, 0, 0, 0, 0, 0, 0, 0, 0, 0, 0, 0, 0, 0, 0, 0, 0, 0, 0, 0, 0, 0, 0, 0, 0, 0, 0, 0, 0, 0, 0, 0, 0, 0, 0, 0, 0, 0, 0, 0, 0, 0, 0, 0, 0, 0, 0, 0, 0, 0, 0, 0, 0, 0, 0, 0, 0, 0, 0, 0, 0, 0, 0, 0, 0, 0, 0, 0, 0, 0, 0, 0, 0, 0, 0, 0, 0, 0, 0, 0, 0, 0, 0, 0, 0, 0, 0, 0, 0, 0, 0, 0, 0, 0, 0, 0, 0, 0, 0, 0, 0, 0, 0, 0, 0, 0, 0, 0, 0, 0, 0, 0, 0, 0, 0, 0, 0, 0, 0, 0, 0, 0, 0, 0, 0, 0, 0, 0, 0, 0, 0, 0, 0, 0, 0, 0, 0, 0, 0], \"coloraxis\": \"coloraxis\", \"symbol\": \"diamond\"}, \"mode\": \"markers\", \"name\": \"0\", \"scene\": \"scene\", \"showlegend\": true, \"type\": \"scatter3d\", \"x\": [-0.14957838805524507, -0.15530206240526329, -0.1720112142650444, -0.13181623423768773, -0.1537399071660346, -0.1559611051092434, 0.16470997175938368, -0.1731598848582874, -0.21625905561658368, -0.17277545704540445, -0.08926874638842258, 2.556130336689828, -0.14665722243612442, -0.1700247892533963, -0.17257889350118652, -0.23020349099250517, -0.21060025919599876, -0.17262811383281426, -0.1731421201474378, -0.17322878062144237, -0.21634856685020817, 0.1884690722849105, 0.22907051225831312, 0.07602738989244644, -0.17297458063761365, -0.16857031811881298, -0.1729136917888506, -0.17328589576628184, -0.16730348418480265, -0.15246230916656675, -0.17207850014089127, -0.17235641275510324, 1.5792911135827956, -0.149539690547906, -0.16963974808486765, -0.17300107509255777, -0.1733566348825148, -0.17261431524206095, -0.13353861333168893, -0.17323763468088274, -0.03780321985340957, -0.14961743557098045, -0.16688826916772082, -0.17321696301992234, -0.17130638420470023, -0.17270260407200574, -0.1367411494416447, -0.1490800913571668, -0.14936782922989414, -0.14935051714220615, -0.14994280851827735, -0.21652288928082586, -0.1729329470952149, -0.18138458471934676, -0.1700294028169855, -0.1491475169080715, 3.8720844659180025, 0.46393156412793585, -0.17179800095966505, -0.1563591266286839, -0.17051416735842131, -0.1733588390251054, -0.17037901783406678, -0.15657287059269825, -0.13531386589978558, -0.1233483389513934, -0.1768778718984863, -0.17323169148567724, -0.04587912248507001, -0.1027257275027073, -0.1733677611176156, -0.14964526124352928, 0.48056645771691975, -0.21590878098964894, -0.14583306307328503, -0.14938444207581753, -0.2161942580749798, -0.1714868165910347, -0.17067737849633832, -0.15637125215636796, 0.37573971812404167, -0.2162297513641781, -0.14954081484485485, -0.16931714277908966, -0.13605076654678636, -0.17192803686490135, 0.2698203759695993, -0.2153885402212371, -0.1465366864634454, -0.17217529884228902, -0.14151024491217748, -0.17315717229010152, -0.21619286783676891, -0.17336781973516735, -0.2163430989766884, -0.294846570429504, 0.3084971353009158, -0.14980142998542054, -0.10337782482790198, -0.17052821716594035, -0.1497599815763009, -0.17303042976740515, -0.1427316436101557, -0.15611289661154365, -0.15598275966750588, -0.09989653223861777, -0.2028998092853538, -0.2141660575600559, 0.3084915665484283, -0.1733495111984693, 0.30862253732798484, -0.14637483646235305, 0.5008436396020014, -0.130577498639454, -0.17331773878962067, -0.2090577178031371, -0.15599518397598766, -0.17144708901817207, -0.1460926508744972, -0.16597808624690014, -0.14416296508719778, -0.1950415019708685, -0.17287913149637593, -0.11605069332219961, -0.1727006321755397, -0.1304355479516646, -0.15721907826327455, -0.02525550029489764, -0.1401293953895037, 0.3446901094137927, -0.21539683628879028, -0.17302081667865274, -0.17278339662675138, -0.21579248118748626, -0.21637122291480873, 0.3088874705160779, -0.13972547404021726, 3.2436476259113336, -0.12283387121182217, -0.2072199435700568, -0.14957755082228444, -0.09873876622461775, 1.5766826021516738, -0.17311882893548775, -0.1725690725565782, -0.17226941692043787, -0.17225632516854864, 0.30907164312907703, 0.056846403490535415, -0.1706665446529233, -0.17200251989001086, -0.1558409401147813, -0.14529274522126653, -0.17144529506547726, -0.211905602775385, -0.171847537619082, -0.15447348637063626, -0.17194800897443566, -0.11355858662566468, 1.1484825027398706, 0.3084742468549216, -0.0791643905660491, -0.21164532952808773, -0.11952246571632077, -0.08932683150021506, 1.1079982046444694, -0.2163451701051062, -0.17200011627439582, -0.16502255488229342, -0.17236822240959698, -0.2162704257275206, -0.14955691830367143, -0.21502539190648354, -0.2762011045624883, 8.066735001750523, -0.14301251200825224, 0.3123576632570433, 0.020077520847592584, -0.14479549243885148, -0.16691046640996904, -0.1729431106678122, 0.1347945286319901, -0.2103978325246511, -0.10738702825263378, 0.31641803631550997, -0.17318066554716222, -0.16059332066833343, -0.15482993759757843, -0.14050936211442186, -0.21543767953945406, 0.30865712373107324, -0.19510125702955258, -0.1462196925544442, -0.14480015471038546, -0.1428162427406725, 0.31259622110729496, 0.59319698946767, 2.1215675252270616, -0.13779917466281624, 0.32229254868790164, -0.19649359356149712, -0.15174419073571477, -0.21632729095873862, -0.17320528237325847, -0.11939689719833181, -0.14734571964938953, -0.059161022252472835, 3.1214213117154586, -0.1093210183211039, -0.21629857892400436, -0.19591977841525493, -0.05035145579178751, -0.14221243619387922, -0.14957758845298869, 0.3886120895517335, -0.1393883045142751, -0.13978156724460813, -0.2749020073638957, -0.1519819010320036, -0.17209497224580314, -0.15389598724750947, -0.1556733995651429, -0.17608677696030073, -0.1488521733891819, -0.11538021081627417, -0.1477174199708943, 0.5246047678355504, -0.09700795314982745, -0.09011229644699566, -0.1567237183193728, -0.1493671985871932, 0.5440630529842391, -0.2101603501270917, -0.17328237357677592, -0.1712332989159636, -0.12408448154191458, -0.11751957857313182, -0.15614612473368786, 0.3302788464007734, -0.15596216389347367], \"y\": [-1.3947689096058655, -2.071355262742851, -1.0729180289839608, -2.239716096513312, -2.071468924671123, -2.0749244856147766, -1.8290540311377657, -1.0729017414863198, -0.9022150868630587, -1.0729233242282195, -1.821720604409971, -1.2840574222979944, -1.3948019249596013, -1.0729881908079586, -1.0729446748928022, -0.5281618304054466, -1.3220980440602161, -1.0729078098834972, -1.072901276195843, -1.0728977603725798, -0.902215959158941, -1.825159842981346, -1.400293705106983, -1.0762967449236656, -1.0728968880276906, -1.07298674696559, -1.072903390161158, -1.0728978546816859, -1.6143263767984173, -1.0733898641869914, -1.0729094861482693, -1.0729184182151306, -1.0936755808091836, -1.3947678960469208, -1.0729894568758496, -1.0728968458821888, -1.0728924306801282, -1.0729029097787846, -2.2560726661682717, -1.0728956809727925, -1.080382304188908, -1.3947699323321803, -1.072970078885428, -1.0729032364684372, -1.07302175813877, -1.0729119941989687, -1.39507086356407, -1.3947750052927543, -1.3947788524476021, -1.39480637020587, -1.3947631807046506, -0.9022072754714642, -1.07289726973667, -1.2243216980529112, -1.072999662650523, -1.3947752903144985, -2.359196477610594, -2.32003957600531, -1.0729279906300586, -1.0736828621337817, -1.0729394615899877, -1.0728934291260894, -1.0729312211424633, -1.0731879233310133, -2.3373462155332962, -1.8211410435795596, -1.634645892967817, -1.0728906460564966, -1.0769134067189936, -2.262799115679246, -1.0728921843711168, -1.3947706611377635, -1.1234837196360843, -0.9022154816184128, -2.206288587283187, -1.3947879439169852, -0.9022141257802159, -1.0729972172934603, -1.0730052833214552, -2.071395711319587, -2.1466793596279015, -0.9022113749945675, -1.394767925494327, -1.0729402128824275, -2.1097833592311614, -1.0729158504147436, -1.3996873858836782, -0.902239395841376, -2.129964376725591, -1.0729844163071753, -2.280808365331206, -1.0729009343551215, -0.9022170337034984, -1.0728921836760839, -0.9022209685335841, -1.5290490903614313, -2.316757210195128, -1.3947664602338905, -1.821501279908907, -1.0729645723093981, -1.394766038790923, -1.0729049755756068, -2.142857450003408, -2.0713957894623705, -2.0749250527875174, -1.078328222110494, -0.9022185039528453, -0.9023133728727362, -2.316765452975503, -1.0728932483268878, -2.316764966945888, -2.206261711858358, -0.9570265301243329, -2.239819827296184, -1.0728928914487894, -0.9027478329343299, -2.074922433866846, -1.0729150308500752, -2.206262417823624, -2.2837845379054347, -1.0750711371979733, -0.7230691269415083, -1.0729050762737549, -1.3957155099138983, -1.0729272530995078, -2.239757222622778, -2.4321759494405213, -2.157432638932899, -2.154208988046169, -2.317274056832188, -0.9022513904753762, -1.0728968306146858, -1.0729316291049649, -0.9022323097817367, -0.9022172150386165, -2.3167793742953338, -2.038876369218572, -1.1306106146908277, -1.4065955341350076, -0.9027733066488712, -1.3947688876771964, -1.0786659401100012, -1.0270546880447513, -1.0728999300720852, -1.0729326403194652, -1.072936569131498, -1.0729362262344182, -2.316800231629398, -2.0847929724297662, -0.9023311646787742, -1.6142220032231533, -2.0749213382723837, -2.13002476798546, -1.072914983863152, -0.9023439696545924, -1.6142311934650122, -2.0715396643439536, -1.6142241086853528, -1.8213704474158385, -2.3573162302452437, -2.316759649895773, -2.0767219174208424, -0.902484369428167, -2.24012980248379, -1.0743709619665474, -1.3174930979655737, -0.9022171951432152, -1.6142175237637661, -1.6143873528448554, -1.0729126580035093, -0.9022175929193281, -1.3947677333794617, -1.3996372051059116, -0.12439168364499223, -2.8496313640504605, -2.2667352561415997, -2.3168960592605514, -1.0751858808234622, -2.1299702975322172, -1.2246904556415799, -1.07291004936811, -1.0783694749567172, -0.9024148909831227, -2.0748848260937454, -2.3172784704221097, -1.0729022857708126, -2.2070907628120167, -2.0749309263737086, -2.1430043173754196, -0.9022524602352918, -2.3167592029096298, -0.7230506322740913, -2.206269631802826, -2.3390939545000062, -2.1428516424942674, -2.31708413756052, -2.2892744979772393, -2.404701662803558, -2.2680139073502823, -2.3171246061298394, -1.2855134183537926, -2.2186060463125457, -0.9022176101563159, -1.0729037440972604, -2.2406789582947475, -2.2161530476618205, -0.6148151861618412, -2.358730660446418, -1.395244813720266, -0.902219802471456, -1.2855557479128392, -2.0777371554803947, -2.142889929866689, -1.3947688886628136, -2.3205990503188394, -2.2411578536215604, -2.2411093472576296, -0.12797025928001904, -2.2195556345604865, -1.072946721785269, -2.0750483814987972, -2.0749242270038657, -1.6346987811397182, -1.3947815403209547, -0.43241092140177584, -1.3948283717808685, -1.1268203879073122, -1.6151822193883698, -2.244942435427121, -1.0731918743106414, -1.3947788359299087, -1.0909050970360703, -1.322101979796905, -1.072893172346602, -1.0729697901854671, -1.8211623855443524, -2.1957082402378116, -2.0713953954737776, -2.317210027770014, -2.074924513346285], \"z\": [0.16836386575817092, 0.3842521583067043, 0.022976948497180804, 0.3413180004865343, 0.3842056430373868, 0.3858760479616352, 0.37405660974689686, 0.02302352544144506, 0.0775349208588581, 0.023010903889415433, 0.38366878319611325, -0.055932658401168865, 0.1682438710812912, 0.02290412428347622, 0.0230063471308319, 0.03829431600018286, 0.1404004275438018, 0.023001692240003858, 0.023022673226175957, 0.02302576662659428, 0.07753894421034757, 0.3723151665077069, 0.1530388402550958, 0.012893901607492255, 0.02301463595894395, 0.022841089626397224, 0.02301320390615624, 0.02302824882993209, 0.22050308229265567, 0.022220060980344958, 0.022978281358818922, 0.02299191745710768, -0.04878517828168713, 0.16836200934705897, 0.02288774026315624, 0.02301577160348825, 0.023030304236656036, 0.023000195676221524, 0.33613334014376334, 0.02302576635509533, 0.018557661499909426, 0.1683657389600145, 0.022765434062874994, 0.02302626361609196, 0.022965605429732278, 0.023005676387106308, 0.1678653877269782, 0.16834348219294748, 0.16835660725431584, 0.1683609203272604, 0.16837853920863233, 0.07754487044018867, 0.02301290941373752, 0.19756325779114065, 0.0229064329238525, 0.16834644442195446, 0.26261991712981214, 0.4025016568412015, 0.02296957889449821, 0.02244211091120944, 0.022916283151063515, 0.023030582961140435, 0.02290893531689254, 0.022360321797963302, 0.3720056588179634, 0.3850329475314698, 0.18975755850391798, 0.02302458400846617, 0.018268295524182878, 0.46042735319616634, 0.023030739107079125, 0.16836707382345328, 0.0041127467579106115, 0.07751987699912294, 0.3864810562634916, 0.16835899601294094, 0.07753194772449633, 0.022968879395261352, 0.02293543053561905, 0.38430573827535947, 0.3239760255067038, 0.07753297363551336, 0.16836206328224737, 0.02286476251622823, 0.2800558816156606, 0.022972958280227024, 0.15116874427264074, 0.0775018230356935, 0.3923843488222185, 0.02299623758157786, 0.39925024322593883, 0.02302325995589054, 0.07753242246040261, 0.02303074150896974, 0.07753962940412247, 0.421739645104151, 0.40860599591228436, 0.16837304094414846, 0.384237343331612, 0.022921507051607164, 0.1683711746983202, 0.02301853338910758, 0.37721765075373903, 0.38429460305387975, 0.3858770867821009, 0.020859638651782697, 0.07695901763197252, 0.07746266908742512, 0.408607751988085, 0.023030147162630955, 0.40860201043841216, 0.38649949495829583, 0.05666682159499854, 0.34128361649287087, 0.02302871036696051, 0.07732210570920076, 0.38587714137668777, 0.022952051788233542, 0.38648744677675845, 0.4859180119165431, 0.02217106092383931, -0.023501160891000194, 0.023012022478642622, 0.16709101338333615, 0.023008397220982194, 0.34126597820351523, 0.3222489688326212, 0.34325877587863773, 0.42563876054980476, 0.4071390940844936, 0.07750438673341824, 0.02301662076379633, 0.02301277369949322, 0.07751795246732587, 0.07754015289695332, 0.40859322632540324, 0.354301925102233, -0.1138202223270488, 0.0727750536144536, 0.07724747904823916, 0.16836382559412194, 0.020871776488927726, -0.06092340700816218, 0.023021420534324207, 0.023003710281141964, 0.0229915008060206, 0.022990872763664506, 0.40858911359210337, 0.37850682694177884, 0.0755886759596369, 0.2206866807840868, 0.38587028336214807, 0.3923417705432968, 0.02295196572807228, 0.07737074329805957, 0.22068168234752794, 0.38425030957610573, 0.22068471548102822, 0.3846526456908385, 0.37981391881550836, 0.4086074323183476, 0.38195322611591553, 0.07738532882008739, 0.34086352633456124, 0.019675798905826897, -0.011970138692649306, 0.07753902490345443, 0.22068575333356014, 0.22041585929589474, 0.022991367879087666, 0.0775358723817139, 0.16836272291538878, 0.13371148632848928, 0.09871919792779765, 0.17178082233044897, 0.31945404322630666, 0.408464923697167, 0.015104199074548161, 0.3923102946257286, 0.19700642299027152, 0.02301569805733573, 0.010738897934639832, 0.07731871557158836, 0.382833382601473, 0.4083600151833481, 0.023024522340325225, 0.5238265539468415, 0.38582841568041937, 0.37714875316998403, 0.0775063460809214, 0.4085994578889812, -0.023501983054539977, 0.3864942559533252, 0.3813748294775943, 0.377220233780641, 0.4084892138911903, 0.2932735895666868, 0.3465330907346753, 0.3572224523360615, 0.4080782009065502, 0.250392482364076, 0.4373321258916945, 0.07753832962712086, 0.023025852873137225, 0.3409590906196486, 0.375491488912295, -0.1839288968726943, 0.19693772375074658, 0.1667140320364142, 0.07753749367171528, 0.25037550270952574, 0.38183557532603996, 0.3772012165065486, 0.16836382739935593, 0.40585502460361034, 0.39145946873849297, 0.3914675206315411, 0.10026030196724627, 0.4231039991362234, 0.022985839426307806, 0.38580970874363685, 0.3858635841866271, 0.18973314352859624, 0.16833484788100941, -0.07285016932801362, 0.1682944882231052, 0.0028258037968726868, 0.21762678801722823, 0.390028853753558, 0.02236755832081077, 0.16835657700089132, -0.004618339092656587, 0.14038216656537147, 0.02302723579977076, 0.02295289506351136, 0.3850686410359054, 0.30696717137809676, 0.3842959645967206, 0.40774925230817277, 0.38587609875402346]}, {\"customdata\": [[\"VeChainThor Authority\"], [\"Proof-of-BibleHash\"], [\"SHA-256 + Hive\"], [\"Proof-of-Authority\"], [\"ECC 256K1\"], [\"Leased POS\"]], \"hovertemplate\": \"<b>%{hovertext}</b><br><br>Class=%{marker.color}<br>PC1=%{x}<br>PC2=%{y}<br>PC3=%{z}<br>Algorithm=%{customdata[0]}<extra></extra>\", \"hovertext\": [\"Vechain\", \"BiblePay\", \"LitecoinCash\", \"Poa Network\", \"Acute Angle Cloud\", \"Waves\"], \"legendgroup\": \"3\", \"marker\": {\"color\": [3, 3, 3, 3, 3, 3], \"coloraxis\": \"coloraxis\", \"symbol\": \"square\"}, \"mode\": \"markers\", \"name\": \"3\", \"scene\": \"scene\", \"showlegend\": true, \"type\": \"scatter3d\", \"x\": [4.331521645676108, -0.19782547402094727, -0.3425060611005041, -0.34212807945991947, -0.3557739185285575, -0.3823021854848705], \"y\": [1.816650130267307, 3.330808511979163, 3.155877194975455, 4.173226904823897, 2.0494230616477718, 3.572502702555297], \"z\": [12.682276810944199, 15.108355859031438, 10.555273847807305, 11.365460027618042, 12.797829231410715, 14.12630545232606]}, {\"customdata\": [[\"TRC10\"]], \"hovertemplate\": \"<b>%{hovertext}</b><br><br>Class=%{marker.color}<br>PC1=%{x}<br>PC2=%{y}<br>PC3=%{z}<br>Algorithm=%{customdata[0]}<extra></extra>\", \"hovertext\": [\"BitTorrent\"], \"legendgroup\": \"2\", \"marker\": {\"color\": [2], \"coloraxis\": \"coloraxis\", \"symbol\": \"x\"}, \"mode\": \"markers\", \"name\": \"2\", \"scene\": \"scene\", \"showlegend\": true, \"type\": \"scatter3d\", \"x\": [34.09793109579171], \"y\": [1.6050302601399307], \"z\": [-1.7723501153710783]}],                        {\"coloraxis\": {\"colorbar\": {\"title\": {\"text\": \"Class\"}}, \"colorscale\": [[0.0, \"#0d0887\"], [0.1111111111111111, \"#46039f\"], [0.2222222222222222, \"#7201a8\"], [0.3333333333333333, \"#9c179e\"], [0.4444444444444444, \"#bd3786\"], [0.5555555555555556, \"#d8576b\"], [0.6666666666666666, \"#ed7953\"], [0.7777777777777778, \"#fb9f3a\"], [0.8888888888888888, \"#fdca26\"], [1.0, \"#f0f921\"]]}, \"legend\": {\"title\": {\"text\": \"Class\"}, \"tracegroupgap\": 0, \"x\": 0, \"y\": 1}, \"margin\": {\"t\": 60}, \"scene\": {\"domain\": {\"x\": [0.0, 1.0], \"y\": [0.0, 1.0]}, \"xaxis\": {\"title\": {\"text\": \"PC1\"}}, \"yaxis\": {\"title\": {\"text\": \"PC2\"}}, \"zaxis\": {\"title\": {\"text\": \"PC3\"}}}, \"template\": {\"data\": {\"bar\": [{\"error_x\": {\"color\": \"#2a3f5f\"}, \"error_y\": {\"color\": \"#2a3f5f\"}, \"marker\": {\"line\": {\"color\": \"#E5ECF6\", \"width\": 0.5}}, \"type\": \"bar\"}], \"barpolar\": [{\"marker\": {\"line\": {\"color\": \"#E5ECF6\", \"width\": 0.5}}, \"type\": \"barpolar\"}], \"carpet\": [{\"aaxis\": {\"endlinecolor\": \"#2a3f5f\", \"gridcolor\": \"white\", \"linecolor\": \"white\", \"minorgridcolor\": \"white\", \"startlinecolor\": \"#2a3f5f\"}, \"baxis\": {\"endlinecolor\": \"#2a3f5f\", \"gridcolor\": \"white\", \"linecolor\": \"white\", \"minorgridcolor\": \"white\", \"startlinecolor\": \"#2a3f5f\"}, \"type\": \"carpet\"}], \"choropleth\": [{\"colorbar\": {\"outlinewidth\": 0, \"ticks\": \"\"}, \"type\": \"choropleth\"}], \"contour\": [{\"colorbar\": {\"outlinewidth\": 0, \"ticks\": \"\"}, \"colorscale\": [[0.0, \"#0d0887\"], [0.1111111111111111, \"#46039f\"], [0.2222222222222222, \"#7201a8\"], [0.3333333333333333, \"#9c179e\"], [0.4444444444444444, \"#bd3786\"], [0.5555555555555556, \"#d8576b\"], [0.6666666666666666, \"#ed7953\"], [0.7777777777777778, \"#fb9f3a\"], [0.8888888888888888, \"#fdca26\"], [1.0, \"#f0f921\"]], \"type\": \"contour\"}], \"contourcarpet\": [{\"colorbar\": {\"outlinewidth\": 0, \"ticks\": \"\"}, \"type\": \"contourcarpet\"}], \"heatmap\": [{\"colorbar\": {\"outlinewidth\": 0, \"ticks\": \"\"}, \"colorscale\": [[0.0, \"#0d0887\"], [0.1111111111111111, \"#46039f\"], [0.2222222222222222, \"#7201a8\"], [0.3333333333333333, \"#9c179e\"], [0.4444444444444444, \"#bd3786\"], [0.5555555555555556, \"#d8576b\"], [0.6666666666666666, \"#ed7953\"], [0.7777777777777778, \"#fb9f3a\"], [0.8888888888888888, \"#fdca26\"], [1.0, \"#f0f921\"]], \"type\": \"heatmap\"}], \"heatmapgl\": [{\"colorbar\": {\"outlinewidth\": 0, \"ticks\": \"\"}, \"colorscale\": [[0.0, \"#0d0887\"], [0.1111111111111111, \"#46039f\"], [0.2222222222222222, \"#7201a8\"], [0.3333333333333333, \"#9c179e\"], [0.4444444444444444, \"#bd3786\"], [0.5555555555555556, \"#d8576b\"], [0.6666666666666666, \"#ed7953\"], [0.7777777777777778, \"#fb9f3a\"], [0.8888888888888888, \"#fdca26\"], [1.0, \"#f0f921\"]], \"type\": \"heatmapgl\"}], \"histogram\": [{\"marker\": {\"colorbar\": {\"outlinewidth\": 0, \"ticks\": \"\"}}, \"type\": \"histogram\"}], \"histogram2d\": [{\"colorbar\": {\"outlinewidth\": 0, \"ticks\": \"\"}, \"colorscale\": [[0.0, \"#0d0887\"], [0.1111111111111111, \"#46039f\"], [0.2222222222222222, \"#7201a8\"], [0.3333333333333333, \"#9c179e\"], [0.4444444444444444, \"#bd3786\"], [0.5555555555555556, \"#d8576b\"], [0.6666666666666666, \"#ed7953\"], [0.7777777777777778, \"#fb9f3a\"], [0.8888888888888888, \"#fdca26\"], [1.0, \"#f0f921\"]], \"type\": \"histogram2d\"}], \"histogram2dcontour\": [{\"colorbar\": {\"outlinewidth\": 0, \"ticks\": \"\"}, \"colorscale\": [[0.0, \"#0d0887\"], [0.1111111111111111, \"#46039f\"], [0.2222222222222222, \"#7201a8\"], [0.3333333333333333, \"#9c179e\"], [0.4444444444444444, \"#bd3786\"], [0.5555555555555556, \"#d8576b\"], [0.6666666666666666, \"#ed7953\"], [0.7777777777777778, \"#fb9f3a\"], [0.8888888888888888, \"#fdca26\"], [1.0, \"#f0f921\"]], \"type\": \"histogram2dcontour\"}], \"mesh3d\": [{\"colorbar\": {\"outlinewidth\": 0, \"ticks\": \"\"}, \"type\": \"mesh3d\"}], \"parcoords\": [{\"line\": {\"colorbar\": {\"outlinewidth\": 0, \"ticks\": \"\"}}, \"type\": \"parcoords\"}], \"pie\": [{\"automargin\": true, \"type\": \"pie\"}], \"scatter\": [{\"marker\": {\"colorbar\": {\"outlinewidth\": 0, \"ticks\": \"\"}}, \"type\": \"scatter\"}], \"scatter3d\": [{\"line\": {\"colorbar\": {\"outlinewidth\": 0, \"ticks\": \"\"}}, \"marker\": {\"colorbar\": {\"outlinewidth\": 0, \"ticks\": \"\"}}, \"type\": \"scatter3d\"}], \"scattercarpet\": [{\"marker\": {\"colorbar\": {\"outlinewidth\": 0, \"ticks\": \"\"}}, \"type\": \"scattercarpet\"}], \"scattergeo\": [{\"marker\": {\"colorbar\": {\"outlinewidth\": 0, \"ticks\": \"\"}}, \"type\": \"scattergeo\"}], \"scattergl\": [{\"marker\": {\"colorbar\": {\"outlinewidth\": 0, \"ticks\": \"\"}}, \"type\": \"scattergl\"}], \"scattermapbox\": [{\"marker\": {\"colorbar\": {\"outlinewidth\": 0, \"ticks\": \"\"}}, \"type\": \"scattermapbox\"}], \"scatterpolar\": [{\"marker\": {\"colorbar\": {\"outlinewidth\": 0, \"ticks\": \"\"}}, \"type\": \"scatterpolar\"}], \"scatterpolargl\": [{\"marker\": {\"colorbar\": {\"outlinewidth\": 0, \"ticks\": \"\"}}, \"type\": \"scatterpolargl\"}], \"scatterternary\": [{\"marker\": {\"colorbar\": {\"outlinewidth\": 0, \"ticks\": \"\"}}, \"type\": \"scatterternary\"}], \"surface\": [{\"colorbar\": {\"outlinewidth\": 0, \"ticks\": \"\"}, \"colorscale\": [[0.0, \"#0d0887\"], [0.1111111111111111, \"#46039f\"], [0.2222222222222222, \"#7201a8\"], [0.3333333333333333, \"#9c179e\"], [0.4444444444444444, \"#bd3786\"], [0.5555555555555556, \"#d8576b\"], [0.6666666666666666, \"#ed7953\"], [0.7777777777777778, \"#fb9f3a\"], [0.8888888888888888, \"#fdca26\"], [1.0, \"#f0f921\"]], \"type\": \"surface\"}], \"table\": [{\"cells\": {\"fill\": {\"color\": \"#EBF0F8\"}, \"line\": {\"color\": \"white\"}}, \"header\": {\"fill\": {\"color\": \"#C8D4E3\"}, \"line\": {\"color\": \"white\"}}, \"type\": \"table\"}]}, \"layout\": {\"annotationdefaults\": {\"arrowcolor\": \"#2a3f5f\", \"arrowhead\": 0, \"arrowwidth\": 1}, \"autotypenumbers\": \"strict\", \"coloraxis\": {\"colorbar\": {\"outlinewidth\": 0, \"ticks\": \"\"}}, \"colorscale\": {\"diverging\": [[0, \"#8e0152\"], [0.1, \"#c51b7d\"], [0.2, \"#de77ae\"], [0.3, \"#f1b6da\"], [0.4, \"#fde0ef\"], [0.5, \"#f7f7f7\"], [0.6, \"#e6f5d0\"], [0.7, \"#b8e186\"], [0.8, \"#7fbc41\"], [0.9, \"#4d9221\"], [1, \"#276419\"]], \"sequential\": [[0.0, \"#0d0887\"], [0.1111111111111111, \"#46039f\"], [0.2222222222222222, \"#7201a8\"], [0.3333333333333333, \"#9c179e\"], [0.4444444444444444, \"#bd3786\"], [0.5555555555555556, \"#d8576b\"], [0.6666666666666666, \"#ed7953\"], [0.7777777777777778, \"#fb9f3a\"], [0.8888888888888888, \"#fdca26\"], [1.0, \"#f0f921\"]], \"sequentialminus\": [[0.0, \"#0d0887\"], [0.1111111111111111, \"#46039f\"], [0.2222222222222222, \"#7201a8\"], [0.3333333333333333, \"#9c179e\"], [0.4444444444444444, \"#bd3786\"], [0.5555555555555556, \"#d8576b\"], [0.6666666666666666, \"#ed7953\"], [0.7777777777777778, \"#fb9f3a\"], [0.8888888888888888, \"#fdca26\"], [1.0, \"#f0f921\"]]}, \"colorway\": [\"#636efa\", \"#EF553B\", \"#00cc96\", \"#ab63fa\", \"#FFA15A\", \"#19d3f3\", \"#FF6692\", \"#B6E880\", \"#FF97FF\", \"#FECB52\"], \"font\": {\"color\": \"#2a3f5f\"}, \"geo\": {\"bgcolor\": \"white\", \"lakecolor\": \"white\", \"landcolor\": \"#E5ECF6\", \"showlakes\": true, \"showland\": true, \"subunitcolor\": \"white\"}, \"hoverlabel\": {\"align\": \"left\"}, \"hovermode\": \"closest\", \"mapbox\": {\"style\": \"light\"}, \"paper_bgcolor\": \"white\", \"plot_bgcolor\": \"#E5ECF6\", \"polar\": {\"angularaxis\": {\"gridcolor\": \"white\", \"linecolor\": \"white\", \"ticks\": \"\"}, \"bgcolor\": \"#E5ECF6\", \"radialaxis\": {\"gridcolor\": \"white\", \"linecolor\": \"white\", \"ticks\": \"\"}}, \"scene\": {\"xaxis\": {\"backgroundcolor\": \"#E5ECF6\", \"gridcolor\": \"white\", \"gridwidth\": 2, \"linecolor\": \"white\", \"showbackground\": true, \"ticks\": \"\", \"zerolinecolor\": \"white\"}, \"yaxis\": {\"backgroundcolor\": \"#E5ECF6\", \"gridcolor\": \"white\", \"gridwidth\": 2, \"linecolor\": \"white\", \"showbackground\": true, \"ticks\": \"\", \"zerolinecolor\": \"white\"}, \"zaxis\": {\"backgroundcolor\": \"#E5ECF6\", \"gridcolor\": \"white\", \"gridwidth\": 2, \"linecolor\": \"white\", \"showbackground\": true, \"ticks\": \"\", \"zerolinecolor\": \"white\"}}, \"shapedefaults\": {\"line\": {\"color\": \"#2a3f5f\"}}, \"ternary\": {\"aaxis\": {\"gridcolor\": \"white\", \"linecolor\": \"white\", \"ticks\": \"\"}, \"baxis\": {\"gridcolor\": \"white\", \"linecolor\": \"white\", \"ticks\": \"\"}, \"bgcolor\": \"#E5ECF6\", \"caxis\": {\"gridcolor\": \"white\", \"linecolor\": \"white\", \"ticks\": \"\"}}, \"title\": {\"x\": 0.05}, \"xaxis\": {\"automargin\": true, \"gridcolor\": \"white\", \"linecolor\": \"white\", \"ticks\": \"\", \"title\": {\"standoff\": 15}, \"zerolinecolor\": \"white\", \"zerolinewidth\": 2}, \"yaxis\": {\"automargin\": true, \"gridcolor\": \"white\", \"linecolor\": \"white\", \"ticks\": \"\", \"title\": {\"standoff\": 15}, \"zerolinecolor\": \"white\", \"zerolinewidth\": 2}}}, \"width\": 800},                        {\"responsive\": true}                    ).then(function(){\n",
       "                            \n",
       "var gd = document.getElementById('9884dd45-07cc-4fd4-aea7-916b7680325d');\n",
       "var x = new MutationObserver(function (mutations, observer) {{\n",
       "        var display = window.getComputedStyle(gd).display;\n",
       "        if (!display || display === 'none') {{\n",
       "            console.log([gd, 'removed!']);\n",
       "            Plotly.purge(gd);\n",
       "            observer.disconnect();\n",
       "        }}\n",
       "}});\n",
       "\n",
       "// Listen for the removal of the full notebook cells\n",
       "var notebookContainer = gd.closest('#notebook-container');\n",
       "if (notebookContainer) {{\n",
       "    x.observe(notebookContainer, {childList: true});\n",
       "}}\n",
       "\n",
       "// Listen for the clearing of the current output cell\n",
       "var outputEl = gd.closest('.output');\n",
       "if (outputEl) {{\n",
       "    x.observe(outputEl, {childList: true});\n",
       "}}\n",
       "\n",
       "                        })                };                });            </script>        </div>"
      ]
     },
     "metadata": {},
     "output_type": "display_data"
    }
   ],
   "source": [
    "# Creating a 3D-Scatter with the PCA data and the clusters\n",
    "fig = px.scatter_3d(\n",
    "    clustered_df,\n",
    "    x=\"PC1\",\n",
    "    y=\"PC2\",\n",
    "    z=\"PC3\",\n",
    "    color=\"Class\",\n",
    "    symbol=\"Class\",\n",
    "    width=800,\n",
    "    hover_name=\"CoinName\",\n",
    "    hover_data= [\"Algorithm\"]\n",
    ")\n",
    "fig.update_layout(legend=dict(x=0, y=1))\n",
    "#fig.show()\n"
   ]
  },
  {
   "cell_type": "code",
   "execution_count": null,
   "metadata": {},
   "outputs": [],
   "source": [
    "# Create a table with tradable cryptocurrencies.\n",
    "# YOUR CODE HERE"
   ]
  },
  {
   "cell_type": "code",
   "execution_count": null,
   "metadata": {},
   "outputs": [],
   "source": [
    "# Print the total number of tradable cryptocurrencies.\n",
    "# YOUR CODE HERE"
   ]
  },
  {
   "cell_type": "code",
   "execution_count": null,
   "metadata": {},
   "outputs": [],
   "source": [
    "# Scaling data to create the scatter plot with tradable cryptocurrencies.\n",
    "# YOUR CODE HERE"
   ]
  },
  {
   "cell_type": "code",
   "execution_count": null,
   "metadata": {},
   "outputs": [],
   "source": [
    "# Create a new DataFrame that has the scaled data with the clustered_df DataFrame index.\n",
    "# YOUR CODE HERE\n",
    "\n",
    "# Add the \"CoinName\" column from the clustered_df DataFrame to the new DataFrame.\n",
    "# YOUR CODE HERE\n",
    "\n",
    "# Add the \"Class\" column from the clustered_df DataFrame to the new DataFrame. \n",
    "# YOUR CODE HERE\n",
    "\n",
    "plot_df.head(10)"
   ]
  },
  {
   "cell_type": "code",
   "execution_count": null,
   "metadata": {},
   "outputs": [],
   "source": [
    "# Create a hvplot.scatter plot using x=\"TotalCoinsMined\" and y=\"TotalCoinSupply\".\n",
    "# YOUR CODE HERE\n"
   ]
  },
  {
   "cell_type": "code",
   "execution_count": null,
   "metadata": {},
   "outputs": [],
   "source": []
  }
 ],
 "metadata": {
  "file_extension": ".py",
  "kernelspec": {
   "display_name": "mlenv",
   "language": "python",
   "name": "mlenv"
  },
  "language_info": {
   "codemirror_mode": {
    "name": "ipython",
    "version": 3
   },
   "file_extension": ".py",
   "mimetype": "text/x-python",
   "name": "python",
   "nbconvert_exporter": "python",
   "pygments_lexer": "ipython3",
   "version": "3.8.5"
  },
  "latex_envs": {
   "LaTeX_envs_menu_present": true,
   "autoclose": false,
   "autocomplete": true,
   "bibliofile": "biblio.bib",
   "cite_by": "apalike",
   "current_citInitial": 1,
   "eqLabelWithNumbers": true,
   "eqNumInitial": 1,
   "hotkeys": {
    "equation": "Ctrl-E",
    "itemize": "Ctrl-I"
   },
   "labels_anchors": false,
   "latex_user_defs": false,
   "report_style_numbering": false,
   "user_envs_cfg": false
  },
  "mimetype": "text/x-python",
  "name": "python",
  "npconvert_exporter": "python",
  "pygments_lexer": "ipython3",
  "version": 3
 },
 "nbformat": 4,
 "nbformat_minor": 2
}
